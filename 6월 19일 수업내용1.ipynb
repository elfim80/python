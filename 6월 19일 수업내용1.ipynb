{
 "cells": [
  {
   "cell_type": "markdown",
   "metadata": {},
   "source": [
    "# 교재 unit 6: 기온 데이터를 다양하게 시각화하기(p77)"
   ]
  },
  {
   "cell_type": "code",
   "execution_count": 5,
   "metadata": {},
   "outputs": [
    {
     "data": {
      "text/plain": [
       "array([2, 1, 4, 4, 1, 3, 3, 4, 1, 2])"
      ]
     },
     "execution_count": 5,
     "metadata": {},
     "output_type": "execute_result"
    }
   ],
   "source": [
    "# p78 히스토그램\n",
    "import matplotlib.pyplot as plt\n",
    "import numpy as np\n",
    "x = np.random.randint(1,5, size=(10))\n",
    "x"
   ]
  },
  {
   "cell_type": "code",
   "execution_count": 6,
   "metadata": {},
   "outputs": [
    {
     "data": {
      "text/plain": [
       "((array([3., 0., 0., 2., 0., 0., 2., 0., 0., 3.]),\n",
       "  array([1. , 1.3, 1.6, 1.9, 2.2, 2.5, 2.8, 3.1, 3.4, 3.7, 4. ]),\n",
       "  <a list of 10 Patch objects>),\n",
       " [<matplotlib.lines.Line2D at 0x176d3782d68>])"
      ]
     },
     "execution_count": 6,
     "metadata": {},
     "output_type": "execute_result"
    },
    {
     "data": {
      "image/png": "[encoded data removed]",
      "text/plain": [
       "<Figure size 432x288 with 1 Axes>"
      ]
     },
     "metadata": {
      "needs_background": "light"
     },
     "output_type": "display_data"
    }
   ],
   "source": [
    "plt.hist(x), plt.plot(x)"
   ]
  },
  {
   "cell_type": "code",
   "execution_count": 14,
   "metadata": {},
   "outputs": [
    {
     "data": {
      "text/plain": [
       "array([2, 1, 1, 3, 6, 6, 3, 1, 2, 3, 2, 2, 2, 1, 3, 1, 6, 3, 3, 2, 4, 6,\n",
       "       1, 3, 2, 1, 1, 3, 4, 3, 5, 2, 5, 3, 5, 6, 5, 1, 2, 2, 6, 5, 4, 5,\n",
       "       5, 2, 6, 1, 1, 6, 3, 2, 2, 5, 3, 5, 2, 1, 1, 6, 3, 2, 1, 4, 4, 2,\n",
       "       5, 3, 2, 5, 6, 4, 1, 6, 4, 6, 3, 5, 5, 4, 2, 3, 5, 4, 6, 4, 5, 5,\n",
       "       2, 4, 5, 5, 1, 5, 5, 4, 5, 2, 2, 6, 2, 3, 3, 5, 6, 4, 5, 6, 4, 6,\n",
       "       6, 5, 3, 3, 2, 2, 6, 5, 4, 1, 4, 6, 2, 1, 2, 3, 5, 1, 4, 2, 6, 4,\n",
       "       1, 2, 6, 4, 2, 6, 3, 5, 2, 4, 6, 6, 1, 4, 2, 4, 1, 5, 4, 6, 3, 6,\n",
       "       1, 2, 2, 1, 4, 5, 6, 6, 2, 1, 6, 2, 3, 3, 2, 4, 6, 1, 5, 3, 6, 1,\n",
       "       5, 4, 1, 5, 1, 1, 5, 6, 3, 6, 2, 1, 1, 4, 1, 5, 4, 3, 5, 6, 6, 3,\n",
       "       6, 5, 6, 6, 4, 4, 3, 5, 2, 5, 6, 4, 6, 6, 2, 3, 3, 2, 2, 6, 4, 2,\n",
       "       2, 6, 1, 1, 6, 3, 1, 2, 1, 5, 2, 5, 2, 2, 3, 6, 1, 4, 3, 4, 6, 5,\n",
       "       4, 1, 3, 1, 6, 5, 2, 3, 3, 3, 5, 6, 6, 2, 6, 5, 6, 6, 1, 5, 2, 5,\n",
       "       5, 5, 5, 2, 1, 6, 4, 2, 2, 6, 4, 5, 2, 4, 1, 3, 2, 2, 4, 4, 3, 6,\n",
       "       2, 3, 2, 6, 6, 5, 5, 3, 6, 6, 1, 5, 2, 1, 2, 2, 5, 3, 4, 2, 1, 4,\n",
       "       6, 3, 4, 4, 4, 2, 3, 1, 4, 4, 2, 4, 1, 1, 5, 3, 1, 6, 2, 5, 6, 6,\n",
       "       4, 1, 4, 5, 3, 5, 3, 6, 5, 1, 6, 4, 6, 1, 4, 5, 3, 1, 2, 3, 5, 1,\n",
       "       5, 3, 2, 1, 5, 3, 4, 2, 4, 5, 4, 2, 3, 6, 2, 3, 5, 6, 2, 3, 1, 3,\n",
       "       4, 4, 1, 5, 3, 4, 6, 3, 2, 6, 2, 3, 2, 1, 3, 6, 3, 2, 1, 5, 1, 5,\n",
       "       6, 5, 5, 2, 1, 2, 3, 2, 6, 5, 4, 6, 6, 3, 1, 3, 2, 2, 1, 5, 2, 6,\n",
       "       1, 3, 2, 4, 2, 6, 2, 4, 3, 4, 2, 4, 4, 2, 1, 2, 6, 5, 3, 1, 3, 5,\n",
       "       4, 6, 4, 6, 1, 4, 1, 5, 1, 1, 6, 4, 2, 4, 6, 6, 6, 3, 3, 4, 5, 2,\n",
       "       4, 2, 3, 5, 1, 1, 5, 2, 6, 3, 2, 3, 2, 1, 2, 2, 1, 2, 6, 1, 5, 6,\n",
       "       3, 1, 4, 5, 2, 1, 5, 2, 3, 5, 6, 1, 4, 1, 3, 3, 1, 6, 4, 3, 1, 6,\n",
       "       6, 1, 4, 4, 3, 2, 3, 2, 4, 1, 1, 6, 1, 3, 3, 4, 5, 1, 6, 1, 2, 3,\n",
       "       5, 1, 3, 4, 2, 3, 2, 4, 1, 1, 2, 3, 6, 3, 1, 2, 3, 5, 3, 1, 3, 3,\n",
       "       3, 1, 1, 6, 5, 5, 2, 4, 6, 1, 3, 2, 2, 2, 4, 5, 2, 6, 6, 4, 1, 5,\n",
       "       6, 2, 4, 3, 6, 4, 5, 5, 1, 5, 4, 3, 1, 4, 1, 5, 1, 3, 1, 2, 6, 5,\n",
       "       2, 2, 2, 4, 4, 4, 4, 4, 2, 5, 5, 3, 6, 6, 5, 5, 4, 1, 2, 6, 3, 3,\n",
       "       3, 6, 6, 5, 2, 3, 5, 1, 3, 1, 4, 5, 4, 2, 5, 3, 1, 1, 2, 6, 6, 3,\n",
       "       2, 4, 3, 3, 2, 6, 1, 3, 6, 6, 1, 4, 4, 5, 1, 2, 5, 1, 5, 2, 6, 2,\n",
       "       5, 1, 1, 1, 4, 4, 4, 2, 5, 1, 1, 5, 2, 6, 1, 3, 2, 6, 1, 6, 2, 2,\n",
       "       6, 5, 5, 3, 5, 5, 3, 3, 3, 6, 1, 3, 5, 3, 4, 3, 3, 6, 6, 5, 3, 1,\n",
       "       4, 4, 2, 1, 2, 5, 3, 5, 2, 5, 1, 2, 1, 4, 2, 5, 3, 3, 4, 6, 4, 1,\n",
       "       4, 6, 1, 4, 4, 3, 5, 4, 2, 4, 2, 5, 6, 3, 2, 3, 6, 2, 1, 6, 4, 1,\n",
       "       3, 1, 5, 5, 2, 5, 6, 5, 4, 5, 3, 2, 4, 1, 2, 2, 5, 2, 1, 2, 2, 3,\n",
       "       4, 5, 2, 5, 3, 6, 5, 2, 3, 5, 1, 1, 5, 2, 4, 2, 3, 4, 6, 6, 6, 1,\n",
       "       1, 4, 4, 2, 2, 6, 5, 4, 5, 2, 1, 6, 6, 4, 3, 5, 2, 4, 5, 4, 5, 1,\n",
       "       3, 6, 5, 3, 2, 6, 2, 2, 1, 4, 2, 5, 6, 2, 2, 2, 1, 2, 2, 3, 5, 6,\n",
       "       4, 3, 6, 3, 4, 1, 6, 3, 1, 3, 2, 4, 2, 2, 6, 6, 2, 3, 6, 2, 4, 6,\n",
       "       6, 1, 1, 1, 4, 4, 3, 2, 2, 3, 5, 1, 2, 6, 2, 4, 6, 1, 1, 3, 6, 2,\n",
       "       6, 6, 4, 1, 5, 2, 6, 6, 5, 6, 1, 1, 1, 3, 2, 6, 1, 3, 2, 6, 2, 1,\n",
       "       4, 6, 4, 5, 2, 2, 3, 5, 1, 6, 4, 2, 4, 5, 4, 6, 2, 6, 6, 2, 6, 2,\n",
       "       3, 3, 6, 1, 6, 2, 5, 2, 2, 6, 2, 1, 5, 6, 1, 6, 6, 1, 1, 2, 1, 5,\n",
       "       6, 3, 1, 1, 2, 4, 5, 3, 3, 5, 1, 4, 4, 5, 2, 5, 3, 5, 1, 4, 1, 5,\n",
       "       5, 5, 2, 2, 3, 2, 4, 5, 1, 4, 6, 1, 2, 5, 3, 1, 6, 6, 3, 4, 3, 2,\n",
       "       5, 3, 4, 5, 3, 3, 5, 1, 2, 5])"
      ]
     },
     "execution_count": 14,
     "metadata": {},
     "output_type": "execute_result"
    }
   ],
   "source": [
    "# 천번의 주사위 던지기 기록을 생성합니다.\n",
    "x = np.random.randint(low=1, high=7, size=(1000))\n",
    "x"
   ]
  },
  {
   "cell_type": "code",
   "execution_count": 17,
   "metadata": {},
   "outputs": [
    {
     "data": {
      "text/plain": [
       "(array([168.,   0., 196.,   0., 158.,   0., 146.,   0., 162., 170.]),\n",
       " array([1. , 1.5, 2. , 2.5, 3. , 3.5, 4. , 4.5, 5. , 5.5, 6. ]),\n",
       " <a list of 10 Patch objects>)"
      ]
     },
     "execution_count": 17,
     "metadata": {},
     "output_type": "execute_result"
    },
    {
     "data": {
      "image/png": "[encoded data removed]",
      "text/plain": [
       "<Figure size 216x86.4 with 1 Axes>"
      ]
     },
     "metadata": {
      "needs_background": "light"
     },
     "output_type": "display_data"
    }
   ],
   "source": [
    "plt.figure(figsize=(3,1.2))\n",
    "plt.hist(x)"
   ]
  },
  {
   "cell_type": "code",
   "execution_count": 19,
   "metadata": {},
   "outputs": [
    {
     "data": {
      "text/plain": [
       "(array([168., 196., 158., 146., 162., 170.]),\n",
       " array([1.        , 1.83333333, 2.66666667, 3.5       , 4.33333333,\n",
       "        5.16666667, 6.        ]),\n",
       " <a list of 6 Patch objects>)"
      ]
     },
     "execution_count": 19,
     "metadata": {},
     "output_type": "execute_result"
    },
    {
     "data": {
      "image/png": "[encoded data removed]",
      "text/plain": [
       "<Figure size 216x86.4 with 1 Axes>"
      ]
     },
     "metadata": {
      "needs_background": "light"
     },
     "output_type": "display_data"
    }
   ],
   "source": [
    "plt.figure(figsize=(3,1.2))\n",
    "plt.hist(x, bins=6) # 6개의 막대로 표현하기"
   ]
  },
  {
   "cell_type": "code",
   "execution_count": 67,
   "metadata": {},
   "outputs": [],
   "source": [
    "# 교재 p82 ~ 서울 기온 데이터를 히스토그램으로 표현하기\n",
    "import csv"
   ]
  },
  {
   "cell_type": "code",
   "execution_count": 68,
   "metadata": {},
   "outputs": [
    {
     "data": {
      "text/plain": [
       "<_io.TextIOWrapper name='seoul.csv' mode='r' encoding='cp949'>"
      ]
     },
     "execution_count": 68,
     "metadata": {},
     "output_type": "execute_result"
    }
   ],
   "source": [
    "f = open('seoul.csv')\n",
    "f"
   ]
  },
  {
   "cell_type": "code",
   "execution_count": 69,
   "metadata": {},
   "outputs": [
    {
     "data": {
      "text/plain": [
       "['날짜', '지점', '평균기온(℃)', '최저기온(℃)', '최고기온(℃)']"
      ]
     },
     "execution_count": 69,
     "metadata": {},
     "output_type": "execute_result"
    }
   ],
   "source": [
    "data=csv.reader(f)\n",
    "next(data)"
   ]
  },
  {
   "cell_type": "code",
   "execution_count": 70,
   "metadata": {},
   "outputs": [],
   "source": [
    "# 6월 19일 최고기온 담기\n",
    "june_19 = [] # data를 담기 위해 비어 있는 리스트를 준비\n",
    "# 8월과 1월의 최고기온 히스토그램을 동시에 그리시오\n",
    "jan = []\n",
    "aug = [] # data를 담기 위해 비어 있는 리스트를 준비\n",
    "\n",
    "#누락된 기온 ''\n",
    "for row in data : # 한줄 한줄 꺼낸다.\n",
    "    if row[-1] != '' : # 누락된 data가 없으면 result에 추가        \n",
    "        if row[0].split('-')[1] == '01': # 1월            \n",
    "            jan.append(float(row[-1]))  # 최고기온, 문자열이므로 실수로 변환저장\n",
    "        if row[0].split('-')[1] == '08': # 8월            \n",
    "            aug.append(float(row[-1]))  # 최고기온, 문자열이므로 실수로 변환저장\n",
    "        if row[0].split('-')[1] == '06': # 6월\n",
    "            if row[0].split('-')[2] == '19':#19일\n",
    "                june_19.append(float(row[-1]))  # 최고기온, 문자열이므로 실수로 변환저장"
   ]
  },
  {
   "cell_type": "code",
   "execution_count": 71,
   "metadata": {},
   "outputs": [],
   "source": [
    "#plt.figure(figsize=(4,2))\n",
    "#plt.plot(result)"
   ]
  },
  {
   "cell_type": "code",
   "execution_count": 72,
   "metadata": {},
   "outputs": [
    {
     "data": {
      "text/plain": [
       "Text(0.5, 1.0, '6.19')"
      ]
     },
     "execution_count": 72,
     "metadata": {},
     "output_type": "execute_result"
    },
    {
     "data": {
      "image/png": "[encoded data removed]",
      "text/plain": [
       "<Figure size 288x144 with 1 Axes>"
      ]
     },
     "metadata": {
      "needs_background": "light"
     },
     "output_type": "display_data"
    }
   ],
   "source": [
    "plt.figure(figsize=(4,2))\n",
    "n = plt.hist(june_19, bins=100, color='r', label='6.19')  # 6월 19일 최고기온\n",
    "plt.legend()\n",
    "plt.title('6.19')"
   ]
  },
  {
   "cell_type": "code",
   "execution_count": 73,
   "metadata": {},
   "outputs": [
    {
     "data": {
      "text/plain": [
       "Text(0.5, 1.0, 'Jan & Aug')"
      ]
     },
     "execution_count": 73,
     "metadata": {},
     "output_type": "execute_result"
    },
    {
     "data": {
      "image/png": "[encoded data removed]",
      "text/plain": [
       "<Figure size 288x144 with 1 Axes>"
      ]
     },
     "metadata": {
      "needs_background": "light"
     },
     "output_type": "display_data"
    }
   ],
   "source": [
    "plt.figure(figsize=(4,2))\n",
    "n = plt.hist(jan, bins=100, color='b', label='Jan')  # 1월 최고기온\n",
    "n = plt.hist(aug, bins=100, color='r', label='Aug')  # 8월 최고기온\n",
    "plt.legend()\n",
    "plt.title('Jan & Aug')"
   ]
  },
  {
   "cell_type": "code",
   "execution_count": null,
   "metadata": {},
   "outputs": [],
   "source": []
  },
  {
   "cell_type": "code",
   "execution_count": 81,
   "metadata": {},
   "outputs": [
    {
     "data": {
      "text/plain": [
       "['날짜', '지점', '평균기온(℃)', '최저기온(℃)', '최고기온(℃)']"
      ]
     },
     "execution_count": 81,
     "metadata": {},
     "output_type": "execute_result"
    }
   ],
   "source": [
    "f = open('seoul.csv') # p29\n",
    "data = csv.reader(f)  # P83\n",
    "next(data)"
   ]
  },
  {
   "cell_type": "code",
   "execution_count": 82,
   "metadata": {},
   "outputs": [
    {
     "data": {
      "text/plain": [
       "40365"
      ]
     },
     "execution_count": 82,
     "metadata": {},
     "output_type": "execute_result"
    }
   ],
   "source": [
    "rows = []\n",
    "for row in data :\n",
    "    rows.append(row)\n",
    "len(rows)"
   ]
  },
  {
   "cell_type": "code",
   "execution_count": 88,
   "metadata": {},
   "outputs": [
    {
     "data": {
      "text/plain": [
       "(5.7272727272727275, 4.0)"
      ]
     },
     "execution_count": 88,
     "metadata": {},
     "output_type": "execute_result"
    }
   ],
   "source": [
    "# 상자 그림 (box plot) P86\n",
    "x = np.array([1,2,3,4,10,11,12,20, -10, 30, -20])\n",
    "np.mean(x), np.median(x)"
   ]
  },
  {
   "cell_type": "code",
   "execution_count": 89,
   "metadata": {},
   "outputs": [
    {
     "data": {
      "image/png": "[encoded data removed]",
      "text/plain": [
       "<Figure size 432x288 with 1 Axes>"
      ]
     },
     "metadata": {
      "needs_background": "light"
     },
     "output_type": "display_data"
    }
   ],
   "source": [
    "n = plt.boxplot(x)  # 데이터를 정규분포로 표현했을 때 그 범위를 벗어나면 이상치"
   ]
  },
  {
   "cell_type": "code",
   "execution_count": 91,
   "metadata": {},
   "outputs": [
    {
     "data": {
      "image/png": "[encoded data removed]",
      "text/plain": [
       "<Figure size 432x288 with 1 Axes>"
      ]
     },
     "metadata": {
      "needs_background": "light"
     },
     "output_type": "display_data"
    }
   ],
   "source": [
    "n = plt.boxplot(june_19)"
   ]
  },
  {
   "cell_type": "code",
   "execution_count": 93,
   "metadata": {},
   "outputs": [
    {
     "data": {
      "image/png": "[encoded data removed]",
      "text/plain": [
       "<Figure size 432x288 with 1 Axes>"
      ]
     },
     "metadata": {
      "needs_background": "light"
     },
     "output_type": "display_data"
    }
   ],
   "source": [
    "n = plt.boxplot(jan)\n",
    "n = plt.boxplot(aug)"
   ]
  },
  {
   "cell_type": "code",
   "execution_count": 94,
   "metadata": {},
   "outputs": [
    {
     "data": {
      "image/png": "[encoded data removed]",
      "text/plain": [
       "<Figure size 432x288 with 1 Axes>"
      ]
     },
     "metadata": {
      "needs_background": "light"
     },
     "output_type": "display_data"
    }
   ],
   "source": [
    "n = plt.boxplot([jan, aug])"
   ]
  },
  {
   "cell_type": "code",
   "execution_count": 133,
   "metadata": {},
   "outputs": [],
   "source": [
    "# 1~12의 최고기온을 박스 그림으로 표현(p91~92)\n",
    "\n",
    "import pandas as pd\n",
    "data = pd.read_csv('seoul.csv', encoding='cp949')\n",
    "data = data.dropna()  # 전처리 : Nat data를 Drop함: 누락된 값이 있으면 그 행은 버림\n",
    "#data.head()           # 상단 5건만 보여줌"
   ]
  },
  {
   "cell_type": "code",
   "execution_count": 137,
   "metadata": {},
   "outputs": [
    {
     "data": {
      "text/plain": [
       "((39607, 5),\n",
       " array(['1907-10-01', 108, 13.5, 7.9, 20.7], dtype=object),\n",
       " 661885.8999999912,\n",
       " 39607,\n",
       " 12)"
      ]
     },
     "execution_count": 137,
     "metadata": {},
     "output_type": "execute_result"
    }
   ],
   "source": [
    "# 월별 데이터를 저장할 리스트 month 생성(12)\n",
    "month = []\n",
    "\n",
    "for i in range(12):\n",
    "    month.append([])\n",
    "    \n",
    "x = np.array(data) # 배열에 데이터를 담음\n",
    "x.shape, x[0], sum(x[:, -1]), len(x), len(month)"
   ]
  },
  {
   "cell_type": "code",
   "execution_count": 135,
   "metadata": {
    "scrolled": false
   },
   "outputs": [
    {
     "ename": "TypeError",
     "evalue": "'list' object is not callable",
     "output_type": "error",
     "traceback": [
      "\u001b[1;31m---------------------------------------------------------------------------\u001b[0m",
      "\u001b[1;31mTypeError\u001b[0m                                 Traceback (most recent call last)",
      "\u001b[1;32m<ipython-input-135-9fe4401430c3>\u001b[0m in \u001b[0;36m<module>\u001b[1;34m\u001b[0m\n\u001b[0;32m      6\u001b[0m     \u001b[0mmon\u001b[0m \u001b[1;33m=\u001b[0m \u001b[0mdate\u001b[0m\u001b[1;33m.\u001b[0m\u001b[0msplit\u001b[0m\u001b[1;33m(\u001b[0m\u001b[1;34m'-'\u001b[0m\u001b[1;33m)\u001b[0m\u001b[1;33m[\u001b[0m\u001b[1;36m1\u001b[0m\u001b[1;33m]\u001b[0m\u001b[1;33m\u001b[0m\u001b[1;33m\u001b[0m\u001b[0m\n\u001b[0;32m      7\u001b[0m     \u001b[1;31m# 1월은 0번째 위치에 저장해야 하므로 mon -1\u001b[0m\u001b[1;33m\u001b[0m\u001b[1;33m\u001b[0m\u001b[1;33m\u001b[0m\u001b[0m\n\u001b[1;32m----> 8\u001b[1;33m     \u001b[0mmonth\u001b[0m\u001b[1;33m[\u001b[0m\u001b[0mint\u001b[0m\u001b[1;33m(\u001b[0m\u001b[0mmon\u001b[0m\u001b[1;33m)\u001b[0m\u001b[1;33m-\u001b[0m\u001b[1;36m1\u001b[0m\u001b[1;33m]\u001b[0m\u001b[1;33m.\u001b[0m\u001b[0mappend\u001b[0m\u001b[1;33m(\u001b[0m\u001b[0mhigh\u001b[0m\u001b[1;33m)\u001b[0m\u001b[1;33m\u001b[0m\u001b[1;33m\u001b[0m\u001b[0m\n\u001b[0m",
      "\u001b[1;31mTypeError\u001b[0m: 'list' object is not callable"
     ]
    }
   ],
   "source": [
    "# 탐색적 프로그래밍 : 데이타를 보면서 찾으면서 코딩을 함\n",
    "for i in range(len(x)) :\n",
    "    row = x[i]\n",
    "    date = row[0]\n",
    "    high = row[-1]\n",
    "    mon = date.split('-')[1]    \n",
    "    # 1월은 0번째 위치에 저장해야 하므로 mon -1    \n",
    "    month[int(mon)-1].append(high)"
   ]
  },
  {
   "cell_type": "code",
   "execution_count": 122,
   "metadata": {},
   "outputs": [
    {
     "data": {
      "image/png": "[encoded data removed]",
      "text/plain": [
       "<Figure size 360x79.2 with 1 Axes>"
      ]
     },
     "metadata": {
      "needs_background": "light"
     },
     "output_type": "display_data"
    }
   ],
   "source": [
    "plt.figure(figsize=(5,1.1))\n",
    "m = plt.boxplot(month)"
   ]
  },
  {
   "cell_type": "code",
   "execution_count": null,
   "metadata": {},
   "outputs": [],
   "source": []
  }
 ],
 "metadata": {
  "kernelspec": {
   "display_name": "Python 3",
   "language": "python",
   "name": "python3"
  },
  "language_info": {
   "codemirror_mode": {
    "name": "ipython",
    "version": 3
   },
   "file_extension": ".py",
   "mimetype": "text/x-python",
   "name": "python",
   "nbconvert_exporter": "python",
   "pygments_lexer": "ipython3",
   "version": "3.7.3"
  }
 },
 "nbformat": 4,
 "nbformat_minor": 2
}
