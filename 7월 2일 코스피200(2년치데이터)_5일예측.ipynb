{
 "cells": [
  {
   "cell_type": "code",
   "execution_count": 2,
   "metadata": {},
   "outputs": [],
   "source": [
    "import numpy as np\n",
    "import pandas as pd\n",
    "import matplotlib.pyplot as plt"
   ]
  },
  {
   "cell_type": "code",
   "execution_count": 3,
   "metadata": {},
   "outputs": [],
   "source": [
    "url = 'KOSPI 200 과거 금리 - Investing.com.html'\n",
    "tables = pd.read_html(url, encoding='cp949', index_col=0) # 1번째 컬럼이 index다."
   ]
  },
  {
   "cell_type": "code",
   "execution_count": 4,
   "metadata": {},
   "outputs": [
    {
     "data": {
      "text/plain": [
       "13"
      ]
     },
     "execution_count": 4,
     "metadata": {},
     "output_type": "execute_result"
    }
   ],
   "source": [
    "len(tables)"
   ]
  },
  {
   "cell_type": "code",
   "execution_count": 5,
   "metadata": {},
   "outputs": [],
   "source": [
    "df = tables[0]"
   ]
  },
  {
   "cell_type": "code",
   "execution_count": 6,
   "metadata": {},
   "outputs": [
    {
     "data": {
      "text/html": [
       "<div>\n",
       "<style scoped>\n",
       "    .dataframe tbody tr th:only-of-type {\n",
       "        vertical-align: middle;\n",
       "    }\n",
       "\n",
       "    .dataframe tbody tr th {\n",
       "        vertical-align: top;\n",
       "    }\n",
       "\n",
       "    .dataframe thead th {\n",
       "        text-align: right;\n",
       "    }\n",
       "</style>\n",
       "<table border=\"1\" class=\"dataframe\">\n",
       "  <thead>\n",
       "    <tr style=\"text-align: right;\">\n",
       "      <th></th>\n",
       "      <th>현재가</th>\n",
       "      <th>오픈</th>\n",
       "      <th>고가</th>\n",
       "      <th>저가</th>\n",
       "      <th>거래량</th>\n",
       "      <th>변동 %</th>\n",
       "    </tr>\n",
       "    <tr>\n",
       "      <th>날짜</th>\n",
       "      <th></th>\n",
       "      <th></th>\n",
       "      <th></th>\n",
       "      <th></th>\n",
       "      <th></th>\n",
       "      <th></th>\n",
       "    </tr>\n",
       "  </thead>\n",
       "  <tbody>\n",
       "    <tr>\n",
       "      <th>2019년 07월 02일</th>\n",
       "      <td>275.97</td>\n",
       "      <td>276.06</td>\n",
       "      <td>277.46</td>\n",
       "      <td>274.63</td>\n",
       "      <td>64.74K</td>\n",
       "      <td>-0.47%</td>\n",
       "    </tr>\n",
       "    <tr>\n",
       "      <th>2019년 07월 01일</th>\n",
       "      <td>277.27</td>\n",
       "      <td>279.59</td>\n",
       "      <td>279.68</td>\n",
       "      <td>276.85</td>\n",
       "      <td>73.43K</td>\n",
       "      <td>-0.08%</td>\n",
       "    </tr>\n",
       "    <tr>\n",
       "      <th>2019년 06월 28일</th>\n",
       "      <td>277.50</td>\n",
       "      <td>278.03</td>\n",
       "      <td>278.56</td>\n",
       "      <td>276.58</td>\n",
       "      <td>67.60M</td>\n",
       "      <td>-0.09%</td>\n",
       "    </tr>\n",
       "    <tr>\n",
       "      <th>2019년 06월 27일</th>\n",
       "      <td>277.75</td>\n",
       "      <td>275.47</td>\n",
       "      <td>278.63</td>\n",
       "      <td>275.09</td>\n",
       "      <td>66.30M</td>\n",
       "      <td>0.81%</td>\n",
       "    </tr>\n",
       "    <tr>\n",
       "      <th>2019년 06월 26일</th>\n",
       "      <td>275.53</td>\n",
       "      <td>275.21</td>\n",
       "      <td>276.36</td>\n",
       "      <td>274.66</td>\n",
       "      <td>58.82M</td>\n",
       "      <td>0.09%</td>\n",
       "    </tr>\n",
       "  </tbody>\n",
       "</table>\n",
       "</div>"
      ],
      "text/plain": [
       "                  현재가      오픈      고가      저가     거래량    변동 %\n",
       "날짜                                                           \n",
       "2019년 07월 02일  275.97  276.06  277.46  274.63  64.74K  -0.47%\n",
       "2019년 07월 01일  277.27  279.59  279.68  276.85  73.43K  -0.08%\n",
       "2019년 06월 28일  277.50  278.03  278.56  276.58  67.60M  -0.09%\n",
       "2019년 06월 27일  277.75  275.47  278.63  275.09  66.30M   0.81%\n",
       "2019년 06월 26일  275.53  275.21  276.36  274.66  58.82M   0.09%"
      ]
     },
     "execution_count": 6,
     "metadata": {},
     "output_type": "execute_result"
    }
   ],
   "source": [
    "df.head()"
   ]
  },
  {
   "cell_type": "code",
   "execution_count": 7,
   "metadata": {},
   "outputs": [
    {
     "name": "stdout",
     "output_type": "stream",
     "text": [
      "<class 'pandas.core.frame.DataFrame'>\n",
      "Index: 488 entries, 2019년 07월 02일 to 2017년 07월 03일\n",
      "Data columns (total 6 columns):\n",
      "현재가     488 non-null float64\n",
      "오픈      488 non-null float64\n",
      "고가      488 non-null float64\n",
      "저가      488 non-null float64\n",
      "거래량     488 non-null object\n",
      "변동 %    488 non-null object\n",
      "dtypes: float64(4), object(2)\n",
      "memory usage: 26.7+ KB\n"
     ]
    }
   ],
   "source": [
    "df.info()"
   ]
  },
  {
   "cell_type": "code",
   "execution_count": 8,
   "metadata": {},
   "outputs": [],
   "source": [
    "현재가 = df['현재가']"
   ]
  },
  {
   "cell_type": "code",
   "execution_count": 9,
   "metadata": {},
   "outputs": [
    {
     "data": {
      "text/plain": [
       "(488,)"
      ]
     },
     "execution_count": 9,
     "metadata": {},
     "output_type": "execute_result"
    }
   ],
   "source": [
    "현재가.shape"
   ]
  },
  {
   "cell_type": "code",
   "execution_count": 10,
   "metadata": {},
   "outputs": [],
   "source": [
    "window_weak = 4\n",
    "window_day = window_weak * 5 # 20일\n",
    "predict_day = 5"
   ]
  },
  {
   "cell_type": "markdown",
   "metadata": {},
   "source": [
    "X, Y 갯수 체크\n",
    "- 데이터가 30개 있으면? 20개로부터 5일 예측하므로 (20+5)=1샘플, 총 6샘플\n",
    "  - 참조해야할일 : window_day(1주에 5일 * 4주) = 20일\n",
    "  - 예측일 : predict_day = 5\n",
    "  - 샘플 생성 수식 :  len(df2) - (predict_day + window_day -1)\n",
    "  - 30 - (5 + 20 -1) = 6\n",
    "  - 1샘플 : 1~20 + 21~25, 2샘플 : 2~21 + 22~26, 3샘플 : 3~22 + 23~27, 6샘플: 6~25 + 26~30\n",
    "- 현재 데이터 488개 샘플, 총 464쌍의 X,Y를 만들어야 합니다.\n",
    "  - 샘플 생성 수식 :  len(df2) - (predict_day + window_day -1)\n",
    "  - 488 - (5 + 20 -1) = 464\n",
    "  - X[464, 2 * 20]"
   ]
  },
  {
   "cell_type": "code",
   "execution_count": 11,
   "metadata": {},
   "outputs": [
    {
     "data": {
      "text/plain": [
       "(24, 464)"
      ]
     },
     "execution_count": 11,
     "metadata": {},
     "output_type": "execute_result"
    }
   ],
   "source": [
    "offset = window_day+predict_day-1\n",
    "offset, len(현재가)-offset"
   ]
  },
  {
   "cell_type": "code",
   "execution_count": 12,
   "metadata": {},
   "outputs": [
    {
     "data": {
      "text/plain": [
       "(483,)"
      ]
     },
     "execution_count": 12,
     "metadata": {},
     "output_type": "execute_result"
    }
   ],
   "source": [
    "before = 현재가.iloc[:-predict_day] # 최근 데이터 5개 빼고\n",
    "before.shape"
   ]
  },
  {
   "cell_type": "code",
   "execution_count": 13,
   "metadata": {},
   "outputs": [
    {
     "data": {
      "text/plain": [
       "(468,)"
      ]
     },
     "execution_count": 13,
     "metadata": {},
     "output_type": "execute_result"
    }
   ],
   "source": [
    "later = 현재가.iloc[window_day:] # 과거 데이터 20개 빼고\n",
    "later.shape"
   ]
  },
  {
   "cell_type": "code",
   "execution_count": 14,
   "metadata": {},
   "outputs": [
    {
     "data": {
      "text/plain": [
       "464"
      ]
     },
     "execution_count": 14,
     "metadata": {},
     "output_type": "execute_result"
    }
   ],
   "source": [
    "m = len(현재가) - (predict_day + window_day -1)\n",
    "m"
   ]
  },
  {
   "cell_type": "code",
   "execution_count": 15,
   "metadata": {},
   "outputs": [],
   "source": [
    "x_list = []\n",
    "y_list = []\n",
    "for i in range(m):\n",
    "    x = 현재가.iloc[i:i+window_day]  # 20일간의 데이터\n",
    "    y = 현재가.iloc[i+window_day:i+window_day+predict_day]  # 그다음 5일간의 데이터\n",
    "    x_list.append(x.values)         # 날짜 인덱스 빼고 값만 저장\n",
    "    y_list.append(y.values)"
   ]
  },
  {
   "cell_type": "code",
   "execution_count": 16,
   "metadata": {},
   "outputs": [
    {
     "data": {
      "text/plain": [
       "((464, 20), (464, 5))"
      ]
     },
     "execution_count": 16,
     "metadata": {},
     "output_type": "execute_result"
    }
   ],
   "source": [
    "X = np.array(x_list)\n",
    "y = np.array(y_list)\n",
    "X.shape, y.shape  #(m-instance, day, 특징수(달러, 엔화))"
   ]
  },
  {
   "cell_type": "code",
   "execution_count": 17,
   "metadata": {},
   "outputs": [],
   "source": [
    "# 2차원으로 변환\n",
    "X = np.reshape(X,[m, -1])\n",
    "y = np.reshape(y,[m, -1])"
   ]
  },
  {
   "cell_type": "code",
   "execution_count": 18,
   "metadata": {},
   "outputs": [
    {
     "data": {
      "text/plain": [
       "((464, 20), (464, 5))"
      ]
     },
     "execution_count": 18,
     "metadata": {},
     "output_type": "execute_result"
    }
   ],
   "source": [
    "X.shape, y.shape # (달러, 엔화, 달러, 엔화....)"
   ]
  },
  {
   "cell_type": "code",
   "execution_count": 19,
   "metadata": {},
   "outputs": [],
   "source": [
    "# train /test 분리\n",
    "offset = 30 # 테스트셋\n",
    "X_train = X[offset:]\n",
    "X_test = X[:offset]\n",
    "y_train = y[offset:]\n",
    "y_test = y[:offset]"
   ]
  },
  {
   "cell_type": "code",
   "execution_count": 20,
   "metadata": {},
   "outputs": [
    {
     "data": {
      "text/plain": [
       "((434, 20), (30, 20), (434, 5), (30, 5))"
      ]
     },
     "execution_count": 20,
     "metadata": {},
     "output_type": "execute_result"
    }
   ],
   "source": [
    "X_train.shape, X_test.shape, y_train.shape, y_test.shape"
   ]
  },
  {
   "cell_type": "code",
   "execution_count": 21,
   "metadata": {},
   "outputs": [],
   "source": [
    "# 모델 선택, 학습\n",
    "from sklearn.linear_model import LinearRegression, Ridge, Lasso\n",
    "lr = Ridge().fit(X_train, y_train)"
   ]
  },
  {
   "cell_type": "code",
   "execution_count": 22,
   "metadata": {},
   "outputs": [
    {
     "data": {
      "text/plain": [
       "(0.9564470406278675, 0.7752936936256805)"
      ]
     },
     "execution_count": 22,
     "metadata": {},
     "output_type": "execute_result"
    }
   ],
   "source": [
    "# 성능 측정\n",
    "lr.score(X_train, y_train), lr.score(X_test, y_test)"
   ]
  },
  {
   "cell_type": "code",
   "execution_count": 30,
   "metadata": {},
   "outputs": [
    {
     "data": {
      "text/plain": [
       "(5,)"
      ]
     },
     "execution_count": 30,
     "metadata": {},
     "output_type": "execute_result"
    }
   ],
   "source": [
    "# 미래의 5일 환율 예측을 그래프로 시각화\n",
    "최근20일데이터 = 현재가.iloc[-window_day:].values.reshape([1,-1])\n",
    "미래의5일예측 = lr.predict(최근20일데이터)\n",
    "미래의5일예측 = np.reshape(미래의5일예측,predict_day)\n",
    "미래의5일예측.shape"
   ]
  },
  {
   "cell_type": "code",
   "execution_count": 24,
   "metadata": {},
   "outputs": [
    {
     "data": {
      "text/plain": [
       "[<matplotlib.lines.Line2D at 0x2113335db00>]"
      ]
     },
     "execution_count": 24,
     "metadata": {},
     "output_type": "execute_result"
    },
    {
     "data": {
      "image/png": "[encoded data removed]",
      "text/plain": [
       "<Figure size 432x288 with 1 Axes>"
      ]
     },
     "metadata": {
      "needs_background": "light"
     },
     "output_type": "display_data"
    }
   ],
   "source": [
    "# 예측을 그리프로 시각화\n",
    "x_num = np.arange(len(현재가))\n",
    "x1_num = np.arange(len(현재가), len(현재가) + len(미래의5일예측))\n",
    "\n",
    "plt.plot(x_num, 현재가)\n",
    "plt.plot(x1_num, 미래의5일예측, c='red')"
   ]
  },
  {
   "cell_type": "code",
   "execution_count": 25,
   "metadata": {},
   "outputs": [
    {
     "data": {
      "text/plain": [
       "(488,)"
      ]
     },
     "execution_count": 25,
     "metadata": {},
     "output_type": "execute_result"
    }
   ],
   "source": [
    "현재가.shape"
   ]
  },
  {
   "cell_type": "code",
   "execution_count": 26,
   "metadata": {},
   "outputs": [
    {
     "data": {
      "text/plain": [
       "(1, 20)"
      ]
     },
     "execution_count": 26,
     "metadata": {},
     "output_type": "execute_result"
    }
   ],
   "source": [
    "최근20일데이터.shape"
   ]
  },
  {
   "cell_type": "code",
   "execution_count": 28,
   "metadata": {},
   "outputs": [
    {
     "data": {
      "text/plain": [
       "(20,)"
      ]
     },
     "execution_count": 28,
     "metadata": {},
     "output_type": "execute_result"
    }
   ],
   "source": [
    "현재가.iloc[-window_day:].values.shape"
   ]
  },
  {
   "cell_type": "code",
   "execution_count": null,
   "metadata": {},
   "outputs": [],
   "source": []
  }
 ],
 "metadata": {
  "kernelspec": {
   "display_name": "Python 3",
   "language": "python",
   "name": "python3"
  },
  "language_info": {
   "codemirror_mode": {
    "name": "ipython",
    "version": 3
   },
   "file_extension": ".py",
   "mimetype": "text/x-python",
   "name": "python",
   "nbconvert_exporter": "python",
   "pygments_lexer": "ipython3",
   "version": "3.7.3"
  }
 },
 "nbformat": 4,
 "nbformat_minor": 2
}
