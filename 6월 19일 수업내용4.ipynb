{
 "cells": [
  {
   "cell_type": "markdown",
   "metadata": {},
   "source": []
  },
  {
   "cell_type": "code",
   "execution_count": 1,
   "metadata": {},
   "outputs": [],
   "source": [
    "import pandas as pd\n",
    "import numpy as np\n",
    "import matplotlib.pyplot as plt"
   ]
  },
  {
   "cell_type": "code",
   "execution_count": 12,
   "metadata": {},
   "outputs": [
    {
     "data": {
      "text/html": [
       "<div>\n",
       "<style scoped>\n",
       "    .dataframe tbody tr th:only-of-type {\n",
       "        vertical-align: middle;\n",
       "    }\n",
       "\n",
       "    .dataframe tbody tr th {\n",
       "        vertical-align: top;\n",
       "    }\n",
       "\n",
       "    .dataframe thead th {\n",
       "        text-align: right;\n",
       "    }\n",
       "</style>\n",
       "<table border=\"1\" class=\"dataframe\">\n",
       "  <thead>\n",
       "    <tr style=\"text-align: right;\">\n",
       "      <th></th>\n",
       "      <th>사용월</th>\n",
       "      <th>호선명</th>\n",
       "      <th>역ID</th>\n",
       "      <th>지하철역</th>\n",
       "      <th>04:00:00~04:59:59</th>\n",
       "      <th>Unnamed: 5</th>\n",
       "      <th>05:00:00~05:59:59</th>\n",
       "      <th>Unnamed: 7</th>\n",
       "      <th>06:00:00~06:59:59</th>\n",
       "      <th>Unnamed: 9</th>\n",
       "      <th>...</th>\n",
       "      <th>Unnamed: 43</th>\n",
       "      <th>00:00:00~00:59:59</th>\n",
       "      <th>Unnamed: 45</th>\n",
       "      <th>01:00:00~01:59:59</th>\n",
       "      <th>Unnamed: 47</th>\n",
       "      <th>02:00:00~02:59:59</th>\n",
       "      <th>Unnamed: 49</th>\n",
       "      <th>03:00:00~03:59:59</th>\n",
       "      <th>Unnamed: 51</th>\n",
       "      <th>작업일시</th>\n",
       "    </tr>\n",
       "  </thead>\n",
       "  <tbody>\n",
       "    <tr>\n",
       "      <th>1</th>\n",
       "      <td>2019-05</td>\n",
       "      <td>1호선</td>\n",
       "      <td>150.0</td>\n",
       "      <td>서울역</td>\n",
       "      <td>1148</td>\n",
       "      <td>21</td>\n",
       "      <td>11958</td>\n",
       "      <td>10579</td>\n",
       "      <td>15684</td>\n",
       "      <td>61286</td>\n",
       "      <td>...</td>\n",
       "      <td>22083</td>\n",
       "      <td>4127</td>\n",
       "      <td>7762</td>\n",
       "      <td>3</td>\n",
       "      <td>548</td>\n",
       "      <td>0</td>\n",
       "      <td>0</td>\n",
       "      <td>0</td>\n",
       "      <td>0</td>\n",
       "      <td>2019-06-03 10:56:25</td>\n",
       "    </tr>\n",
       "  </tbody>\n",
       "</table>\n",
       "<p>1 rows × 53 columns</p>\n",
       "</div>"
      ],
      "text/plain": [
       "       사용월  호선명    역ID 지하철역 04:00:00~04:59:59 Unnamed: 5 05:00:00~05:59:59  \\\n",
       "1  2019-05  1호선  150.0  서울역              1148         21             11958   \n",
       "\n",
       "  Unnamed: 7 06:00:00~06:59:59 Unnamed: 9  ... Unnamed: 43 00:00:00~00:59:59  \\\n",
       "1      10579             15684      61286  ...       22083              4127   \n",
       "\n",
       "  Unnamed: 45 01:00:00~01:59:59 Unnamed: 47 02:00:00~02:59:59 Unnamed: 49  \\\n",
       "1        7762                 3         548                 0           0   \n",
       "\n",
       "  03:00:00~03:59:59 Unnamed: 51                 작업일시  \n",
       "1                 0           0  2019-06-03 10:56:25  \n",
       "\n",
       "[1 rows x 53 columns]"
      ]
     },
     "execution_count": 12,
     "metadata": {},
     "output_type": "execute_result"
    }
   ],
   "source": [
    "df = pd.read_excel('2019년 05월  교통카드 통계자료.xls', sheet_name=3 , encoding='cp949')\n",
    "#df = df.dropna() # 누락값이 있는 행은 버림\n",
    "df0 = df.drop(0) # 좌측에 0(index) 이라고 써진 행을 버려라\n",
    "df0 = df0.replace(',','',regex=True)\n",
    "df0.head(1)"
   ]
  },
  {
   "cell_type": "markdown",
   "metadata": {},
   "source": [
    "### 출근 시간대에 사람들이 많이 타고 내리는 역은 어딜까?\n",
    " - 출근 시간대는 언제인가? 새벽 ~ 오전9시\n",
    " - 타는 역과 내리는 역\n",
    " - 상위 10개 역 : 정렬해서 큰 수 10개를 자른다.(mask로 조건부 검색)"
   ]
  },
  {
   "cell_type": "code",
   "execution_count": 30,
   "metadata": {},
   "outputs": [
    {
     "data": {
      "text/plain": [
       "(597, 53)"
      ]
     },
     "execution_count": 30,
     "metadata": {},
     "output_type": "execute_result"
    }
   ],
   "source": [
    "출근시간시작위치 = 4\n",
    "출근시간끝위치 = 13\n",
    "arr = np.array(df0)\n",
    "arr.shape"
   ]
  },
  {
   "cell_type": "code",
   "execution_count": 24,
   "metadata": {},
   "outputs": [
    {
     "data": {
      "text/plain": [
       "(162732, 425823)"
      ]
     },
     "execution_count": 24,
     "metadata": {},
     "output_type": "execute_result"
    }
   ],
   "source": [
    "역이름 = arr[:,3]\n",
    "역별승차인원 = arr[:, 출근시간시작위치:출근시간끝위치:2].astype(np.int)\n",
    "역별하차인원 = arr[:, 1+출근시간시작위치:1+출근시간끝위치:2].astype(np.int)\n",
    "역별승차인원합 = np.sum(역별승차인원, axis=1)\n",
    "역별하차인원합 = np.sum(역별하차인원, axis=1)\n",
    "역별승차인원합[0],역별하차인원합[0]"
   ]
  },
  {
   "cell_type": "code",
   "execution_count": 35,
   "metadata": {},
   "outputs": [
    {
     "data": {
      "text/plain": [
       "(382801, 425823)"
      ]
     },
     "execution_count": 35,
     "metadata": {},
     "output_type": "execute_result"
    }
   ],
   "source": [
    "k = 10\n",
    "threshold = np.sort(역별승차인원합)[-k] # 기준값\n",
    "threshold_1 = np.sort(역별하차인원합)[-k] # 기준값\n",
    "threshold, threshold_1"
   ]
  },
  {
   "cell_type": "code",
   "execution_count": 36,
   "metadata": {},
   "outputs": [
    {
     "data": {
      "text/plain": [
       "(array([412219, 454340, 759642, 490300, 444523, 454963, 412919, 382801,\n",
       "        389612, 413462]),\n",
       " array(['잠실(송파구청)', '서울대입구(관악구청)', '신림', '구로디지털단지', '신도림', '연신내', '쌍문',\n",
       "        '수유(강북구청)', '화곡', '까치산'], dtype=object),\n",
       " array([425823, 442470, 522850, 565573, 490141, 561074, 634417, 444935,\n",
       "        449314, 560341]),\n",
       " array(['서울역', '종각', '을지로입구', '삼성(무역센터)', '선릉', '역삼', '강남', '양재(서초구청)',\n",
       "        '광화문(세종문화회관)', '가산디지털단지'], dtype=object))"
      ]
     },
     "execution_count": 36,
     "metadata": {},
     "output_type": "execute_result"
    }
   ],
   "source": [
    "mask = 역별승차인원합 >= threshold\n",
    "mask_1 = 역별하차인원합 >= threshold_1\n",
    "역별승차인원합[mask], 역이름[mask], 역별하차인원합[mask_1], 역이름[mask_1]"
   ]
  },
  {
   "cell_type": "code",
   "execution_count": 33,
   "metadata": {},
   "outputs": [
    {
     "data": {
      "image/png": "[encoded data removed]",
      "text/plain": [
       "<Figure size 432x288 with 1 Axes>"
      ]
     },
     "metadata": {
      "needs_background": "light"
     },
     "output_type": "display_data"
    }
   ],
   "source": [
    "m = plt.plot(np.sort(역별승차인원합))"
   ]
  },
  {
   "cell_type": "code",
   "execution_count": 39,
   "metadata": {},
   "outputs": [
    {
     "data": {
      "image/png": "[encoded data removed]",
      "text/plain": [
       "<Figure size 432x288 with 1 Axes>"
      ]
     },
     "metadata": {
      "needs_background": "light"
     },
     "output_type": "display_data"
    }
   ],
   "source": [
    "plt.rc('font', family='Malgun Gothic')\n",
    "m = plt.barh(역이름[mask], 역별승차인원합[mask])\n",
    "m = plt.barh(역이름[mask_1], -역별하차인원합[mask_1])"
   ]
  },
  {
   "cell_type": "markdown",
   "metadata": {},
   "source": [
    "# 밤 11시에 사람들이 많이 타는 역 10개는 어디일까요?"
   ]
  },
  {
   "cell_type": "code",
   "execution_count": 53,
   "metadata": {},
   "outputs": [],
   "source": [
    "#밤11시시작위치 = -11\n",
    "밤11시역별승차인원 = arr[:, -11].astype(np.int)\n",
    "#밤11시역별승차인원\n",
    "threshold_23 = np.sort(밤11시역별승차인원)[-k] # 기준값"
   ]
  },
  {
   "cell_type": "code",
   "execution_count": 54,
   "metadata": {},
   "outputs": [
    {
     "data": {
      "text/plain": [
       "(array([ 48067,  78429,  48786, 128937,  50264,  42696, 151504,  74678,\n",
       "         55240,  43998]),\n",
       " array(['종각', '건대입구', '잠실(송파구청)', '강남', '사당', '합정', '홍대입구', '신촌', '혜화',\n",
       "        '명동'], dtype=object))"
      ]
     },
     "execution_count": 54,
     "metadata": {},
     "output_type": "execute_result"
    }
   ],
   "source": [
    "mask_23 = 밤11시역별승차인원 >= threshold_23\n",
    "밤11시역별승차인원[mask_23], 역이름[mask_23]"
   ]
  },
  {
   "cell_type": "code",
   "execution_count": 55,
   "metadata": {},
   "outputs": [
    {
     "data": {
      "image/png": "[encoded data removed]",
      "text/plain": [
       "<Figure size 432x288 with 1 Axes>"
      ]
     },
     "metadata": {
      "needs_background": "light"
     },
     "output_type": "display_data"
    }
   ],
   "source": [
    "plt.rc('font', family='Malgun Gothic')\n",
    "m = plt.barh(역이름[mask_23], 밤11시역별승차인원[mask_23])"
   ]
  },
  {
   "cell_type": "code",
   "execution_count": null,
   "metadata": {},
   "outputs": [],
   "source": []
  }
 ],
 "metadata": {
  "kernelspec": {
   "display_name": "Python 3",
   "language": "python",
   "name": "python3"
  },
  "language_info": {
   "codemirror_mode": {
    "name": "ipython",
    "version": 3
   },
   "file_extension": ".py",
   "mimetype": "text/x-python",
   "name": "python",
   "nbconvert_exporter": "python",
   "pygments_lexer": "ipython3",
   "version": "3.7.3"
  }
 },
 "nbformat": 4,
 "nbformat_minor": 2
}
