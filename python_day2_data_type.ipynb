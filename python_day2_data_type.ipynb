{
 "cells": [
  {
   "cell_type": "markdown",
   "metadata": {},
   "source": [
    "마크다운 셀 M, 코드 셀 Y"
   ]
  },
  {
   "cell_type": "code",
   "execution_count": 8,
   "metadata": {},
   "outputs": [
    {
     "data": {
      "text/plain": [
       "(1, 2, 3, 'a', 'bb', 'a')"
      ]
     },
     "execution_count": 8,
     "metadata": {},
     "output_type": "execute_result"
    }
   ],
   "source": [
    "# 튜플 (요소, 요소, ...), 특징 : 수정불가능\n",
    "# 용도, 함수의 리턴이 복수개일 때 튜블로 반환됩니다.\n",
    "t=(1,2,3, 'a', 'bb', 'a')\n",
    "t"
   ]
  },
  {
   "cell_type": "code",
   "execution_count": 9,
   "metadata": {},
   "outputs": [
    {
     "data": {
      "text/plain": [
       "2"
      ]
     },
     "execution_count": 9,
     "metadata": {},
     "output_type": "execute_result"
    }
   ],
   "source": [
    "t.count('a')  # 'a'가 몇개 있는가?"
   ]
  },
  {
   "cell_type": "code",
   "execution_count": 10,
   "metadata": {},
   "outputs": [
    {
     "data": {
      "text/plain": [
       "3"
      ]
     },
     "execution_count": 10,
     "metadata": {},
     "output_type": "execute_result"
    }
   ],
   "source": [
    "t.index('a') # 'a' 가 어디에 있는가?"
   ]
  },
  {
   "cell_type": "code",
   "execution_count": 12,
   "metadata": {},
   "outputs": [
    {
     "data": {
      "text/plain": [
       "1"
      ]
     },
     "execution_count": 12,
     "metadata": {},
     "output_type": "execute_result"
    }
   ],
   "source": [
    "t[0]"
   ]
  },
  {
   "cell_type": "code",
   "execution_count": 17,
   "metadata": {},
   "outputs": [
    {
     "data": {
      "text/plain": [
       "{1, 2, 3, 'a', 'bb'}"
      ]
     },
     "execution_count": 17,
     "metadata": {},
     "output_type": "execute_result"
    }
   ],
   "source": [
    "s = set(t) # t를 set으로 변환해라  => t 값 중 중복, 순서 없이 저장 , set은 {}\n",
    "s"
   ]
  },
  {
   "cell_type": "code",
   "execution_count": 19,
   "metadata": {},
   "outputs": [
    {
     "data": {
      "text/plain": [
       "[1, 2, 3, 'a', 'bb']"
      ]
     },
     "execution_count": 19,
     "metadata": {},
     "output_type": "execute_result"
    }
   ],
   "source": [
    "l=list(s) # set을 list로 변환해라 => []\n",
    "l"
   ]
  },
  {
   "cell_type": "code",
   "execution_count": 21,
   "metadata": {},
   "outputs": [
    {
     "data": {
      "text/plain": [
       "([1, 2, 3, 'a', 'bb', 'a'], {1, 2, 3, 'a', 'bb'}, (1, 2, 3, 'a', 'bb', 'a'))"
      ]
     },
     "execution_count": 21,
     "metadata": {},
     "output_type": "execute_result"
    }
   ],
   "source": [
    "list(t), set(t), tuple(t) # 타입 변환이 매우 쉽습니다."
   ]
  },
  {
   "cell_type": "code",
   "execution_count": 55,
   "metadata": {},
   "outputs": [],
   "source": [
    "#함수 만들기, 함수 이름은 소문자_소문자\n",
    "def add_3(a, b=10, c=1):   # 기본값 인자는 뒷에 설정한다.\n",
    "    '''  \n",
    "    문서화 : 이 함수는 값 3개를 더해서 리턴합니다.\n",
    "    작성자 : e.... 2019.6.12\n",
    "    ''' # 따옴표 3개로 열고 3개로 닫기\n",
    "    return a + b + c # 뛰어쓰기 잘하기\n",
    "\n",
    "add_3?"
   ]
  },
  {
   "cell_type": "code",
   "execution_count": 56,
   "metadata": {},
   "outputs": [
    {
     "data": {
      "text/plain": [
       "(111, 40)"
      ]
     },
     "execution_count": 56,
     "metadata": {},
     "output_type": "execute_result"
    }
   ],
   "source": [
    "add_3(a=100), add_3(a=10,c=20) #가독성"
   ]
  },
  {
   "cell_type": "code",
   "execution_count": 50,
   "metadata": {},
   "outputs": [
    {
     "data": {
      "text/plain": [
       "36.4"
      ]
     },
     "execution_count": 50,
     "metadata": {},
     "output_type": "execute_result"
    }
   ],
   "source": [
    "add_3(add_3(2,4,3.4), add_3(3,4,5), add_3(4,5,6))"
   ]
  },
  {
   "cell_type": "code",
   "execution_count": 34,
   "metadata": {},
   "outputs": [],
   "source": [
    "#return 이 없는 함수\n",
    "import math\n",
    "def check_nan(x):\n",
    "    if math.isnan(x):   # nan : not a number : 숫자가 아니다. 0으로 나누거나 할 때 발생\n",
    "        print(x, '는 nan입니다.')\n",
    "    else:\n",
    "        print(x, '는 숫자입니다.')"
   ]
  },
  {
   "cell_type": "code",
   "execution_count": 40,
   "metadata": {},
   "outputs": [
    {
     "name": "stdout",
     "output_type": "stream",
     "text": [
      "100 는 숫자입니다.\n"
     ]
    }
   ],
   "source": [
    "check_nan(100)"
   ]
  },
  {
   "cell_type": "code",
   "execution_count": 41,
   "metadata": {},
   "outputs": [
    {
     "name": "stdout",
     "output_type": "stream",
     "text": [
      "100 는 숫자입니다.\n",
      "None\n"
     ]
    }
   ],
   "source": [
    "out=check_nan(100)\n",
    "print(out) # 리턴이 없는 함수에게 리턴을 강제로 받으면 None이 리턴"
   ]
  },
  {
   "cell_type": "code",
   "execution_count": 43,
   "metadata": {},
   "outputs": [
    {
     "data": {
      "text/plain": [
       "(int, float, str)"
      ]
     },
     "execution_count": 43,
     "metadata": {},
     "output_type": "execute_result"
    }
   ],
   "source": [
    "type(3), type(3.14), type('aa')"
   ]
  },
  {
   "cell_type": "code",
   "execution_count": 57,
   "metadata": {},
   "outputs": [
    {
     "data": {
      "text/plain": [
       "array([6, 7, 8, 9])"
      ]
     },
     "execution_count": 57,
     "metadata": {},
     "output_type": "execute_result"
    }
   ],
   "source": [
    "import numpy as np\n",
    "add_3(1,2,np.array([3,4,5,6]))"
   ]
  },
  {
   "cell_type": "markdown",
   "metadata": {},
   "source": [
    "클래스를 정의해두고, 사용할 때는 인스턴스를 생성해서 클래스의 함수들을 사용합니다."
   ]
  },
  {
   "cell_type": "code",
   "execution_count": 138,
   "metadata": {
    "scrolled": true
   },
   "outputs": [],
   "source": [
    "# 클래스 선언 : class 클래스이름:\n",
    "# 메서드 선언 : 제1인자로 self를 정의\n",
    "#  속성에 접근할때는 self.속성\n",
    "import random\n",
    "class Lotto:\n",
    "    '''\n",
    "    45개 전후의 숫자 중 6개를 맞추는 게임 : 1등 1~45의 숫자\n",
    "    '''\n",
    "    def __init__(self):                  # 함수의 첫번째 인자로 self를 넣어준다.  : JAVA의 this에 해당함\n",
    "        print(\"로또 정답 생성자\")\n",
    "        self.target = []                 # 당첨 list  self를 붙이면 클래스 변수(전역변수)가 됩니다.\n",
    "        for i in range(5):\n",
    "            v = random.randint(1,45)     # 중복 번호가 나오면 다시 뽑기를 구현해 주세요.            \n",
    "            while(v in self.target):     # 기존에 있는 번호를 뽑은거면 다시 뽑자\n",
    "                v = random.randint(1,45)\n",
    "            self.target.append(v)\n",
    "        print(self.target)\n",
    "\n",
    "    def select(self, nums):\n",
    "        #print('정답', self.target,'예측', nums)\n",
    "        k=0\n",
    "        for i in range(5):\n",
    "            if nums[i] in self.target:  # 내가 뽑은 번호가 정답이면\n",
    "                k+= 1                   # 파이썬은 ++, -- 증감연산자가 없음.\n",
    "        if k ==5:\n",
    "            print('1등 당첨되셨습니다.')\n",
    "        elif k > 1:\n",
    "            print('축하합니다.', k, '개 맞췄습니다.')\n",
    "        else:\n",
    "            print(\"꽝입니다. 하나도 못맞췄습니다.\")"
   ]
  },
  {
   "cell_type": "code",
   "execution_count": 139,
   "metadata": {},
   "outputs": [
    {
     "name": "stdout",
     "output_type": "stream",
     "text": [
      "로또 정답 생성자\n",
      "[26, 36, 34, 11, 6]\n",
      "로또 정답 생성자\n",
      "[10, 39, 41, 16, 17]\n",
      "축하합니다. 2 개 맞췄습니다.\n"
     ]
    }
   ],
   "source": [
    "# 객체(인스턴스) 생성 방법 : 클래스이름()\n",
    "lotto1 = Lotto()\n",
    "lotto2 = Lotto()\n",
    "lotto1, lotto2\n",
    "lotto1.select([11,24,5,6,17])"
   ]
  },
  {
   "cell_type": "code",
   "execution_count": 141,
   "metadata": {},
   "outputs": [
    {
     "name": "stdout",
     "output_type": "stream",
     "text": [
      "꽝입니다. 하나도 못맞췄습니다.\n",
      "꽝입니다. 하나도 못맞췄습니다.\n",
      "꽝입니다. 하나도 못맞췄습니다.\n",
      "꽝입니다. 하나도 못맞췄습니다.\n",
      "꽝입니다. 하나도 못맞췄습니다.\n",
      "축하합니다. 2 개 맞췄습니다.\n"
     ]
    }
   ],
   "source": [
    "my_nums = [[1,4,6,23,14], [34,1,25,38,29],[8,29,43,33,21], [4,42,39,32,18], [7,19,39,20,45], [29,43,34,36,21]]\n",
    "len(my_nums), my_nums[0]  # 이만큼 반복해서 lotto1.select 함수를 호출하면 됨.\n",
    "\n",
    "for i in range(len(my_nums)):    \n",
    "    lotto1.select(my_nums[i])"
   ]
  }
 ],
 "metadata": {
  "kernelspec": {
   "display_name": "Python 3",
   "language": "python",
   "name": "python3"
  },
  "language_info": {
   "codemirror_mode": {
    "name": "ipython",
    "version": 3
   },
   "file_extension": ".py",
   "mimetype": "text/x-python",
   "name": "python",
   "nbconvert_exporter": "python",
   "pygments_lexer": "ipython3",
   "version": "3.7.3"
  }
 },
 "nbformat": 4,
 "nbformat_minor": 2
}
