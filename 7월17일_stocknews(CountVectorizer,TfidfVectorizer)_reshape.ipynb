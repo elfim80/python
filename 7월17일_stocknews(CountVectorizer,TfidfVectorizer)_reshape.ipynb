{
 "cells": [
  {
   "cell_type": "markdown",
   "metadata": {},
   "source": [
    "## kaggle - Daily News for Stock Market Prediction\n",
    "- https://www.kaggle.com/aaron7sun/stocknews/downloads/RedditNews.csv/data \n",
    "- 데이터 3개 다운\n",
    "- 주가 데이터(수치형:컬럼6~7개) + 뉴스 데이터(텍스터임. 이를 vector로 변경:컬럼34682개)\n",
    "  - 컬럼 / open, close, low, high, volume, 그날의 뉴스 벡터\n",
    "  \n",
    "- 주가 데이터 -> 주가 데이터 분석 모델\n",
    "- 뉴스 데이터 -> 뉴스 분석 모델\n",
    "- 주가 데이터 분석 모델 + 뉴스 분석 모델 => 주식 시장 예측"
   ]
  },
  {
   "cell_type": "code",
   "execution_count": 1,
   "metadata": {},
   "outputs": [],
   "source": [
    "import pandas as pd\n",
    "import numpy as np"
   ]
  },
  {
   "cell_type": "code",
   "execution_count": 2,
   "metadata": {},
   "outputs": [],
   "source": [
    "folder = 'stocknews/'\n",
    "files = ['Combined_News_DJIA.csv','DJIA_table.csv','RedditNews.csv']"
   ]
  },
  {
   "cell_type": "code",
   "execution_count": 15,
   "metadata": {},
   "outputs": [
    {
     "data": {
      "text/plain": [
       "((1989, 27), (1989, 7), (73608, 2))"
      ]
     },
     "execution_count": 15,
     "metadata": {},
     "output_type": "execute_result"
    }
   ],
   "source": [
    "combined_news = pd.read_csv(folder+files[0])\n",
    "stock = pd.read_csv(folder+files[1])  # 주가 데이터(수치형)\n",
    "reddit = pd.read_csv(folder+files[2]) # 뉴스 데이터(텍스터)\n",
    "combined_news.shape, stock.shape, reddit.shape"
   ]
  },
  {
   "cell_type": "code",
   "execution_count": 16,
   "metadata": {},
   "outputs": [
    {
     "data": {
      "text/html": [
       "<div>\n",
       "<style scoped>\n",
       "    .dataframe tbody tr th:only-of-type {\n",
       "        vertical-align: middle;\n",
       "    }\n",
       "\n",
       "    .dataframe tbody tr th {\n",
       "        vertical-align: top;\n",
       "    }\n",
       "\n",
       "    .dataframe thead th {\n",
       "        text-align: right;\n",
       "    }\n",
       "</style>\n",
       "<table border=\"1\" class=\"dataframe\">\n",
       "  <thead>\n",
       "    <tr style=\"text-align: right;\">\n",
       "      <th></th>\n",
       "      <th>Date</th>\n",
       "      <th>Label</th>\n",
       "      <th>Top1</th>\n",
       "      <th>Top2</th>\n",
       "      <th>Top3</th>\n",
       "      <th>Top4</th>\n",
       "      <th>Top5</th>\n",
       "      <th>Top6</th>\n",
       "      <th>Top7</th>\n",
       "      <th>Top8</th>\n",
       "      <th>...</th>\n",
       "      <th>Top16</th>\n",
       "      <th>Top17</th>\n",
       "      <th>Top18</th>\n",
       "      <th>Top19</th>\n",
       "      <th>Top20</th>\n",
       "      <th>Top21</th>\n",
       "      <th>Top22</th>\n",
       "      <th>Top23</th>\n",
       "      <th>Top24</th>\n",
       "      <th>Top25</th>\n",
       "    </tr>\n",
       "  </thead>\n",
       "  <tbody>\n",
       "    <tr>\n",
       "      <th>0</th>\n",
       "      <td>2008-08-08</td>\n",
       "      <td>0</td>\n",
       "      <td>b\"Georgia 'downs two Russian warplanes' as cou...</td>\n",
       "      <td>b'BREAKING: Musharraf to be impeached.'</td>\n",
       "      <td>b'Russia Today: Columns of troops roll into So...</td>\n",
       "      <td>b'Russian tanks are moving towards the capital...</td>\n",
       "      <td>b\"Afghan children raped with 'impunity,' U.N. ...</td>\n",
       "      <td>b'150 Russian tanks have entered South Ossetia...</td>\n",
       "      <td>b\"Breaking: Georgia invades South Ossetia, Rus...</td>\n",
       "      <td>b\"The 'enemy combatent' trials are nothing but...</td>\n",
       "      <td>...</td>\n",
       "      <td>b'Georgia Invades South Ossetia - if Russia ge...</td>\n",
       "      <td>b'Al-Qaeda Faces Islamist Backlash'</td>\n",
       "      <td>b'Condoleezza Rice: \"The US would not act to p...</td>\n",
       "      <td>b'This is a busy day:  The European Union has ...</td>\n",
       "      <td>b\"Georgia will withdraw 1,000 soldiers from Ir...</td>\n",
       "      <td>b'Why the Pentagon Thinks Attacking Iran is a ...</td>\n",
       "      <td>b'Caucasus in crisis: Georgia invades South Os...</td>\n",
       "      <td>b'Indian shoe manufactory  - And again in a se...</td>\n",
       "      <td>b'Visitors Suffering from Mental Illnesses Ban...</td>\n",
       "      <td>b\"No Help for Mexico's Kidnapping Surge\"</td>\n",
       "    </tr>\n",
       "    <tr>\n",
       "      <th>1</th>\n",
       "      <td>2008-08-11</td>\n",
       "      <td>1</td>\n",
       "      <td>b'Why wont America and Nato help us? If they w...</td>\n",
       "      <td>b'Bush puts foot down on Georgian conflict'</td>\n",
       "      <td>b\"Jewish Georgian minister: Thanks to Israeli ...</td>\n",
       "      <td>b'Georgian army flees in disarray as Russians ...</td>\n",
       "      <td>b\"Olympic opening ceremony fireworks 'faked'\"</td>\n",
       "      <td>b'What were the Mossad with fraudulent New Zea...</td>\n",
       "      <td>b'Russia angered by Israeli military sale to G...</td>\n",
       "      <td>b'An American citizen living in S.Ossetia blam...</td>\n",
       "      <td>...</td>\n",
       "      <td>b'Israel and the US behind the Georgian aggres...</td>\n",
       "      <td>b'\"Do not believe TV, neither Russian nor Geor...</td>\n",
       "      <td>b'Riots are still going on in Montreal (Canada...</td>\n",
       "      <td>b'China to overtake US as largest manufacturer'</td>\n",
       "      <td>b'War in South Ossetia [PICS]'</td>\n",
       "      <td>b'Israeli Physicians Group Condemns State Tort...</td>\n",
       "      <td>b' Russia has just beaten the United States ov...</td>\n",
       "      <td>b'Perhaps *the* question about the Georgia - R...</td>\n",
       "      <td>b'Russia is so much better at war'</td>\n",
       "      <td>b\"So this is what it's come to: trading sex fo...</td>\n",
       "    </tr>\n",
       "    <tr>\n",
       "      <th>2</th>\n",
       "      <td>2008-08-12</td>\n",
       "      <td>0</td>\n",
       "      <td>b'Remember that adorable 9-year-old who sang a...</td>\n",
       "      <td>b\"Russia 'ends Georgia operation'\"</td>\n",
       "      <td>b'\"If we had no sexual harassment we would hav...</td>\n",
       "      <td>b\"Al-Qa'eda is losing support in Iraq because ...</td>\n",
       "      <td>b'Ceasefire in Georgia: Putin Outmaneuvers the...</td>\n",
       "      <td>b'Why Microsoft and Intel tried to kill the XO...</td>\n",
       "      <td>b'Stratfor: The Russo-Georgian War and the Bal...</td>\n",
       "      <td>b\"I'm Trying to Get a Sense of This Whole Geor...</td>\n",
       "      <td>...</td>\n",
       "      <td>b'U.S. troops still in Georgia (did you know t...</td>\n",
       "      <td>b'Why Russias response to Georgia was right'</td>\n",
       "      <td>b'Gorbachev accuses U.S. of making a \"serious ...</td>\n",
       "      <td>b'Russia, Georgia, and NATO: Cold War Two'</td>\n",
       "      <td>b'Remember that adorable 62-year-old who led y...</td>\n",
       "      <td>b'War in Georgia: The Israeli connection'</td>\n",
       "      <td>b'All signs point to the US encouraging Georgi...</td>\n",
       "      <td>b'Christopher King argues that the US and NATO...</td>\n",
       "      <td>b'America: The New Mexico?'</td>\n",
       "      <td>b\"BBC NEWS | Asia-Pacific | Extinction 'by man...</td>\n",
       "    </tr>\n",
       "  </tbody>\n",
       "</table>\n",
       "<p>3 rows × 27 columns</p>\n",
       "</div>"
      ],
      "text/plain": [
       "         Date  Label                                               Top1  \\\n",
       "0  2008-08-08      0  b\"Georgia 'downs two Russian warplanes' as cou...   \n",
       "1  2008-08-11      1  b'Why wont America and Nato help us? If they w...   \n",
       "2  2008-08-12      0  b'Remember that adorable 9-year-old who sang a...   \n",
       "\n",
       "                                          Top2  \\\n",
       "0      b'BREAKING: Musharraf to be impeached.'   \n",
       "1  b'Bush puts foot down on Georgian conflict'   \n",
       "2           b\"Russia 'ends Georgia operation'\"   \n",
       "\n",
       "                                                Top3  \\\n",
       "0  b'Russia Today: Columns of troops roll into So...   \n",
       "1  b\"Jewish Georgian minister: Thanks to Israeli ...   \n",
       "2  b'\"If we had no sexual harassment we would hav...   \n",
       "\n",
       "                                                Top4  \\\n",
       "0  b'Russian tanks are moving towards the capital...   \n",
       "1  b'Georgian army flees in disarray as Russians ...   \n",
       "2  b\"Al-Qa'eda is losing support in Iraq because ...   \n",
       "\n",
       "                                                Top5  \\\n",
       "0  b\"Afghan children raped with 'impunity,' U.N. ...   \n",
       "1      b\"Olympic opening ceremony fireworks 'faked'\"   \n",
       "2  b'Ceasefire in Georgia: Putin Outmaneuvers the...   \n",
       "\n",
       "                                                Top6  \\\n",
       "0  b'150 Russian tanks have entered South Ossetia...   \n",
       "1  b'What were the Mossad with fraudulent New Zea...   \n",
       "2  b'Why Microsoft and Intel tried to kill the XO...   \n",
       "\n",
       "                                                Top7  \\\n",
       "0  b\"Breaking: Georgia invades South Ossetia, Rus...   \n",
       "1  b'Russia angered by Israeli military sale to G...   \n",
       "2  b'Stratfor: The Russo-Georgian War and the Bal...   \n",
       "\n",
       "                                                Top8  ...  \\\n",
       "0  b\"The 'enemy combatent' trials are nothing but...  ...   \n",
       "1  b'An American citizen living in S.Ossetia blam...  ...   \n",
       "2  b\"I'm Trying to Get a Sense of This Whole Geor...  ...   \n",
       "\n",
       "                                               Top16  \\\n",
       "0  b'Georgia Invades South Ossetia - if Russia ge...   \n",
       "1  b'Israel and the US behind the Georgian aggres...   \n",
       "2  b'U.S. troops still in Georgia (did you know t...   \n",
       "\n",
       "                                               Top17  \\\n",
       "0                b'Al-Qaeda Faces Islamist Backlash'   \n",
       "1  b'\"Do not believe TV, neither Russian nor Geor...   \n",
       "2       b'Why Russias response to Georgia was right'   \n",
       "\n",
       "                                               Top18  \\\n",
       "0  b'Condoleezza Rice: \"The US would not act to p...   \n",
       "1  b'Riots are still going on in Montreal (Canada...   \n",
       "2  b'Gorbachev accuses U.S. of making a \"serious ...   \n",
       "\n",
       "                                               Top19  \\\n",
       "0  b'This is a busy day:  The European Union has ...   \n",
       "1    b'China to overtake US as largest manufacturer'   \n",
       "2         b'Russia, Georgia, and NATO: Cold War Two'   \n",
       "\n",
       "                                               Top20  \\\n",
       "0  b\"Georgia will withdraw 1,000 soldiers from Ir...   \n",
       "1                     b'War in South Ossetia [PICS]'   \n",
       "2  b'Remember that adorable 62-year-old who led y...   \n",
       "\n",
       "                                               Top21  \\\n",
       "0  b'Why the Pentagon Thinks Attacking Iran is a ...   \n",
       "1  b'Israeli Physicians Group Condemns State Tort...   \n",
       "2          b'War in Georgia: The Israeli connection'   \n",
       "\n",
       "                                               Top22  \\\n",
       "0  b'Caucasus in crisis: Georgia invades South Os...   \n",
       "1  b' Russia has just beaten the United States ov...   \n",
       "2  b'All signs point to the US encouraging Georgi...   \n",
       "\n",
       "                                               Top23  \\\n",
       "0  b'Indian shoe manufactory  - And again in a se...   \n",
       "1  b'Perhaps *the* question about the Georgia - R...   \n",
       "2  b'Christopher King argues that the US and NATO...   \n",
       "\n",
       "                                               Top24  \\\n",
       "0  b'Visitors Suffering from Mental Illnesses Ban...   \n",
       "1                 b'Russia is so much better at war'   \n",
       "2                        b'America: The New Mexico?'   \n",
       "\n",
       "                                               Top25  \n",
       "0           b\"No Help for Mexico's Kidnapping Surge\"  \n",
       "1  b\"So this is what it's come to: trading sex fo...  \n",
       "2  b\"BBC NEWS | Asia-Pacific | Extinction 'by man...  \n",
       "\n",
       "[3 rows x 27 columns]"
      ]
     },
     "execution_count": 16,
     "metadata": {},
     "output_type": "execute_result"
    }
   ],
   "source": [
    "combined_news.head(3)"
   ]
  },
  {
   "cell_type": "code",
   "execution_count": 17,
   "metadata": {},
   "outputs": [],
   "source": [
    "combined_news = combined_news.set_index('Date')"
   ]
  },
  {
   "cell_type": "code",
   "execution_count": 18,
   "metadata": {},
   "outputs": [
    {
     "data": {
      "text/html": [
       "<div>\n",
       "<style scoped>\n",
       "    .dataframe tbody tr th:only-of-type {\n",
       "        vertical-align: middle;\n",
       "    }\n",
       "\n",
       "    .dataframe tbody tr th {\n",
       "        vertical-align: top;\n",
       "    }\n",
       "\n",
       "    .dataframe thead th {\n",
       "        text-align: right;\n",
       "    }\n",
       "</style>\n",
       "<table border=\"1\" class=\"dataframe\">\n",
       "  <thead>\n",
       "    <tr style=\"text-align: right;\">\n",
       "      <th></th>\n",
       "      <th>Label</th>\n",
       "      <th>Top1</th>\n",
       "      <th>Top2</th>\n",
       "      <th>Top3</th>\n",
       "      <th>Top4</th>\n",
       "      <th>Top5</th>\n",
       "      <th>Top6</th>\n",
       "      <th>Top7</th>\n",
       "      <th>Top8</th>\n",
       "      <th>Top9</th>\n",
       "      <th>...</th>\n",
       "      <th>Top16</th>\n",
       "      <th>Top17</th>\n",
       "      <th>Top18</th>\n",
       "      <th>Top19</th>\n",
       "      <th>Top20</th>\n",
       "      <th>Top21</th>\n",
       "      <th>Top22</th>\n",
       "      <th>Top23</th>\n",
       "      <th>Top24</th>\n",
       "      <th>Top25</th>\n",
       "    </tr>\n",
       "    <tr>\n",
       "      <th>Date</th>\n",
       "      <th></th>\n",
       "      <th></th>\n",
       "      <th></th>\n",
       "      <th></th>\n",
       "      <th></th>\n",
       "      <th></th>\n",
       "      <th></th>\n",
       "      <th></th>\n",
       "      <th></th>\n",
       "      <th></th>\n",
       "      <th></th>\n",
       "      <th></th>\n",
       "      <th></th>\n",
       "      <th></th>\n",
       "      <th></th>\n",
       "      <th></th>\n",
       "      <th></th>\n",
       "      <th></th>\n",
       "      <th></th>\n",
       "      <th></th>\n",
       "      <th></th>\n",
       "    </tr>\n",
       "  </thead>\n",
       "  <tbody>\n",
       "    <tr>\n",
       "      <th>2008-08-08</th>\n",
       "      <td>0</td>\n",
       "      <td>b\"Georgia 'downs two Russian warplanes' as cou...</td>\n",
       "      <td>b'BREAKING: Musharraf to be impeached.'</td>\n",
       "      <td>b'Russia Today: Columns of troops roll into So...</td>\n",
       "      <td>b'Russian tanks are moving towards the capital...</td>\n",
       "      <td>b\"Afghan children raped with 'impunity,' U.N. ...</td>\n",
       "      <td>b'150 Russian tanks have entered South Ossetia...</td>\n",
       "      <td>b\"Breaking: Georgia invades South Ossetia, Rus...</td>\n",
       "      <td>b\"The 'enemy combatent' trials are nothing but...</td>\n",
       "      <td>b'Georgian troops retreat from S. Osettain cap...</td>\n",
       "      <td>...</td>\n",
       "      <td>b'Georgia Invades South Ossetia - if Russia ge...</td>\n",
       "      <td>b'Al-Qaeda Faces Islamist Backlash'</td>\n",
       "      <td>b'Condoleezza Rice: \"The US would not act to p...</td>\n",
       "      <td>b'This is a busy day:  The European Union has ...</td>\n",
       "      <td>b\"Georgia will withdraw 1,000 soldiers from Ir...</td>\n",
       "      <td>b'Why the Pentagon Thinks Attacking Iran is a ...</td>\n",
       "      <td>b'Caucasus in crisis: Georgia invades South Os...</td>\n",
       "      <td>b'Indian shoe manufactory  - And again in a se...</td>\n",
       "      <td>b'Visitors Suffering from Mental Illnesses Ban...</td>\n",
       "      <td>b\"No Help for Mexico's Kidnapping Surge\"</td>\n",
       "    </tr>\n",
       "    <tr>\n",
       "      <th>2008-08-11</th>\n",
       "      <td>1</td>\n",
       "      <td>b'Why wont America and Nato help us? If they w...</td>\n",
       "      <td>b'Bush puts foot down on Georgian conflict'</td>\n",
       "      <td>b\"Jewish Georgian minister: Thanks to Israeli ...</td>\n",
       "      <td>b'Georgian army flees in disarray as Russians ...</td>\n",
       "      <td>b\"Olympic opening ceremony fireworks 'faked'\"</td>\n",
       "      <td>b'What were the Mossad with fraudulent New Zea...</td>\n",
       "      <td>b'Russia angered by Israeli military sale to G...</td>\n",
       "      <td>b'An American citizen living in S.Ossetia blam...</td>\n",
       "      <td>b'Welcome To World War IV! Now In High Definit...</td>\n",
       "      <td>...</td>\n",
       "      <td>b'Israel and the US behind the Georgian aggres...</td>\n",
       "      <td>b'\"Do not believe TV, neither Russian nor Geor...</td>\n",
       "      <td>b'Riots are still going on in Montreal (Canada...</td>\n",
       "      <td>b'China to overtake US as largest manufacturer'</td>\n",
       "      <td>b'War in South Ossetia [PICS]'</td>\n",
       "      <td>b'Israeli Physicians Group Condemns State Tort...</td>\n",
       "      <td>b' Russia has just beaten the United States ov...</td>\n",
       "      <td>b'Perhaps *the* question about the Georgia - R...</td>\n",
       "      <td>b'Russia is so much better at war'</td>\n",
       "      <td>b\"So this is what it's come to: trading sex fo...</td>\n",
       "    </tr>\n",
       "    <tr>\n",
       "      <th>2008-08-12</th>\n",
       "      <td>0</td>\n",
       "      <td>b'Remember that adorable 9-year-old who sang a...</td>\n",
       "      <td>b\"Russia 'ends Georgia operation'\"</td>\n",
       "      <td>b'\"If we had no sexual harassment we would hav...</td>\n",
       "      <td>b\"Al-Qa'eda is losing support in Iraq because ...</td>\n",
       "      <td>b'Ceasefire in Georgia: Putin Outmaneuvers the...</td>\n",
       "      <td>b'Why Microsoft and Intel tried to kill the XO...</td>\n",
       "      <td>b'Stratfor: The Russo-Georgian War and the Bal...</td>\n",
       "      <td>b\"I'm Trying to Get a Sense of This Whole Geor...</td>\n",
       "      <td>b\"The US military was surprised by the timing ...</td>\n",
       "      <td>...</td>\n",
       "      <td>b'U.S. troops still in Georgia (did you know t...</td>\n",
       "      <td>b'Why Russias response to Georgia was right'</td>\n",
       "      <td>b'Gorbachev accuses U.S. of making a \"serious ...</td>\n",
       "      <td>b'Russia, Georgia, and NATO: Cold War Two'</td>\n",
       "      <td>b'Remember that adorable 62-year-old who led y...</td>\n",
       "      <td>b'War in Georgia: The Israeli connection'</td>\n",
       "      <td>b'All signs point to the US encouraging Georgi...</td>\n",
       "      <td>b'Christopher King argues that the US and NATO...</td>\n",
       "      <td>b'America: The New Mexico?'</td>\n",
       "      <td>b\"BBC NEWS | Asia-Pacific | Extinction 'by man...</td>\n",
       "    </tr>\n",
       "  </tbody>\n",
       "</table>\n",
       "<p>3 rows × 26 columns</p>\n",
       "</div>"
      ],
      "text/plain": [
       "            Label                                               Top1  \\\n",
       "Date                                                                   \n",
       "2008-08-08      0  b\"Georgia 'downs two Russian warplanes' as cou...   \n",
       "2008-08-11      1  b'Why wont America and Nato help us? If they w...   \n",
       "2008-08-12      0  b'Remember that adorable 9-year-old who sang a...   \n",
       "\n",
       "                                                   Top2  \\\n",
       "Date                                                      \n",
       "2008-08-08      b'BREAKING: Musharraf to be impeached.'   \n",
       "2008-08-11  b'Bush puts foot down on Georgian conflict'   \n",
       "2008-08-12           b\"Russia 'ends Georgia operation'\"   \n",
       "\n",
       "                                                         Top3  \\\n",
       "Date                                                            \n",
       "2008-08-08  b'Russia Today: Columns of troops roll into So...   \n",
       "2008-08-11  b\"Jewish Georgian minister: Thanks to Israeli ...   \n",
       "2008-08-12  b'\"If we had no sexual harassment we would hav...   \n",
       "\n",
       "                                                         Top4  \\\n",
       "Date                                                            \n",
       "2008-08-08  b'Russian tanks are moving towards the capital...   \n",
       "2008-08-11  b'Georgian army flees in disarray as Russians ...   \n",
       "2008-08-12  b\"Al-Qa'eda is losing support in Iraq because ...   \n",
       "\n",
       "                                                         Top5  \\\n",
       "Date                                                            \n",
       "2008-08-08  b\"Afghan children raped with 'impunity,' U.N. ...   \n",
       "2008-08-11      b\"Olympic opening ceremony fireworks 'faked'\"   \n",
       "2008-08-12  b'Ceasefire in Georgia: Putin Outmaneuvers the...   \n",
       "\n",
       "                                                         Top6  \\\n",
       "Date                                                            \n",
       "2008-08-08  b'150 Russian tanks have entered South Ossetia...   \n",
       "2008-08-11  b'What were the Mossad with fraudulent New Zea...   \n",
       "2008-08-12  b'Why Microsoft and Intel tried to kill the XO...   \n",
       "\n",
       "                                                         Top7  \\\n",
       "Date                                                            \n",
       "2008-08-08  b\"Breaking: Georgia invades South Ossetia, Rus...   \n",
       "2008-08-11  b'Russia angered by Israeli military sale to G...   \n",
       "2008-08-12  b'Stratfor: The Russo-Georgian War and the Bal...   \n",
       "\n",
       "                                                         Top8  \\\n",
       "Date                                                            \n",
       "2008-08-08  b\"The 'enemy combatent' trials are nothing but...   \n",
       "2008-08-11  b'An American citizen living in S.Ossetia blam...   \n",
       "2008-08-12  b\"I'm Trying to Get a Sense of This Whole Geor...   \n",
       "\n",
       "                                                         Top9  ...  \\\n",
       "Date                                                           ...   \n",
       "2008-08-08  b'Georgian troops retreat from S. Osettain cap...  ...   \n",
       "2008-08-11  b'Welcome To World War IV! Now In High Definit...  ...   \n",
       "2008-08-12  b\"The US military was surprised by the timing ...  ...   \n",
       "\n",
       "                                                        Top16  \\\n",
       "Date                                                            \n",
       "2008-08-08  b'Georgia Invades South Ossetia - if Russia ge...   \n",
       "2008-08-11  b'Israel and the US behind the Georgian aggres...   \n",
       "2008-08-12  b'U.S. troops still in Georgia (did you know t...   \n",
       "\n",
       "                                                        Top17  \\\n",
       "Date                                                            \n",
       "2008-08-08                b'Al-Qaeda Faces Islamist Backlash'   \n",
       "2008-08-11  b'\"Do not believe TV, neither Russian nor Geor...   \n",
       "2008-08-12       b'Why Russias response to Georgia was right'   \n",
       "\n",
       "                                                        Top18  \\\n",
       "Date                                                            \n",
       "2008-08-08  b'Condoleezza Rice: \"The US would not act to p...   \n",
       "2008-08-11  b'Riots are still going on in Montreal (Canada...   \n",
       "2008-08-12  b'Gorbachev accuses U.S. of making a \"serious ...   \n",
       "\n",
       "                                                        Top19  \\\n",
       "Date                                                            \n",
       "2008-08-08  b'This is a busy day:  The European Union has ...   \n",
       "2008-08-11    b'China to overtake US as largest manufacturer'   \n",
       "2008-08-12         b'Russia, Georgia, and NATO: Cold War Two'   \n",
       "\n",
       "                                                        Top20  \\\n",
       "Date                                                            \n",
       "2008-08-08  b\"Georgia will withdraw 1,000 soldiers from Ir...   \n",
       "2008-08-11                     b'War in South Ossetia [PICS]'   \n",
       "2008-08-12  b'Remember that adorable 62-year-old who led y...   \n",
       "\n",
       "                                                        Top21  \\\n",
       "Date                                                            \n",
       "2008-08-08  b'Why the Pentagon Thinks Attacking Iran is a ...   \n",
       "2008-08-11  b'Israeli Physicians Group Condemns State Tort...   \n",
       "2008-08-12          b'War in Georgia: The Israeli connection'   \n",
       "\n",
       "                                                        Top22  \\\n",
       "Date                                                            \n",
       "2008-08-08  b'Caucasus in crisis: Georgia invades South Os...   \n",
       "2008-08-11  b' Russia has just beaten the United States ov...   \n",
       "2008-08-12  b'All signs point to the US encouraging Georgi...   \n",
       "\n",
       "                                                        Top23  \\\n",
       "Date                                                            \n",
       "2008-08-08  b'Indian shoe manufactory  - And again in a se...   \n",
       "2008-08-11  b'Perhaps *the* question about the Georgia - R...   \n",
       "2008-08-12  b'Christopher King argues that the US and NATO...   \n",
       "\n",
       "                                                        Top24  \\\n",
       "Date                                                            \n",
       "2008-08-08  b'Visitors Suffering from Mental Illnesses Ban...   \n",
       "2008-08-11                 b'Russia is so much better at war'   \n",
       "2008-08-12                        b'America: The New Mexico?'   \n",
       "\n",
       "                                                        Top25  \n",
       "Date                                                           \n",
       "2008-08-08           b\"No Help for Mexico's Kidnapping Surge\"  \n",
       "2008-08-11  b\"So this is what it's come to: trading sex fo...  \n",
       "2008-08-12  b\"BBC NEWS | Asia-Pacific | Extinction 'by man...  \n",
       "\n",
       "[3 rows x 26 columns]"
      ]
     },
     "execution_count": 18,
     "metadata": {},
     "output_type": "execute_result"
    }
   ],
   "source": [
    "combined_news.head(3)"
   ]
  },
  {
   "cell_type": "code",
   "execution_count": 22,
   "metadata": {},
   "outputs": [
    {
     "data": {
      "text/plain": [
       "(1611, 378)"
      ]
     },
     "execution_count": 22,
     "metadata": {},
     "output_type": "execute_result"
    }
   ],
   "source": [
    "# 2014년까지의 과거는 train, 2015년부터 test\n",
    "sum(combined_news.index < '2015-01-01'), sum(combined_news.index > '2014-12-31')"
   ]
  },
  {
   "cell_type": "code",
   "execution_count": 32,
   "metadata": {},
   "outputs": [
    {
     "data": {
      "text/plain": [
       "Label    0\n",
       "Top1     0\n",
       "Top2     0\n",
       "Top3     0\n",
       "Top4     0\n",
       "Top5     0\n",
       "Top6     0\n",
       "Top7     0\n",
       "Top8     0\n",
       "Top9     0\n",
       "Top10    0\n",
       "Top11    0\n",
       "Top12    0\n",
       "Top13    0\n",
       "Top14    0\n",
       "Top15    0\n",
       "Top16    0\n",
       "Top17    0\n",
       "Top18    0\n",
       "Top19    0\n",
       "Top20    0\n",
       "Top21    0\n",
       "Top22    0\n",
       "Top23    1\n",
       "Top24    3\n",
       "Top25    3\n",
       "dtype: int64"
      ]
     },
     "execution_count": 32,
     "metadata": {},
     "output_type": "execute_result"
    }
   ],
   "source": [
    "combined_news.isna().sum()"
   ]
  },
  {
   "cell_type": "code",
   "execution_count": 33,
   "metadata": {},
   "outputs": [],
   "source": [
    "combined_news = combined_news.dropna()  # 누락제거"
   ]
  },
  {
   "cell_type": "code",
   "execution_count": 34,
   "metadata": {},
   "outputs": [
    {
     "data": {
      "text/plain": [
       "((1986, 26), (1986, 25), (1986,))"
      ]
     },
     "execution_count": 34,
     "metadata": {},
     "output_type": "execute_result"
    }
   ],
   "source": [
    "X = combined_news.drop(columns='Label')\n",
    "y = combined_news.Label\n",
    "combined_news.shape, X.shape, y.shape"
   ]
  },
  {
   "cell_type": "code",
   "execution_count": 35,
   "metadata": {},
   "outputs": [
    {
     "data": {
      "text/plain": [
       "(49650,)"
      ]
     },
     "execution_count": 35,
     "metadata": {},
     "output_type": "execute_result"
    }
   ],
   "source": [
    "x_flat = X.values.reshape([-1])\n",
    "x_flat.shape"
   ]
  },
  {
   "cell_type": "code",
   "execution_count": 83,
   "metadata": {},
   "outputs": [
    {
     "data": {
      "text/plain": [
       "(49650,)"
      ]
     },
     "execution_count": 83,
     "metadata": {},
     "output_type": "execute_result"
    }
   ],
   "source": [
    "x_flat2 = np.reshape(X.values, [-1])\n",
    "x_flat2.shape"
   ]
  },
  {
   "cell_type": "code",
   "execution_count": 84,
   "metadata": {},
   "outputs": [],
   "source": [
    "from sklearn.feature_extraction.text import CountVectorizer, TfidfVectorizer"
   ]
  },
  {
   "cell_type": "code",
   "execution_count": 86,
   "metadata": {},
   "outputs": [
    {
     "data": {
      "text/plain": [
       "34682"
      ]
     },
     "execution_count": 86,
     "metadata": {},
     "output_type": "execute_result"
    }
   ],
   "source": [
    "vect = CountVectorizer().fit(x_flat) # 문장을 다 쪼개서 단어(어휘) 사전을 만듦. => 1차원으로 만들어 줌.\n",
    "len(vect.vocabulary_)"
   ]
  },
  {
   "cell_type": "code",
   "execution_count": 87,
   "metadata": {},
   "outputs": [
    {
     "data": {
      "text/plain": [
       "34682"
      ]
     },
     "execution_count": 87,
     "metadata": {},
     "output_type": "execute_result"
    }
   ],
   "source": [
    "# 3% 이하/97%  이상 등장하는 단어는 제외, 최대 어휘 20만 제한, N그램 2(단어 2개씩 자르기)\n",
    "vect2 = TfidfVectorizer().fit(x_flat2) # 문장을 다 쪼개서 단어(어휘) 사전을 만듦. => 1차원으로 만들어 줌.\n",
    "len(vect2.vocabulary_)"
   ]
  },
  {
   "cell_type": "code",
   "execution_count": 88,
   "metadata": {},
   "outputs": [
    {
     "data": {
      "text/plain": [
       "<49650x34682 sparse matrix of type '<class 'numpy.int64'>'\n",
       "\twith 796345 stored elements in Compressed Sparse Row format>"
      ]
     },
     "execution_count": 88,
     "metadata": {},
     "output_type": "execute_result"
    }
   ],
   "source": [
    "x_sparse = vect.transform(x_flat) # 자연어를 벡터로 변환\n",
    "x_sparse"
   ]
  },
  {
   "cell_type": "code",
   "execution_count": 89,
   "metadata": {},
   "outputs": [
    {
     "data": {
      "text/plain": [
       "<49650x34682 sparse matrix of type '<class 'numpy.float64'>'\n",
       "\twith 796345 stored elements in Compressed Sparse Row format>"
      ]
     },
     "execution_count": 89,
     "metadata": {},
     "output_type": "execute_result"
    }
   ],
   "source": [
    "x_sparse2 = vect2.transform(x_flat2) # 자연어를 벡터로 변환\n",
    "x_sparse2"
   ]
  },
  {
   "cell_type": "markdown",
   "metadata": {},
   "source": [
    "#  선형 모델, X의 dim이 2이어야 함.\n",
    "- 방안 1. : 뉴스 1~25를 합친다.\n",
    "- 방안 2. : sparse_matrix 25개를 합친다.(더한다.)"
   ]
  },
  {
   "cell_type": "code",
   "execution_count": 90,
   "metadata": {},
   "outputs": [
    {
     "data": {
      "text/plain": [
       "(1986, 1986)"
      ]
     },
     "execution_count": 90,
     "metadata": {},
     "output_type": "execute_result"
    }
   ],
   "source": [
    "x_agr = []\n",
    "x_agr2 = []\n",
    "for i in range(len(X)):\n",
    "    one_day_news = x_sparse[i*25 : (i+1)*25]  # <25x34682>\n",
    "    one_day_news2 = x_sparse2[i*25 : (i+1)*25]  # <25x34682>\n",
    "    new_sum = np.sum(one_day_news, axis=0)     # <34682>  spares_matrix 25개를 합친다.(더한다.)\n",
    "    new_sum2 = np.sum(one_day_news2, axis=0)     # <34682>  spares_matrix 25개를 합친다.(더한다.)\n",
    "    x_agr.append(new_sum)\n",
    "    x_agr2.append(new_sum2)\n",
    "len(x_agr),len(x_agr2)"
   ]
  },
  {
   "cell_type": "code",
   "execution_count": 109,
   "metadata": {},
   "outputs": [
    {
     "data": {
      "text/plain": [
       "matrix([[0, 1, 0, ..., 0, 0, 0]], dtype=int64)"
      ]
     },
     "execution_count": 109,
     "metadata": {},
     "output_type": "execute_result"
    }
   ],
   "source": [
    "x_agr[0]"
   ]
  },
  {
   "cell_type": "code",
   "execution_count": 91,
   "metadata": {},
   "outputs": [
    {
     "data": {
      "text/plain": [
       "((1986, 34682), (1986, 34682))"
      ]
     },
     "execution_count": 91,
     "metadata": {},
     "output_type": "execute_result"
    }
   ],
   "source": [
    "x_2d = np.concatenate(x_agr, axis=0)\n",
    "x_2d2 = np.concatenate(x_agr2, axis=0)\n",
    "x_2d.shape, x_2d2.shape"
   ]
  },
  {
   "cell_type": "code",
   "execution_count": 59,
   "metadata": {},
   "outputs": [
    {
     "data": {
      "text/plain": [
       "(25, 1608)"
      ]
     },
     "execution_count": 59,
     "metadata": {},
     "output_type": "execute_result"
    }
   ],
   "source": [
    "feature_n = X.shape[1]  # 특징 수(컬럼수)\n",
    "train_m = sum(combined_news.index <= '2014-12-31')\n",
    "feature_n, train_m"
   ]
  },
  {
   "cell_type": "code",
   "execution_count": 60,
   "metadata": {},
   "outputs": [],
   "source": [
    "y_train = y.values[:train_m]\n",
    "y_test = y.values[train_m:]"
   ]
  },
  {
   "cell_type": "code",
   "execution_count": 93,
   "metadata": {},
   "outputs": [],
   "source": [
    "X_train = x_2d[:train_m]  # 1608일의 뉴스\n",
    "X_test = x_2d[train_m:]\n",
    "X_train2 = x_2d2[:train_m]  # 1608일의 뉴스\n",
    "X_test2 = x_2d2[train_m:]"
   ]
  },
  {
   "cell_type": "code",
   "execution_count": 63,
   "metadata": {},
   "outputs": [
    {
     "data": {
      "text/plain": [
       "((1608,), (1608, 34682), (378,), (378, 34682))"
      ]
     },
     "execution_count": 63,
     "metadata": {},
     "output_type": "execute_result"
    }
   ],
   "source": [
    "y_train.shape, X_train.shape, y_test.shape, X_test.shape"
   ]
  },
  {
   "cell_type": "code",
   "execution_count": 68,
   "metadata": {},
   "outputs": [],
   "source": [
    "from sklearn.linear_model import LogisticRegression, RidgeClassifier"
   ]
  },
  {
   "cell_type": "code",
   "execution_count": 71,
   "metadata": {},
   "outputs": [
    {
     "name": "stderr",
     "output_type": "stream",
     "text": [
      "C:\\Users\\wtime\\Anaconda3\\lib\\site-packages\\sklearn\\linear_model\\logistic.py:433: FutureWarning: Default solver will be changed to 'lbfgs' in 0.22. Specify a solver to silence this warning.\n",
      "  FutureWarning)\n"
     ]
    }
   ],
   "source": [
    "model = LogisticRegression().fit(X_train, y_train)"
   ]
  },
  {
   "cell_type": "code",
   "execution_count": 94,
   "metadata": {},
   "outputs": [
    {
     "name": "stderr",
     "output_type": "stream",
     "text": [
      "C:\\Users\\wtime\\Anaconda3\\lib\\site-packages\\sklearn\\linear_model\\logistic.py:433: FutureWarning: Default solver will be changed to 'lbfgs' in 0.22. Specify a solver to silence this warning.\n",
      "  FutureWarning)\n"
     ]
    }
   ],
   "source": [
    "model1_1 = LogisticRegression().fit(X_train2, y_train)"
   ]
  },
  {
   "cell_type": "code",
   "execution_count": 95,
   "metadata": {},
   "outputs": [
    {
     "data": {
      "text/plain": [
       "(1.0, 0.46296296296296297)"
      ]
     },
     "execution_count": 95,
     "metadata": {},
     "output_type": "execute_result"
    }
   ],
   "source": [
    "model1_1.score(X_train2, y_train), model1_1.score(X_test2, y_test)"
   ]
  },
  {
   "cell_type": "code",
   "execution_count": 96,
   "metadata": {},
   "outputs": [
    {
     "data": {
      "text/plain": [
       "(1.0, 0.42328042328042326)"
      ]
     },
     "execution_count": 96,
     "metadata": {},
     "output_type": "execute_result"
    }
   ],
   "source": [
    "model.score(X_train, y_train), model.score(X_test, y_test)"
   ]
  },
  {
   "cell_type": "code",
   "execution_count": 69,
   "metadata": {},
   "outputs": [],
   "source": [
    "model2 = RidgeClassifier().fit(X_train, y_train)"
   ]
  },
  {
   "cell_type": "code",
   "execution_count": 97,
   "metadata": {},
   "outputs": [],
   "source": [
    "model2_2 = RidgeClassifier().fit(X_train2, y_train)"
   ]
  },
  {
   "cell_type": "code",
   "execution_count": 74,
   "metadata": {},
   "outputs": [
    {
     "data": {
      "text/plain": [
       "(1.0, 0.41534391534391535)"
      ]
     },
     "execution_count": 74,
     "metadata": {},
     "output_type": "execute_result"
    }
   ],
   "source": [
    "model2.score(X_train, y_train), model2.score(X_test, y_test)"
   ]
  },
  {
   "cell_type": "code",
   "execution_count": 98,
   "metadata": {},
   "outputs": [
    {
     "data": {
      "text/plain": [
       "(1.0, 0.4497354497354497)"
      ]
     },
     "execution_count": 98,
     "metadata": {},
     "output_type": "execute_result"
    }
   ],
   "source": [
    "model2_2.score(X_train2, y_train), model2_2.score(X_test2, y_test)"
   ]
  },
  {
   "cell_type": "markdown",
   "metadata": {},
   "source": [
    "# 주가 데이터와 뉴스 데이터 활용하기"
   ]
  },
  {
   "cell_type": "code",
   "execution_count": 119,
   "metadata": {},
   "outputs": [
    {
     "data": {
      "text/plain": [
       "((1989, 7), (73608, 2))"
      ]
     },
     "execution_count": 119,
     "metadata": {},
     "output_type": "execute_result"
    }
   ],
   "source": [
    "stock = pd.read_csv(folder+files[1])  # 주가 데이터(수치형)\n",
    "reddit = pd.read_csv(folder+files[2]) # 뉴스 데이터(텍스터)\n",
    "stock.shape, reddit.shape"
   ]
  },
  {
   "cell_type": "code",
   "execution_count": 120,
   "metadata": {},
   "outputs": [
    {
     "data": {
      "text/html": [
       "<div>\n",
       "<style scoped>\n",
       "    .dataframe tbody tr th:only-of-type {\n",
       "        vertical-align: middle;\n",
       "    }\n",
       "\n",
       "    .dataframe tbody tr th {\n",
       "        vertical-align: top;\n",
       "    }\n",
       "\n",
       "    .dataframe thead th {\n",
       "        text-align: right;\n",
       "    }\n",
       "</style>\n",
       "<table border=\"1\" class=\"dataframe\">\n",
       "  <thead>\n",
       "    <tr style=\"text-align: right;\">\n",
       "      <th></th>\n",
       "      <th>Date</th>\n",
       "      <th>Open</th>\n",
       "      <th>High</th>\n",
       "      <th>Low</th>\n",
       "      <th>Close</th>\n",
       "      <th>Volume</th>\n",
       "      <th>Adj Close</th>\n",
       "    </tr>\n",
       "  </thead>\n",
       "  <tbody>\n",
       "    <tr>\n",
       "      <th>0</th>\n",
       "      <td>2016-07-01</td>\n",
       "      <td>17924.24023</td>\n",
       "      <td>18002.38086</td>\n",
       "      <td>17916.91016</td>\n",
       "      <td>17949.36914</td>\n",
       "      <td>82160000</td>\n",
       "      <td>17949.36914</td>\n",
       "    </tr>\n",
       "    <tr>\n",
       "      <th>1</th>\n",
       "      <td>2016-06-30</td>\n",
       "      <td>17712.75977</td>\n",
       "      <td>17930.60938</td>\n",
       "      <td>17711.80078</td>\n",
       "      <td>17929.99023</td>\n",
       "      <td>133030000</td>\n",
       "      <td>17929.99023</td>\n",
       "    </tr>\n",
       "    <tr>\n",
       "      <th>2</th>\n",
       "      <td>2016-06-29</td>\n",
       "      <td>17456.01953</td>\n",
       "      <td>17704.50977</td>\n",
       "      <td>17456.01953</td>\n",
       "      <td>17694.67969</td>\n",
       "      <td>106380000</td>\n",
       "      <td>17694.67969</td>\n",
       "    </tr>\n",
       "    <tr>\n",
       "      <th>3</th>\n",
       "      <td>2016-06-28</td>\n",
       "      <td>17190.50977</td>\n",
       "      <td>17409.72070</td>\n",
       "      <td>17190.50977</td>\n",
       "      <td>17409.72070</td>\n",
       "      <td>112190000</td>\n",
       "      <td>17409.72070</td>\n",
       "    </tr>\n",
       "    <tr>\n",
       "      <th>4</th>\n",
       "      <td>2016-06-27</td>\n",
       "      <td>17355.21094</td>\n",
       "      <td>17355.21094</td>\n",
       "      <td>17063.08008</td>\n",
       "      <td>17140.24023</td>\n",
       "      <td>138740000</td>\n",
       "      <td>17140.24023</td>\n",
       "    </tr>\n",
       "  </tbody>\n",
       "</table>\n",
       "</div>"
      ],
      "text/plain": [
       "         Date         Open         High          Low        Close     Volume  \\\n",
       "0  2016-07-01  17924.24023  18002.38086  17916.91016  17949.36914   82160000   \n",
       "1  2016-06-30  17712.75977  17930.60938  17711.80078  17929.99023  133030000   \n",
       "2  2016-06-29  17456.01953  17704.50977  17456.01953  17694.67969  106380000   \n",
       "3  2016-06-28  17190.50977  17409.72070  17190.50977  17409.72070  112190000   \n",
       "4  2016-06-27  17355.21094  17355.21094  17063.08008  17140.24023  138740000   \n",
       "\n",
       "     Adj Close  \n",
       "0  17949.36914  \n",
       "1  17929.99023  \n",
       "2  17694.67969  \n",
       "3  17409.72070  \n",
       "4  17140.24023  "
      ]
     },
     "execution_count": 120,
     "metadata": {},
     "output_type": "execute_result"
    }
   ],
   "source": [
    "stock.head()"
   ]
  },
  {
   "cell_type": "code",
   "execution_count": 121,
   "metadata": {},
   "outputs": [
    {
     "data": {
      "text/html": [
       "<div>\n",
       "<style scoped>\n",
       "    .dataframe tbody tr th:only-of-type {\n",
       "        vertical-align: middle;\n",
       "    }\n",
       "\n",
       "    .dataframe tbody tr th {\n",
       "        vertical-align: top;\n",
       "    }\n",
       "\n",
       "    .dataframe thead th {\n",
       "        text-align: right;\n",
       "    }\n",
       "</style>\n",
       "<table border=\"1\" class=\"dataframe\">\n",
       "  <thead>\n",
       "    <tr style=\"text-align: right;\">\n",
       "      <th></th>\n",
       "      <th>Date</th>\n",
       "      <th>News</th>\n",
       "    </tr>\n",
       "  </thead>\n",
       "  <tbody>\n",
       "    <tr>\n",
       "      <th>0</th>\n",
       "      <td>2016-07-01</td>\n",
       "      <td>A 117-year-old woman in Mexico City finally re...</td>\n",
       "    </tr>\n",
       "    <tr>\n",
       "      <th>1</th>\n",
       "      <td>2016-07-01</td>\n",
       "      <td>IMF chief backs Athens as permanent Olympic host</td>\n",
       "    </tr>\n",
       "    <tr>\n",
       "      <th>2</th>\n",
       "      <td>2016-07-01</td>\n",
       "      <td>The president of France says if Brexit won, so...</td>\n",
       "    </tr>\n",
       "    <tr>\n",
       "      <th>3</th>\n",
       "      <td>2016-07-01</td>\n",
       "      <td>British Man Who Must Give Police 24 Hours' Not...</td>\n",
       "    </tr>\n",
       "    <tr>\n",
       "      <th>4</th>\n",
       "      <td>2016-07-01</td>\n",
       "      <td>100+ Nobel laureates urge Greenpeace to stop o...</td>\n",
       "    </tr>\n",
       "  </tbody>\n",
       "</table>\n",
       "</div>"
      ],
      "text/plain": [
       "         Date                                               News\n",
       "0  2016-07-01  A 117-year-old woman in Mexico City finally re...\n",
       "1  2016-07-01   IMF chief backs Athens as permanent Olympic host\n",
       "2  2016-07-01  The president of France says if Brexit won, so...\n",
       "3  2016-07-01  British Man Who Must Give Police 24 Hours' Not...\n",
       "4  2016-07-01  100+ Nobel laureates urge Greenpeace to stop o..."
      ]
     },
     "execution_count": 121,
     "metadata": {},
     "output_type": "execute_result"
    }
   ],
   "source": [
    "reddit.head()"
   ]
  },
  {
   "cell_type": "code",
   "execution_count": 122,
   "metadata": {},
   "outputs": [
    {
     "data": {
      "text/plain": [
       "Date    object\n",
       "News    object\n",
       "dtype: object"
      ]
     },
     "execution_count": 122,
     "metadata": {},
     "output_type": "execute_result"
    }
   ],
   "source": [
    "reddit.dtypes"
   ]
  },
  {
   "cell_type": "code",
   "execution_count": 116,
   "metadata": {},
   "outputs": [
    {
     "data": {
      "text/plain": [
       "Date          object\n",
       "Open         float64\n",
       "High         float64\n",
       "Low          float64\n",
       "Close        float64\n",
       "Volume         int64\n",
       "Adj Close    float64\n",
       "dtype: object"
      ]
     },
     "execution_count": 116,
     "metadata": {},
     "output_type": "execute_result"
    }
   ],
   "source": [
    "stock.dtypes"
   ]
  },
  {
   "cell_type": "code",
   "execution_count": 123,
   "metadata": {},
   "outputs": [],
   "source": [
    "# 날짜 타입으로 바꾸는 함수\n",
    "reddit['Date'] = pd.to_datetime(reddit['Date'])\n",
    "stock['Date'] = pd.to_datetime(stock['Date'])"
   ]
  },
  {
   "cell_type": "code",
   "execution_count": 138,
   "metadata": {
    "collapsed": true
   },
   "outputs": [],
   "source": [
    "stock = stock.set_index('Date')           # index를 설정"
   ]
  },
  {
   "cell_type": "code",
   "execution_count": 127,
   "metadata": {},
   "outputs": [],
   "source": [
    "reddit_agre = reddit.groupby('Date').sum() # 같은 날짜의 뉴스 분이기"
   ]
  },
  {
   "cell_type": "code",
   "execution_count": 139,
   "metadata": {},
   "outputs": [
    {
     "data": {
      "text/plain": [
       "2943"
      ]
     },
     "execution_count": 139,
     "metadata": {},
     "output_type": "execute_result"
    }
   ],
   "source": [
    "len(reddit_agre)"
   ]
  },
  {
   "cell_type": "code",
   "execution_count": 140,
   "metadata": {},
   "outputs": [
    {
     "data": {
      "text/plain": [
       "(1989, 7)"
      ]
     },
     "execution_count": 140,
     "metadata": {},
     "output_type": "execute_result"
    }
   ],
   "source": [
    "# 통합 :  주식과 뉴스를 합치기.\n",
    "stock_new = pd.concat((stock, reddit_agre), axis=1).dropna()\n",
    "stock_new.shape"
   ]
  },
  {
   "cell_type": "code",
   "execution_count": 141,
   "metadata": {},
   "outputs": [],
   "source": [
    "reddit_1d = stock_new['News'].values.reshape([-1])  # 1차원으로 reshape 해서 어휘사전 만들기"
   ]
  },
  {
   "cell_type": "code",
   "execution_count": 142,
   "metadata": {},
   "outputs": [],
   "source": [
    "vect3 = CountVectorizer().fit(reddit_1d)"
   ]
  },
  {
   "cell_type": "code",
   "execution_count": 143,
   "metadata": {},
   "outputs": [
    {
     "data": {
      "text/plain": [
       "(54661,\n",
       " {'georgia': 20627,\n",
       "  'downs': 15533,\n",
       "  'two': 50334,\n",
       "  'russian': 42125,\n",
       "  'warplanes': 52640,\n",
       "  'as': 4403,\n",
       "  'countries': 12103,\n",
       "  'move': 31789,\n",
       "  'to': 49145,\n",
       "  'brink': 7686,\n",
       "  'of': 33940,\n",
       "  'war': 52498,\n",
       "  'breaking': 7568,\n",
       "  'musharraf': 32051,\n",
       "  'be': 5964,\n",
       "  'impeached': 23951,\n",
       "  'russia': 42073,\n",
       "  'today': 49156,\n",
       "  'columns': 10744,\n",
       "  'troops': 49955,\n",
       "  'roll': 41715,\n",
       "  'into': 25086,\n",
       "  'south': 45404,\n",
       "  'ossetia': 34645,\n",
       "  'footage': 19398,\n",
       "  'from': 19946,\n",
       "  'fighting': 18723,\n",
       "  'youtube': 54401,\n",
       "  'tanks': 47980,\n",
       "  'are': 4153,\n",
       "  'moving': 31809,\n",
       "  'towards': 49459,\n",
       "  'the': 48631,\n",
       "  'capital': 8628,\n",
       "  'which': 53193,\n",
       "  'has': 22177,\n",
       "  'reportedly': 40555,\n",
       "  'been': 6063,\n",
       "  'completely': 11083,\n",
       "  'destroyed': 14355,\n",
       "  'by': 8183,\n",
       "  'georgian': 20630,\n",
       "  'artillery': 4387,\n",
       "  'fire': 18923,\n",
       "  'afghan': 2582,\n",
       "  'children': 9657,\n",
       "  'raped': 39380,\n",
       "  'with': 53498,\n",
       "  'impunity': 24070,\n",
       "  'official': 34037,\n",
       "  'says': 42676,\n",
       "  'this': 48777,\n",
       "  'is': 25479,\n",
       "  'sick': 44368,\n",
       "  'three': 48871,\n",
       "  'year': 54067,\n",
       "  'old': 34178,\n",
       "  'was': 52705,\n",
       "  'and': 3585,\n",
       "  'they': 48738,\n",
       "  'do': 15235,\n",
       "  'nothing': 33399,\n",
       "  '150': 262,\n",
       "  'have': 22236,\n",
       "  'entered': 16997,\n",
       "  'whilst': 53197,\n",
       "  'shoots': 44159,\n",
       "  'down': 15485,\n",
       "  'jets': 26190,\n",
       "  'invades': 25131,\n",
       "  'warned': 52588,\n",
       "  'it': 25821,\n",
       "  'would': 53843,\n",
       "  'intervene': 25044,\n",
       "  'on': 34256,\n",
       "  'so': 45078,\n",
       "  'side': 44375,\n",
       "  'enemy': 16831,\n",
       "  'combatent': 10764,\n",
       "  'trials': 49845,\n",
       "  'but': 8152,\n",
       "  'sham': 43851,\n",
       "  'salim': 42369,\n",
       "  'haman': 21927,\n",
       "  'sentenced': 43567,\n",
       "  'years': 54112,\n",
       "  'will': 53378,\n",
       "  'kept': 26782,\n",
       "  'longer': 28867,\n",
       "  'anyway': 3856,\n",
       "  'just': 26530,\n",
       "  'because': 6029,\n",
       "  'feel': 18544,\n",
       "  'like': 28497,\n",
       "  'retreat': 41103,\n",
       "  'osettain': 34635,\n",
       "  'presumably': 37723,\n",
       "  'leaving': 28057,\n",
       "  'several': 43738,\n",
       "  'hundred': 23489,\n",
       "  'people': 35925,\n",
       "  'killed': 26955,\n",
       "  'video': 51940,\n",
       "  'did': 14572,\n",
       "  'prep': 37617,\n",
       "  'for': 19418,\n",
       "  'rice': 41376,\n",
       "  'gives': 20838,\n",
       "  'green': 21334,\n",
       "  'light': 28483,\n",
       "  'israel': 25691,\n",
       "  'attack': 4760,\n",
       "  'iran': 25276,\n",
       "  'no': 33231,\n",
       "  'veto': 51860,\n",
       "  'over': 34846,\n",
       "  'israeli': 25724,\n",
       "  'military': 30766,\n",
       "  'ops': 34450,\n",
       "  'announcing': 3700,\n",
       "  'class': 10246,\n",
       "  'action': 2249,\n",
       "  'lawsuit': 27872,\n",
       "  'behalf': 6114,\n",
       "  'american': 3428,\n",
       "  'public': 38631,\n",
       "  'against': 2738,\n",
       "  'fbi': 18465,\n",
       "  'at': 4692,\n",
       "  'nyt': 33720,\n",
       "  'top': 49308,\n",
       "  'story': 46469,\n",
       "  'opening': 34356,\n",
       "  'ceremonies': 9224,\n",
       "  'olympics': 34217,\n",
       "  'what': 53163,\n",
       "  'fucking': 20000,\n",
       "  'disgrace': 14936,\n",
       "  'yet': 54317,\n",
       "  'further': 20125,\n",
       "  'proof': 38235,\n",
       "  'decline': 13722,\n",
       "  'journalism': 26389,\n",
       "  'china': 9728,\n",
       "  'tells': 48335,\n",
       "  'bush': 8096,\n",
       "  'stay': 46239,\n",
       "  'out': 34703,\n",
       "  'other': 34654,\n",
       "  'affairs': 2543,\n",
       "  'world': 53715,\n",
       "  'iii': 23776,\n",
       "  'start': 46060,\n",
       "  'if': 23747,\n",
       "  'gets': 20702,\n",
       "  'involved': 25234,\n",
       "  'nato': 32391,\n",
       "  'absorb': 1991,\n",
       "  'unleash': 51014,\n",
       "  'full': 20044,\n",
       "  'scale': 42816,\n",
       "  'al': 3092,\n",
       "  'qaeda': 38878,\n",
       "  'faces': 18097,\n",
       "  'islamist': 25599,\n",
       "  'backlash': 5318,\n",
       "  'condoleezza': 11276,\n",
       "  'us': 51381,\n",
       "  'not': 33382,\n",
       "  'act': 2233,\n",
       "  'prevent': 37748,\n",
       "  'an': 3542,\n",
       "  'strike': 46602,\n",
       "  'defense': 13867,\n",
       "  'minister': 30903,\n",
       "  'ehud': 16348,\n",
       "  'barak': 5677,\n",
       "  'prepared': 37622,\n",
       "  'uncompromising': 50672,\n",
       "  'victory': 51931,\n",
       "  'in': 24074,\n",
       "  'case': 8861,\n",
       "  'hostilities': 23254,\n",
       "  'busy': 8151,\n",
       "  'day': 13297,\n",
       "  'european': 17374,\n",
       "  'union': 50929,\n",
       "  'approved': 4021,\n",
       "  'new': 32796,\n",
       "  'sanctions': 42437,\n",
       "  'protest': 38372,\n",
       "  'its': 25878,\n",
       "  'nuclear': 33615,\n",
       "  'programme': 38130,\n",
       "  'withdraw': 53499,\n",
       "  '000': 1,\n",
       "  'soldiers': 45190,\n",
       "  'iraq': 25334,\n",
       "  'help': 22503,\n",
       "  'fight': 18699,\n",
       "  'off': 33944,\n",
       "  'forces': 19441,\n",
       "  'breakaway': 7562,\n",
       "  'region': 40098,\n",
       "  'why': 53268,\n",
       "  'pentagon': 35915,\n",
       "  'thinks': 48766,\n",
       "  'attacking': 4802,\n",
       "  'bad': 5348,\n",
       "  'idea': 23680,\n",
       "  'news': 32811,\n",
       "  'amp': 3503,\n",
       "  'report': 40536,\n",
       "  'caucasus': 9004,\n",
       "  'crisis': 12612,\n",
       "  'indian': 24292,\n",
       "  'shoe': 44126,\n",
       "  'manufactory': 29589,\n",
       "  'again': 2717,\n",
       "  'series': 43642,\n",
       "  'you': 54369,\n",
       "  'your': 54385,\n",
       "  'work': 53654,\n",
       "  'visitors': 52174,\n",
       "  'suffering': 46978,\n",
       "  'mental': 30379,\n",
       "  'illnesses': 23825,\n",
       "  'banned': 5648,\n",
       "  'mexico': 30538,\n",
       "  'kidnapping': 26917,\n",
       "  'surge': 47290,\n",
       "  'wont': 53625,\n",
       "  'america': 3423,\n",
       "  'now': 33453,\n",
       "  'we': 52872,\n",
       "  'them': 48648,\n",
       "  'puts': 38832,\n",
       "  'foot': 19397,\n",
       "  'conflict': 11364,\n",
       "  'jewish': 26213,\n",
       "  'thanks': 48616,\n",
       "  'training': 49601,\n",
       "  're': 39535,\n",
       "  'fending': 18585,\n",
       "  'army': 4260,\n",
       "  'flees': 19159,\n",
       "  'disarray': 14791,\n",
       "  'russians': 42127,\n",
       "  'advance': 2471,\n",
       "  'gori': 21073,\n",
       "  'abandoned': 1838,\n",
       "  'without': 53514,\n",
       "  'shot': 44203,\n",
       "  'fired': 18944,\n",
       "  'olympic': 34216,\n",
       "  'ceremony': 9226,\n",
       "  'fireworks': 18983,\n",
       "  'faked': 18206,\n",
       "  'were': 53111,\n",
       "  'mossad': 31681,\n",
       "  'fraudulent': 19779,\n",
       "  'zealand': 54495,\n",
       "  'passports': 35594,\n",
       "  'doing': 15329,\n",
       "  'angered': 3616,\n",
       "  'sale': 42350,\n",
       "  'citizen': 10034,\n",
       "  'living': 28704,\n",
       "  'blames': 6729,\n",
       "  'leaders': 27938,\n",
       "  'genocide': 20564,\n",
       "  'innocent': 24654,\n",
       "  'welcome': 53079,\n",
       "  'iv': 25902,\n",
       "  'high': 22675,\n",
       "  'definition': 13908,\n",
       "  'mistake': 31130,\n",
       "  'monumental': 31508,\n",
       "  'proportions': 38278,\n",
       "  'presses': 37703,\n",
       "  'deeper': 13802,\n",
       "  'regime': 40075,\n",
       "  'change': 9321,\n",
       "  'goal': 20948,\n",
       "  'abhinav': 1902,\n",
       "  'bindra': 6566,\n",
       "  'wins': 53444,\n",
       "  'first': 19006,\n",
       "  'ever': 17504,\n",
       "  'individual': 24348,\n",
       "  'gold': 20988,\n",
       "  'medal': 30154,\n",
       "  'india': 24248,\n",
       "  'ship': 44059,\n",
       "  'heads': 22315,\n",
       "  'arctic': 4140,\n",
       "  'define': 13902,\n",
       "  'territory': 48458,\n",
       "  'drivers': 15682,\n",
       "  'jerusalem': 26161,\n",
       "  'taxi': 48109,\n",
       "  'station': 46182,\n",
       "  'threaten': 48837,\n",
       "  'quit': 39035,\n",
       "  'rather': 39457,\n",
       "  'than': 48612,\n",
       "  'their': 48645,\n",
       "  'boss': 7333,\n",
       "  'arab': 4050,\n",
       "  'french': 19870,\n",
       "  'team': 48144,\n",
       "  'stunned': 46789,\n",
       "  'phelps': 36223,\n",
       "  '4x100m': 1316,\n",
       "  'relay': 40272,\n",
       "  'behind': 6143,\n",
       "  'aggression': 2813,\n",
       "  'believe': 6215,\n",
       "  'tv': 50279,\n",
       "  'neither': 32651,\n",
       "  'nor': 33310,\n",
       "  'there': 48713,\n",
       "  'much': 31870,\n",
       "  'more': 31560,\n",
       "  'victims': 51909,\n",
       "  'riots': 41518,\n",
       "  'still': 46343,\n",
       "  'going': 20985,\n",
       "  'montreal': 31501,\n",
       "  'canada': 8464,\n",
       "  'police': 36953,\n",
       "  'murdered': 31988,\n",
       "  'boy': 7420,\n",
       "  'saturday': 42573,\n",
       "  'overtake': 34945,\n",
       "  'largest': 27644,\n",
       "  'manufacturer': 29592,\n",
       "  'pics': 36366,\n",
       "  'physicians': 36336,\n",
       "  'group': 21454,\n",
       "  'condemns': 11251,\n",
       "  'state': 46086,\n",
       "  'torture': 49367,\n",
       "  'beaten': 6010,\n",
       "  'united': 50960,\n",
       "  'states': 46148,\n",
       "  'head': 22289,\n",
       "  'peak': 35782,\n",
       "  'oil': 34134,\n",
       "  'perhaps': 36022,\n",
       "  'question': 39006,\n",
       "  'about': 1959,\n",
       "  'better': 6377,\n",
       "  'come': 10785,\n",
       "  'trading': 49549,\n",
       "  'sex': 43757,\n",
       "  'food': 19376,\n",
       "  'remember': 40380,\n",
       "  'that': 48620,\n",
       "  'adorable': 2444,\n",
       "  'who': 53241,\n",
       "  'sang': 42487,\n",
       "  'fake': 18203,\n",
       "  'too': 49289,\n",
       "  'ends': 16818,\n",
       "  'operation': 34377,\n",
       "  'had': 21823,\n",
       "  'sexual': 43774,\n",
       "  'harassment': 22085,\n",
       "  'qa': 38869,\n",
       "  'eda': 16188,\n",
       "  'losing': 28933,\n",
       "  'support': 47229,\n",
       "  'brutal': 7824,\n",
       "  'crackdown': 12366,\n",
       "  'activities': 2300,\n",
       "  'regards': 40068,\n",
       "  'un': 50594,\n",
       "  'islamic': 25588,\n",
       "  'including': 24146,\n",
       "  'women': 53575,\n",
       "  'buying': 8175,\n",
       "  'cucumbers': 12866,\n",
       "  'ceasefire': 9073,\n",
       "  'putin': 38806,\n",
       "  'outmaneuvers': 34785,\n",
       "  'west': 53115,\n",
       "  'microsoft': 30646,\n",
       "  'intel': 24865,\n",
       "  'tried': 49880,\n",
       "  'kill': 26954,\n",
       "  'xo': 53989,\n",
       "  '100': 71,\n",
       "  'laptop': 27633,\n",
       "  'stratfor': 46532,\n",
       "  'russo': 42162,\n",
       "  'balance': 5454,\n",
       "  'power': 37414,\n",
       "  'trying': 50045,\n",
       "  'get': 20701,\n",
       "  'sense': 43551,\n",
       "  'whole': 53248,\n",
       "  'vote': 52284,\n",
       "  'up': 51240,\n",
       "  'think': 48759,\n",
       "  'started': 46061,\n",
       "  'or': 34471,\n",
       "  'surprised': 47315,\n",
       "  'timing': 49089,\n",
       "  'swiftness': 47517,\n",
       "  'sort': 45349,\n",
       "  'happened': 22057,\n",
       "  'said': 42278,\n",
       "  'monday': 31354,\n",
       "  'beats': 6019,\n",
       "  'drum': 15767,\n",
       "  'dumps': 15844,\n",
       "  'dollar': 15338,\n",
       "  'gorbachev': 21062,\n",
       "  'attacked': 4778,\n",
       "  'ossetian': 34646,\n",
       "  'tskhinvali': 50065,\n",
       "  'multiple': 31938,\n",
       "  'rocket': 41666,\n",
       "  'launchers': 27725,\n",
       "  'designed': 14316,\n",
       "  'devastate': 14450,\n",
       "  'large': 27641,\n",
       "  'areas': 4160,\n",
       "  'cnn': 10459,\n",
       "  'use': 51418,\n",
       "  'ruins': 41967,\n",
       "  'cover': 12321,\n",
       "  'beginning': 6095,\n",
       "  'violates': 52067,\n",
       "  'ancient': 3584,\n",
       "  'tradition': 49553,\n",
       "  'truce': 49992,\n",
       "  'during': 15863,\n",
       "  'games': 20268,\n",
       "  'ioc': 25247,\n",
       "  'could': 12042,\n",
       "  'respond': 40956,\n",
       "  'taking': 47888,\n",
       "  '2014': 679,\n",
       "  'away': 5183,\n",
       "  '55': 1380,\n",
       "  'pyramids': 38860,\n",
       "  'luxor': 29121,\n",
       "  'stacked': 45948,\n",
       "  'mega': 30254,\n",
       "  'city': 10072,\n",
       "  'pyramid': 38858,\n",
       "  'tokyo': 49218,\n",
       "  'bay': 5915,\n",
       "  '11': 131,\n",
       "  'party': 35531,\n",
       "  'cities': 10025,\n",
       "  'know': 27168,\n",
       "  'place': 36542,\n",
       "  'russias': 42142,\n",
       "  'response': 40965,\n",
       "  'right': 41433,\n",
       "  'accuses': 2175,\n",
       "  'making': 29369,\n",
       "  'serious': 43645,\n",
       "  'blunder': 6924,\n",
       "  'pursuing': 38792,\n",
       "  'interest': 24921,\n",
       "  'cold': 10605,\n",
       "  '62': 1473,\n",
       "  'led': 28085,\n",
       "  'country': 12135,\n",
       "  'based': 5784,\n",
       "  'evidence': 17540,\n",
       "  'connection': 11440,\n",
       "  'all': 3223,\n",
       "  'signs': 44442,\n",
       "  'point': 36900,\n",
       "  'encouraging': 16773,\n",
       "  'invade': 25126,\n",
       "  'goddamnit': 20962,\n",
       "  'christopher': 9912,\n",
       "  'king': 27047,\n",
       "  'argues': 4199,\n",
       "  'invasion': 25141,\n",
       "  'misjudged': 31047,\n",
       "  'resolve': 40917,\n",
       "  'bbc': 5941,\n",
       "  'asia': 4447,\n",
       "  'pacific': 35028,\n",
       "  'extinction': 17950,\n",
       "  'man': 29464,\n",
       "  'climate': 10341,\n",
       "  'refuses': 40053,\n",
       "  'weapons': 52901,\n",
       "  'when': 53179,\n",
       "  'president': 37664,\n",
       "  'ordered': 34510,\n",
       "  'knew': 27148,\n",
       "  'then': 48690,\n",
       "  'doomed': 15419,\n",
       "  'how': 23376,\n",
       "  'he': 22288,\n",
       "  'didn': 14575,\n",
       "  'realize': 39614,\n",
       "  'clears': 10301,\n",
       "  'reuters': 41146,\n",
       "  'cameraman': 8361,\n",
       "  'britain': 7696,\n",
       "  'policy': 37016,\n",
       "  'being': 6163,\n",
       "  'tough': 49422,\n",
       "  'drugs': 15752,\n",
       "  'pointless': 36905,\n",
       "  'former': 19566,\n",
       "  'civil': 10110,\n",
       "  'servant': 43653,\n",
       "  'once': 34269,\n",
       "  'ran': 39328,\n",
       "  'cabinet': 8214,\n",
       "  'anti': 3784,\n",
       "  'unit': 50956,\n",
       "  'body': 7003,\n",
       "  '14': 227,\n",
       "  'found': 19619,\n",
       "  'trunk': 50024,\n",
       "  'latest': 27690,\n",
       "  'ransom': 39362,\n",
       "  'paid': 35089,\n",
       "  'victim': 51898,\n",
       "  'cop': 11856,\n",
       "  'quits': 39042,\n",
       "  'prez': 37763,\n",
       "  'dissolves': 15115,\n",
       "  'suspect': 47378,\n",
       "  'elite': 16506,\n",
       "  'task': 48058,\n",
       "  'force': 19430,\n",
       "  'moved': 31791,\n",
       "  '10': 70,\n",
       "  'million': 30804,\n",
       "  'quake': 38934,\n",
       "  'survivors': 47372,\n",
       "  'prefab': 37577,\n",
       "  'homes': 23034,\n",
       "  'announces': 3697,\n",
       "  'grill': 21395,\n",
       "  'yeah': 54066,\n",
       "  'end': 16792,\n",
       "  'well': 53090,\n",
       "  'sink': 44534,\n",
       "  'ships': 44080,\n",
       "  'commander': 10839,\n",
       "  'navy': 32440,\n",
       "  'air': 2969,\n",
       "  'reconnaissance': 39801,\n",
       "  'squadron': 45854,\n",
       "  'provides': 38549,\n",
       "  'secretary': 43336,\n",
       "  'airborne': 2975,\n",
       "  'ability': 1910,\n",
       "  'command': 10834,\n",
       "  'nation': 32339,\n",
       "  'relieved': 40316,\n",
       "  'duty': 15878,\n",
       "  '92': 1765,\n",
       "  'readers': 39581,\n",
       "  'actions': 2262,\n",
       "  'justified': 26541,\n",
       "  'usa': 51387,\n",
       "  'send': 43533,\n",
       "  'fleet': 19161,\n",
       "  'black': 6685,\n",
       "  'sea': 43217,\n",
       "  'humanitarian': 23450,\n",
       "  'aid': 2927,\n",
       "  'exercise': 17691,\n",
       "  'warns': 52612,\n",
       "  'plan': 36573,\n",
       "  'facilities': 18107,\n",
       "  'intriguing': 25098,\n",
       "  'cyberalliance': 13020,\n",
       "  'estonian': 17293,\n",
       "  'computer': 11139,\n",
       "  'experts': 17819,\n",
       "  'heading': 22303,\n",
       "  'keep': 26750,\n",
       "  'networks': 32754,\n",
       "  'running': 42046,\n",
       "  'amid': 3459,\n",
       "  'intense': 24880,\n",
       "  'confrontation': 11385,\n",
       "  'effect': 16250,\n",
       "  'schools': 43018,\n",
       "  'information': 24516,\n",
       "  'warfare': 52530,\n",
       "  'elephants': 16479,\n",
       "  'extinct': 17947,\n",
       "  '2020': 760,\n",
       "  'missions': 31117,\n",
       "  'soon': 45314,\n",
       "  'hits': 22866,\n",
       "  'wwiii': 53944,\n",
       "  'ddos': 13381,\n",
       "  'came': 8353,\n",
       "  'sources': 45382,\n",
       "  'convoy': 11817,\n",
       "  'violating': 52068,\n",
       "  'defence': 13856,\n",
       "  'choice': 9845,\n",
       "  'witness': 53523,\n",
       "  'tbilisi': 48128,\n",
       "  'breach': 7547,\n",
       "  'agreement': 2863,\n",
       "  'quarter': 38962,\n",
       "  'blame': 6726,\n",
       "  'poll': 37075,\n",
       "  'take': 47875,\n",
       "  'control': 11726,\n",
       "  'seaports': 43267,\n",
       "  'airports': 3031,\n",
       "  'denies': 14125,\n",
       "  '2006': 575,\n",
       "  'nobel': 33235,\n",
       "  'laureate': 27757,\n",
       "  'aleksander': 3146,\n",
       "  'solzhenitsyn': 45253,\n",
       "  'encircling': 16754,\n",
       "  'admit': 2414,\n",
       "  'should': 44215,\n",
       "  'legalise': 28105,\n",
       "  'osetia': 34634,\n",
       "  '89': 1723,\n",
       "  'pictures': 36373,\n",
       "  'made': 29217,\n",
       "  'soldier': 45186,\n",
       "  'swedish': 47497,\n",
       "  'wrestler': 53882,\n",
       "  'ara': 4049,\n",
       "  'abrahamian': 1964,\n",
       "  'throws': 48910,\n",
       "  'hissy': 22808,\n",
       "  'fit': 19044,\n",
       "  'exaggerated': 17579,\n",
       "  'death': 13508,\n",
       "  'toll': 49247,\n",
       "  'only': 34314,\n",
       "  '44': 1242,\n",
       "  'originally': 34581,\n",
       "  'compared': 11016,\n",
       "  'missile': 31075,\n",
       "  'inside': 24704,\n",
       "  'pakistan': 35111,\n",
       "  'may': 30016,\n",
       "  'launched': 27718,\n",
       "  'cia': 9961,\n",
       "  'rushdie': 42066,\n",
       "  'random': 39337,\n",
       "  'house': 23342,\n",
       "  'refusal': 40048,\n",
       "  'publish': 38660,\n",
       "  'novel': 33437,\n",
       "  'fear': 18478,\n",
       "  'muslim': 32065,\n",
       "  'retaliation': 41075,\n",
       "  'poland': 36935,\n",
       "  'agree': 2858,\n",
       "  'missle': 31126,\n",
       "  'deal': 13454,\n",
       "  'interesting': 24926,\n",
       "  'conquer': 11452,\n",
       "  'tblisi': 48130,\n",
       "  'bet': 6362,\n",
       "  'seriously': 43646,\n",
       "  'can': 8461,\n",
       "  'exaggerating': 17580,\n",
       "  'human': 23443,\n",
       "  'rights': 41446,\n",
       "  'expected': 17775,\n",
       "  'resign': 40848,\n",
       "  'face': 18071,\n",
       "  'impeachment': 23953,\n",
       "  'moscow': 31632,\n",
       "  'plans': 36637,\n",
       "  'months': 31474,\n",
       "  'ago': 2829,\n",
       "  'nigeria': 33070,\n",
       "  'handed': 21973,\n",
       "  'potentially': 37380,\n",
       "  'rich': 41380,\n",
       "  'bakassi': 5442,\n",
       "  'peninsula': 35889,\n",
       "  'cameroon': 8379,\n",
       "  'agreed': 2861,\n",
       "  'preliminary': 37601,\n",
       "  'controversial': 11758,\n",
       "  'shield': 44024,\n",
       "  'apparently': 3933,\n",
       "  'sabotaging': 42206,\n",
       "  'infrastructure': 24541,\n",
       "  'cripple': 12606,\n",
       "  'already': 3319,\n",
       "  'battered': 5877,\n",
       "  'bank': 5573,\n",
       "  'analyst': 3553,\n",
       "  'forecast': 19481,\n",
       "  'days': 13330,\n",
       "  'early': 15946,\n",
       "  'confict': 11320,\n",
       "  'set': 43701,\n",
       "  'back': 5282,\n",
       "  'relations': 40251,\n",
       "  'guardian': 21558,\n",
       "  'co': 10468,\n",
       "  'uk': 50418,\n",
       "  'product': 38062,\n",
       "  'imperial': 23964,\n",
       "  'drive': 15670,\n",
       "  'local': 28757,\n",
       "  'conflicts': 11378,\n",
       "  'non': 33277,\n",
       "  'media': 30169,\n",
       "  'photos': 36313,\n",
       "  'reporter': 40561,\n",
       "  'sniper': 45011,\n",
       "  'live': 28671,\n",
       "  'broadcast': 7727,\n",
       "  'saudi': 42589,\n",
       "  'arabia': 4052,\n",
       "  'mother': 31704,\n",
       "  'moves': 31800,\n",
       "  'block': 6830,\n",
       "  'child': 9649,\n",
       "  'marriage': 29769,\n",
       "  'taliban': 47903,\n",
       "  'wages': 52386,\n",
       "  'workers': 53664,\n",
       "  'forget': 19537,\n",
       "  'territorial': 48450,\n",
       "  'integrity': 24864,\n",
       "  'darfur': 13201,\n",
       "  'rebels': 39667,\n",
       "  'accuse': 2168,\n",
       "  'sudan': 46943,\n",
       "  'mounting': 31768,\n",
       "  'major': 29347,\n",
       "  'philippines': 36237,\n",
       "  'peace': 35763,\n",
       "  'advocate': 2517,\n",
       "  'say': 42631,\n",
       "  'muslims': 32069,\n",
       "  'need': 32578,\n",
       "  'assurance': 4642,\n",
       "  'christians': 9895,\n",
       "  'convert': 11796,\n",
       "  'mom': 31322,\n",
       "  'missing': 31092,\n",
       "  'gay': 20396,\n",
       "  '21': 835,\n",
       "  'cheerleader': 9543,\n",
       "  'looking': 28880,\n",
       "  'him': 22748,\n",
       "  'won': 53612,\n",
       "  'go': 20946,\n",
       "  'unpunished': 51089,\n",
       "  'government': 21108,\n",
       "  'accused': 2169,\n",
       "  'creating': 12456,\n",
       "  'laws': 27836,\n",
       "  'chilling': 9715,\n",
       "  'freedom': 19806,\n",
       "  'expression': 17916,\n",
       "  'critical': 12664,\n",
       "  'committee': 10911,\n",
       "  'italian': 25826,\n",
       "  'lashed': 27659,\n",
       "  'influential': 24505,\n",
       "  'catholic': 8993,\n",
       "  'magazine': 29248,\n",
       "  'suggested': 47002,\n",
       "  'fascism': 18381,\n",
       "  'might': 30682,\n",
       "  'resurfacing': 41049,\n",
       "  'within': 53513,\n",
       "  'fakes': 18210,\n",
       "  'girlfriend': 20805,\n",
       "  'ethnic': 17318,\n",
       "  'minority': 30959,\n",
       "  'criticism': 12671,\n",
       "  'valid': 51612,\n",
       "  'general': 20522,\n",
       "  'threatens': 48844,\n",
       "  'demands': 14038,\n",
       "  'withdraws': 53506,\n",
       "  'inspect': 24741,\n",
       "  'polish': 37042,\n",
       "  'site': 44575,\n",
       "  'fueled': 20006,\n",
       "  'rush': 42065,\n",
       "  'caspian': 8918,\n",
       "  'energy': 16837,\n",
       "  'resources': 40933,\n",
       "  'business': 8111,\n",
       "  'week': 53004,\n",
       "  'edge': 16197,\n",
       "  'struggle': 46703,\n",
       "  'access': 2079,\n",
       "  '35': 1115,\n",
       "  'billion': 6498,\n",
       "  'barrels': 5746,\n",
       "  'trillions': 49894,\n",
       "  'cubic': 12860,\n",
       "  'feet': 18553,\n",
       "  'gas': 20348,\n",
       "  'under': 50711,\n",
       "  'soviet': 45430,\n",
       "  'rule': 41970,\n",
       "  'word': 53643,\n",
       "  'our': 34693,\n",
       "  'own': 34989,\n",
       "  'propaganda': 38240,\n",
       "  'learnt': 28037,\n",
       "  'powerful': 37425,\n",
       "  'ministers': 30928,\n",
       "  'building': 7912,\n",
       "  'national': 32340,\n",
       "  'dna': 15227,\n",
       "  'database': 13231,\n",
       "  'stealth': 46254,\n",
       "  'retaining': 41064,\n",
       "  'profiles': 38093,\n",
       "  'nearly': 32555,\n",
       "  '40': 1188,\n",
       "  'never': 32794,\n",
       "  'convicted': 11803,\n",
       "  'crime': 12519,\n",
       "  'regaining': 40061,\n",
       "  'provinces': 38557,\n",
       "  'seize': 43459,\n",
       "  'depot': 14228,\n",
       "  'redditors': 39891,\n",
       "  'generally': 20528,\n",
       "  'supportive': 47243,\n",
       "  'americas': 3446,\n",
       "  'johann': 26324,\n",
       "  'hari': 22122,\n",
       "  'stop': 46434,\n",
       "  'such': 46937,\n",
       "  'cowards': 12349,\n",
       "  'islam': 25574,\n",
       "  'officials': 34059,\n",
       "  'presence': 37638,\n",
       "  'become': 6033,\n",
       "  'permanent': 36042,\n",
       "  'unenforceable': 50834,\n",
       "  'encourage': 16770,\n",
       "  'cops': 11867,\n",
       "  'escalate': 17224,\n",
       "  'tactics': 47832,\n",
       "  'until': 51192,\n",
       "  'tragedy': 49583,\n",
       "  'occurs': 33889,\n",
       "  'chinese': 9807,\n",
       "  'pollution': 37108,\n",
       "  'really': 39620,\n",
       "  'looks': 28882,\n",
       "  'hacker': 21785,\n",
       "  'kidnaps': 26923,\n",
       "  'tortures': 49388,\n",
       "  'informant': 24514,\n",
       "  'posts': 37354,\n",
       "  'picture': 36367,\n",
       "  'warning': 52594,\n",
       "  'others': 34660,\n",
       "  'stand': 46014,\n",
       "  'pipelines': 36466,\n",
       "  'rivals': 41580,\n",
       "  'remove': 40410,\n",
       "  'prison': 37849,\n",
       "  'majority': 29349,\n",
       "  'female': 18569,\n",
       "  'prisoners': 37862,\n",
       "  'serving': 43693,\n",
       "  '20': 552,\n",
       "  'sentences': 43572,\n",
       "  'rape': 39372,\n",
       "  'little': 28666,\n",
       "  'girl': 20803,\n",
       "  'ugly': 50410,\n",
       "  'leave': 28048,\n",
       "  'tornado': 49346,\n",
       "  'bus': 8085,\n",
       "  'captured': 8688,\n",
       "  'one': 34272,\n",
       "  'passengers': 35575,\n",
       "  'terror': 48473,\n",
       "  'left': 28093,\n",
       "  'me': 30094,\n",
       "  'my': 32129,\n",
       "  'family': 18274,\n",
       "  'shattered': 43935,\n",
       "  'fires': 18968,\n",
       "  'satellite': 42550,\n",
       "  'space': 45446,\n",
       "  'restricted': 41019,\n",
       "  'maldives': 29399,\n",
       "  'constitution': 11547,\n",
       "  'tour': 49429,\n",
       "  'undercuts': 50721,\n",
       "  'version': 51834,\n",
       "  'great': 21307,\n",
       "  'resource': 40931,\n",
       "  'underway': 50787,\n",
       "  'mainly': 29326,\n",
       "  'middle': 30657,\n",
       "  'east': 16015,\n",
       "  'also': 3322,\n",
       "  'smaller': 44887,\n",
       "  'skirmishes': 44681,\n",
       "  'scattered': 42919,\n",
       "  'around': 4285,\n",
       "  'disguised': 14942,\n",
       "  'many': 29604,\n",
       "  'global': 20886,\n",
       "  '190': 389,\n",
       "  'contractors': 11697,\n",
       "  'working': 53685,\n",
       "  'ss': 45909,\n",
       "  'missiles': 31083,\n",
       "  'resigning': 40867,\n",
       "  'avoid': 5151,\n",
       "  'battle': 5885,\n",
       "  'harm': 22128,\n",
       "  'interests': 24930,\n",
       "  'democratic': 14072,\n",
       "  'shuts': 44340,\n",
       "  'opposition': 34427,\n",
       "  'channel': 9358,\n",
       "  'owned': 34993,\n",
       "  'option': 34461,\n",
       "  'parliamentarian': 35440,\n",
       "  'situation': 44623,\n",
       "  'continues': 11675,\n",
       "  'quest': 39004,\n",
       "  'prize': 37929,\n",
       "  'money': 31368,\n",
       "  'mi5': 30593,\n",
       "  'seeks': 43428,\n",
       "  'spies': 45650,\n",
       "  'porn': 37220,\n",
       "  'lets': 28245,\n",
       "  'canadians': 8495,\n",
       "  'strut': 46710,\n",
       "  'stuff': 46778,\n",
       "  'dangerous': 13174,\n",
       "  'neighbor': 32637,\n",
       "  'vladimir': 52214,\n",
       "  'takes': 47884,\n",
       "  'powerless': 37430,\n",
       "  'opinion': 34406,\n",
       "  'page': 35078,\n",
       "  'saner': 42485,\n",
       "  'hour': 23299,\n",
       "  'saakashvili': 42192,\n",
       "  'eats': 16058,\n",
       "  'his': 22804,\n",
       "  'tie': 48977,\n",
       "  'chicken': 9608,\n",
       "  'animal': 3642,\n",
       "  'rfid': 41347,\n",
       "  'surveillance': 47336,\n",
       "  'arrives': 4345,\n",
       "  'given': 20835,\n",
       "  'order': 34507,\n",
       "  'everyone': 17523,\n",
       "  'must': 32087,\n",
       "  'grows': 21513,\n",
       "  'genes': 20549,\n",
       "  'mayor': 30026,\n",
       "  'asks': 4473,\n",
       "  'visit': 52160,\n",
       "  'town': 49469,\n",
       "  'arrested': 4304,\n",
       "  'locked': 28780,\n",
       "  'five': 19057,\n",
       "  'hours': 23310,\n",
       "  'after': 2699,\n",
       "  'photo': 36296,\n",
       "  'van': 51643,\n",
       "  'ignoring': 23768,\n",
       "  'entry': 17040,\n",
       "  'sign': 44420,\n",
       "  'system': 47763,\n",
       "  'magic': 29258,\n",
       "  'pudding': 38670,\n",
       "  'run': 42034,\n",
       "  'schrder': 43036,\n",
       "  'lambasted': 27520,\n",
       "  'blaming': 6732,\n",
       "  ...})"
      ]
     },
     "execution_count": 143,
     "metadata": {},
     "output_type": "execute_result"
    }
   ],
   "source": [
    "len(vect3.vocabulary_), vect3.vocabulary_"
   ]
  },
  {
   "cell_type": "code",
   "execution_count": 144,
   "metadata": {},
   "outputs": [],
   "source": [
    "reddit_sparse = vect3.transform(reddit_1d)  # TEXT(뉴스)를 vector로 변환"
   ]
  },
  {
   "cell_type": "code",
   "execution_count": 145,
   "metadata": {},
   "outputs": [
    {
     "data": {
      "text/plain": [
       "(1989, 54661)"
      ]
     },
     "execution_count": 145,
     "metadata": {},
     "output_type": "execute_result"
    }
   ],
   "source": [
    "reddit_sparse.shape"
   ]
  },
  {
   "cell_type": "code",
   "execution_count": 146,
   "metadata": {},
   "outputs": [
    {
     "data": {
      "text/plain": [
       "(1989, 54667)"
      ]
     },
     "execution_count": 146,
     "metadata": {},
     "output_type": "execute_result"
    }
   ],
   "source": [
    "x_stock = stock_new.drop(columns='News').values # dense matrix\n",
    "x_news = reddit_sparse.toarray()           # sparse matrix -> dense matrix 변환\n",
    "X = np.concatenate((x_stock, x_news), axis=1)\n",
    "X.shape"
   ]
  },
  {
   "cell_type": "code",
   "execution_count": 148,
   "metadata": {},
   "outputs": [
    {
     "data": {
      "text/plain": [
       "(1989,)"
      ]
     },
     "execution_count": 148,
     "metadata": {},
     "output_type": "execute_result"
    }
   ],
   "source": [
    "y = stock_new['Close'].values\n",
    "y.shape"
   ]
  },
  {
   "cell_type": "code",
   "execution_count": 149,
   "metadata": {},
   "outputs": [],
   "source": [
    "# 전날 X로 다음날 y 예측하기\n",
    "X = X[:-1]  # X에서 최신 데이터 빼기\n",
    "y = y[1:]   # y에서 가장 오래된 과거 데이터 빼기"
   ]
  },
  {
   "cell_type": "code",
   "execution_count": 153,
   "metadata": {},
   "outputs": [],
   "source": [
    "train_m = int(len(X)*0.75)\n",
    "X_train = X[:train_m]\n",
    "X_test = X[train_m:]\n",
    "y_train = y[:train_m]\n",
    "y_test = y[train_m:]\n",
    "X_train_no_news = X[:train_m, :6]\n",
    "X_test_no_news = X[train_m:, :6]"
   ]
  },
  {
   "cell_type": "code",
   "execution_count": 152,
   "metadata": {},
   "outputs": [
    {
     "name": "stderr",
     "output_type": "stream",
     "text": [
      "C:\\Users\\wtime\\Anaconda3\\lib\\site-packages\\sklearn\\linear_model\\ridge.py:167: UserWarning: Singular matrix in solving dual problem. Using least-squares solution instead.\n",
      "  warnings.warn(\"Singular matrix in solving dual problem. Using \"\n"
     ]
    },
    {
     "data": {
      "text/plain": [
       "(0.9969274687164681, 0.9307380932605516)"
      ]
     },
     "execution_count": 152,
     "metadata": {},
     "output_type": "execute_result"
    }
   ],
   "source": [
    "# 분류 모델로 fit 후 score 측정\n",
    "from sklearn.linear_model import Ridge # 예측 Regression\n",
    "rd = Ridge().fit(X_train, y_train)\n",
    "rd.score(X_train, y_train), rd.score(X_test, y_test)  # 결정계수"
   ]
  },
  {
   "cell_type": "code",
   "execution_count": 157,
   "metadata": {},
   "outputs": [
    {
     "name": "stderr",
     "output_type": "stream",
     "text": [
      "C:\\Users\\wtime\\Anaconda3\\lib\\site-packages\\sklearn\\linear_model\\ridge.py:125: LinAlgWarning: Ill-conditioned matrix (rcond=1.57236e-18): result may not be accurate.\n",
      "  overwrite_a=True).T\n"
     ]
    },
    {
     "data": {
      "text/plain": [
       "(0.996959248402465, 0.9324913397734513)"
      ]
     },
     "execution_count": 157,
     "metadata": {},
     "output_type": "execute_result"
    }
   ],
   "source": [
    "rd1 = Ridge().fit(X_train_no_news, y_train)\n",
    "rd1.score(X_train_no_news, y_train), rd1.score(X_test_no_news, y_test)  # 결정계수"
   ]
  },
  {
   "cell_type": "code",
   "execution_count": null,
   "metadata": {},
   "outputs": [],
   "source": []
  }
 ],
 "metadata": {
  "kernelspec": {
   "display_name": "Python 3",
   "language": "python",
   "name": "python3"
  },
  "language_info": {
   "codemirror_mode": {
    "name": "ipython",
    "version": 3
   },
   "file_extension": ".py",
   "mimetype": "text/x-python",
   "name": "python",
   "nbconvert_exporter": "python",
   "pygments_lexer": "ipython3",
   "version": "3.7.3"
  }
 },
 "nbformat": 4,
 "nbformat_minor": 2
}
