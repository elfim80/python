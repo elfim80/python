{
 "cells": [
  {
   "cell_type": "markdown",
   "metadata": {},
   "source": [
    "unit11 대중교통 데이터 시각화하기"
   ]
  },
  {
   "cell_type": "markdown",
   "metadata": {},
   "source": [
    "- T-money 자료 제공\n",
    "- 문제1. 유임 승차 비율이 가장 높은 역은 어디일까?"
   ]
  },
  {
   "cell_type": "code",
   "execution_count": 8,
   "metadata": {},
   "outputs": [],
   "source": [
    "import pandas as pd\n",
    "import numpy as np\n",
    "import matplotlib.pyplot as plt"
   ]
  },
  {
   "cell_type": "code",
   "execution_count": null,
   "metadata": {},
   "outputs": [],
   "source": [
    "df = pd.read_csv('subwayfee.csv', encoding='cp949')\n",
    "df = df.dropna() # 누락값이 있는 행은 버림\n",
    "df = df.replace(',','',regex=True)\n",
    "df.head(1)"
   ]
  },
  {
   "cell_type": "code",
   "execution_count": 19,
   "metadata": {},
   "outputs": [
    {
     "data": {
      "text/plain": [
       "(597, 9)"
      ]
     },
     "execution_count": 19,
     "metadata": {},
     "output_type": "execute_result"
    }
   ],
   "source": [
    "arr = np.array(df)  # 배열로 변환\n",
    "arr.shape"
   ]
  },
  {
   "cell_type": "code",
   "execution_count": 21,
   "metadata": {},
   "outputs": [
    {
     "data": {
      "text/plain": [
       "(array(['2호선', '강남'], dtype=object), 2894341, 31)"
      ]
     },
     "execution_count": 21,
     "metadata": {},
     "output_type": "execute_result"
    }
   ],
   "source": [
    "# 유임승차를 가장 많이 하는 역\n",
    "유임승차 = (arr[:,4]).astype(np.int)\n",
    "arr[np.argmax(유임승차),1:4:2], np.max(유임승차), np.argmax(유임승차)"
   ]
  },
  {
   "cell_type": "code",
   "execution_count": 25,
   "metadata": {},
   "outputs": [
    {
     "data": {
      "text/plain": [
       "(array(['분당선', '복정'], dtype=object), 24.0, 237)"
      ]
     },
     "execution_count": 25,
     "metadata": {},
     "output_type": "execute_result"
    }
   ],
   "source": [
    "# 유임 승차 비율이 가장 높은 곳은?\n",
    "무임승차 = (arr[:,6]).astype(np.int)\n",
    "유임승차비율 = 유임승차/(무임승차+1)\n",
    "arr[np.argmax(유임승차비율),1:4:2], np.max(유임승차비율), np.argmax(유임승차비율)"
   ]
  },
  {
   "cell_type": "code",
   "execution_count": 37,
   "metadata": {},
   "outputs": [
    {
     "data": {
      "text/plain": [
       "(array(['2호선', '강남'], dtype=object), 6234453, 31)"
      ]
     },
     "execution_count": 37,
     "metadata": {},
     "output_type": "execute_result"
    }
   ],
   "source": [
    "# 유무임 승차하 인원이 가장 많은 역은?\n",
    "유무임승하차인원 = (arr[:,4:8]).astype(np.int)\n",
    "#유무임승하차인원\n",
    "a = np.sum(유무임승하차인원, axis=1)\n",
    "arr[np.argmax(a),1:4:2], np.max(a), np.argmax(a)"
   ]
  },
  {
   "cell_type": "code",
   "execution_count": 39,
   "metadata": {},
   "outputs": [
    {
     "data": {
      "text/plain": [
       "(array(['1호선', '종로3가'], dtype=object), 791491, 3)"
      ]
     },
     "execution_count": 39,
     "metadata": {},
     "output_type": "execute_result"
    }
   ],
   "source": [
    "# 무임 승차하 인원이 가장 많은 역은?\n",
    "무임승하차인원 = (arr[:,6:8]).astype(np.int)\n",
    "#무임승하차인원\n",
    "b = np.sum(무임승하차인원, axis=1)\n",
    "arr[np.argmax(b),1:4:2], np.max(b), np.argmax(b)"
   ]
  },
  {
   "cell_type": "code",
   "execution_count": 54,
   "metadata": {},
   "outputs": [
    {
     "data": {
      "image/png": "[encoded data removed]",
      "text/plain": [
       "<Figure size 432x288 with 1 Axes>"
      ]
     },
     "metadata": {},
     "output_type": "display_data"
    }
   ],
   "source": [
    "# 모든 역의 유무임 승하차 비율은 어떻게 될까?\n",
    "# 파이(유임승차 00%, 무임하차 00%)\n",
    "#[유임승차인원:4, 유임하차인원:5, 무임승차인원:6, 무임하차인원:7]\n",
    "a = np.sum(arr[:,4:8].astype(np.int), axis=0)\n",
    "color = ['magenta', 'deeppink', 'hotpink', 'pink']\n",
    "plt.rc('font', family='Malgun Gothic')\n",
    "n = plt.pie(a, labels=df.columns[4:8], colors=color, explode=(0,0.1,0.1,0.2),\n",
    "            autopct='%.2f %%')\n",
    "plt.title('2019년 5월 전체 지하철의 유무임 승차 비율')\n",
    "plt.savefig('all_subway_ratio.png')"
   ]
  },
  {
   "cell_type": "code",
   "execution_count": 60,
   "metadata": {},
   "outputs": [],
   "source": [
    "# 모든 역마다 유무임 승차 비율을 따로 파이 차트로 나타내기 \n",
    "# 유임승차인원이 100만명 이상 승차하는 곳만\n",
    "\n",
    "for i in range(len(arr)):\n",
    "    row = arr[i]\n",
    "    승하차인원 = row[4:8].astype(np.int)\n",
    "    유임승차 = 승하차인원[0]\n",
    "    if 유임승차 > 1000000 : \n",
    "        역이름 = row[1] + ' ' + row[3]\n",
    "        파일명 = 'subway_' + 역이름 + '.png'\n",
    "        color = ['magenta', 'deeppink', 'hotpink', 'pink']\n",
    "        plt.rc('font', family='Malgun Gothic')\n",
    "        n = plt.pie(a, labels=df.columns[4:8], colors=color, explode=(0,0.1,0.1,0.2),\n",
    "                    autopct='%.2f %%')\n",
    "        plt.title('2019년 5월 '+  역이름 + '역의 유무임 승차 비율')\n",
    "        #plt.savefig(파일명)\n",
    "        plt.close()"
   ]
  },
  {
   "cell_type": "code",
   "execution_count": null,
   "metadata": {},
   "outputs": [],
   "source": []
  }
 ],
 "metadata": {
  "kernelspec": {
   "display_name": "Python 3",
   "language": "python",
   "name": "python3"
  },
  "language_info": {
   "codemirror_mode": {
    "name": "ipython",
    "version": 3
   },
   "file_extension": ".py",
   "mimetype": "text/x-python",
   "name": "python",
   "nbconvert_exporter": "python",
   "pygments_lexer": "ipython3",
   "version": "3.7.3"
  }
 },
 "nbformat": 4,
 "nbformat_minor": 2
}
