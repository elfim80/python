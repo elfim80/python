{
 "cells": [
  {
   "cell_type": "markdown",
   "metadata": {},
   "source": [
    "- 삼성전자 주식 다음달 가격이 얼마일까?(회귀)\n",
    "- 비트코인 다음 달 어떻게 될까?(회귀)\n",
    "- 전날 비트 코인 상승하면 다음날 주가와의 상관관계(correlation)"
   ]
  },
  {
   "cell_type": "markdown",
   "metadata": {},
   "source": [
    "1. 목표 설정\n",
    "   1. Y : 미래의 30일의 국내 특정주식과 비트코인의 종가\n",
    "   1. X : 최근 60일간의 데이터\n",
    "      1. step : 하루 간격\n",
    "      1. 양 : x 년치(1년치 : 2018년 6월 ~ 2019년 6월)\n",
    "1. 데이터 획득\n",
    "   1. 국내 기업 1개, 비트코인\n",
    "1. 두 데이터 날짜 기준으로 통합(axis=1)\n",
    "      1. 외국 날짜타입(2018-01-01), 국내(2018.1.1),(18.1.1)\n",
    "      1. 날짜 포맷을 (YYYY-MM-DD) 으로 변환 후 통합  \n",
    "1. 데이터 정제\n",
    "   1. 누락\n",
    "1. 데이터 전처리\n",
    "   1. 특수기호, 문자를 수치로 변환       \n",
    "1. 비트코인 가격 변화와 주가와의 상관관계(correlation)\n",
    "   1. cov() 사용하면 상관관계가 나옴\n",
    "1. 입력 X / 출력 Y 분리\n",
    "   1. m개의 x, y 쌍 ( m은 샘플 갯수 )\n",
    "   1. x(m, 60, 10-15)(국내증시컬럼 + 비트코인컬럼) -> reshape -> (m, 60 * 15)\n",
    "   1. y(m, 30, 2) == (m, 30 * 2)\n",
    "1. 학습용/검증용(test) 분리\n",
    "   1. 섞으면 안되므로 직접 분리\n",
    "   1. 과거 데이터 10% 를 검증용으로 사용\n",
    "1. 모델 선정\n",
    "   1. Ridge 모델,  학습용 데이터로 학습\n",
    "   1. 성능 측정\n",
    "1. 그래프로 시각화\n",
    "   1. 과거 데이타\n",
    "   1. 미래의 예측 predict(x(1, 60 * 15) ) -> return -> y_hat(1, 30 * 2)\n",
    "      1. 미래 예측(1, 30 * 2) -> (30,2) ->  국내주식(30), 비트코인(30) -> 그래프로 그리기"
   ]
  },
  {
   "cell_type": "code",
   "execution_count": 1,
   "metadata": {},
   "outputs": [],
   "source": [
    "import numpy as np\n",
    "import pandas as pd\n",
    "import matplotlib.pyplot as plt"
   ]
  },
  {
   "cell_type": "code",
   "execution_count": 2,
   "metadata": {},
   "outputs": [],
   "source": [
    "samsung_url='https://finance.naver.com/item/sise_day.nhn?code=005930'"
   ]
  },
  {
   "cell_type": "code",
   "execution_count": 3,
   "metadata": {},
   "outputs": [
    {
     "data": {
      "text/html": [
       "<div>\n",
       "<style scoped>\n",
       "    .dataframe tbody tr th:only-of-type {\n",
       "        vertical-align: middle;\n",
       "    }\n",
       "\n",
       "    .dataframe tbody tr th {\n",
       "        vertical-align: top;\n",
       "    }\n",
       "\n",
       "    .dataframe thead th {\n",
       "        text-align: right;\n",
       "    }\n",
       "</style>\n",
       "<table border=\"1\" class=\"dataframe\">\n",
       "  <thead>\n",
       "    <tr style=\"text-align: right;\">\n",
       "      <th></th>\n",
       "      <th>날짜</th>\n",
       "      <th>종가</th>\n",
       "      <th>전일비</th>\n",
       "      <th>시가</th>\n",
       "      <th>고가</th>\n",
       "      <th>저가</th>\n",
       "      <th>거래량</th>\n",
       "    </tr>\n",
       "  </thead>\n",
       "  <tbody>\n",
       "    <tr>\n",
       "      <th>0</th>\n",
       "      <td>NaN</td>\n",
       "      <td>NaN</td>\n",
       "      <td>NaN</td>\n",
       "      <td>NaN</td>\n",
       "      <td>NaN</td>\n",
       "      <td>NaN</td>\n",
       "      <td>NaN</td>\n",
       "    </tr>\n",
       "    <tr>\n",
       "      <th>1</th>\n",
       "      <td>2019.07.03</td>\n",
       "      <td>45550.0</td>\n",
       "      <td>700.0</td>\n",
       "      <td>45750.0</td>\n",
       "      <td>46350.0</td>\n",
       "      <td>45450.0</td>\n",
       "      <td>5151030.0</td>\n",
       "    </tr>\n",
       "    <tr>\n",
       "      <th>2</th>\n",
       "      <td>2019.07.02</td>\n",
       "      <td>46250.0</td>\n",
       "      <td>350.0</td>\n",
       "      <td>46200.0</td>\n",
       "      <td>46900.0</td>\n",
       "      <td>45850.0</td>\n",
       "      <td>8463073.0</td>\n",
       "    </tr>\n",
       "  </tbody>\n",
       "</table>\n",
       "</div>"
      ],
      "text/plain": [
       "           날짜       종가    전일비       시가       고가       저가        거래량\n",
       "0         NaN      NaN    NaN      NaN      NaN      NaN        NaN\n",
       "1  2019.07.03  45550.0  700.0  45750.0  46350.0  45450.0  5151030.0\n",
       "2  2019.07.02  46250.0  350.0  46200.0  46900.0  45850.0  8463073.0"
      ]
     },
     "execution_count": 3,
     "metadata": {},
     "output_type": "execute_result"
    }
   ],
   "source": [
    "# 기본 정보 확인\n",
    "tables = pd.read_html(samsung_url+'&page='+str('1'))\n",
    "len(tables)\n",
    "tables[0].head(3)"
   ]
  },
  {
   "cell_type": "code",
   "execution_count": 125,
   "metadata": {},
   "outputs": [
    {
     "data": {
      "text/plain": [
       "26"
      ]
     },
     "execution_count": 125,
     "metadata": {},
     "output_type": "execute_result"
    }
   ],
   "source": [
    "samsungs = []\n",
    "for i in range(1,27):\n",
    "    tables = pd.read_html(samsung_url+'&page='+str(i))\n",
    "    samsung = tables[0]\n",
    "    samsungs.append(samsung)\n",
    "len(samsungs)"
   ]
  },
  {
   "cell_type": "code",
   "execution_count": 126,
   "metadata": {},
   "outputs": [
    {
     "data": {
      "text/plain": [
       "(390, 7)"
      ]
     },
     "execution_count": 126,
     "metadata": {},
     "output_type": "execute_result"
    }
   ],
   "source": [
    "samsung = pd.concat(samsungs, axis=0)\n",
    "samsung.shape"
   ]
  },
  {
   "cell_type": "code",
   "execution_count": 127,
   "metadata": {},
   "outputs": [
    {
     "data": {
      "text/html": [
       "<div>\n",
       "<style scoped>\n",
       "    .dataframe tbody tr th:only-of-type {\n",
       "        vertical-align: middle;\n",
       "    }\n",
       "\n",
       "    .dataframe tbody tr th {\n",
       "        vertical-align: top;\n",
       "    }\n",
       "\n",
       "    .dataframe thead th {\n",
       "        text-align: right;\n",
       "    }\n",
       "</style>\n",
       "<table border=\"1\" class=\"dataframe\">\n",
       "  <thead>\n",
       "    <tr style=\"text-align: right;\">\n",
       "      <th></th>\n",
       "      <th>Date</th>\n",
       "      <th>Open*</th>\n",
       "      <th>High</th>\n",
       "      <th>Low</th>\n",
       "      <th>Close**</th>\n",
       "      <th>Volume</th>\n",
       "      <th>Market Cap</th>\n",
       "    </tr>\n",
       "  </thead>\n",
       "  <tbody>\n",
       "    <tr>\n",
       "      <th>0</th>\n",
       "      <td>Jul 01, 2019</td>\n",
       "      <td>10796.93</td>\n",
       "      <td>11206.44</td>\n",
       "      <td>10089.31</td>\n",
       "      <td>10583.13</td>\n",
       "      <td>29378589324</td>\n",
       "      <td>188297637574</td>\n",
       "    </tr>\n",
       "    <tr>\n",
       "      <th>1</th>\n",
       "      <td>Jun 30, 2019</td>\n",
       "      <td>11931.99</td>\n",
       "      <td>12178.38</td>\n",
       "      <td>10799.01</td>\n",
       "      <td>10817.16</td>\n",
       "      <td>27256473494</td>\n",
       "      <td>192442065810</td>\n",
       "    </tr>\n",
       "    <tr>\n",
       "      <th>2</th>\n",
       "      <td>Jun 29, 2019</td>\n",
       "      <td>12400.76</td>\n",
       "      <td>12400.91</td>\n",
       "      <td>11508.38</td>\n",
       "      <td>11959.37</td>\n",
       "      <td>29923961128</td>\n",
       "      <td>212739713110</td>\n",
       "    </tr>\n",
       "  </tbody>\n",
       "</table>\n",
       "</div>"
      ],
      "text/plain": [
       "           Date     Open*      High       Low   Close**       Volume  \\\n",
       "0  Jul 01, 2019  10796.93  11206.44  10089.31  10583.13  29378589324   \n",
       "1  Jun 30, 2019  11931.99  12178.38  10799.01  10817.16  27256473494   \n",
       "2  Jun 29, 2019  12400.76  12400.91  11508.38  11959.37  29923961128   \n",
       "\n",
       "     Market Cap  \n",
       "0  188297637574  \n",
       "1  192442065810  \n",
       "2  212739713110  "
      ]
     },
     "execution_count": 127,
     "metadata": {},
     "output_type": "execute_result"
    }
   ],
   "source": [
    "bitcoin_url='https://coinmarketcap.com/currencies/bitcoin/historical-data/'\n",
    "bitcoin_url+='?start=20170601&end=20190701'\n",
    "tables = pd.read_html(bitcoin_url)\n",
    "bitcoin = tables[0]\n",
    "bitcoin.head(3)"
   ]
  },
  {
   "cell_type": "markdown",
   "metadata": {},
   "source": [
    "# 데이터 통합\n",
    "- 두 데이터 날짜 기준으로 통합(axis=1)\n",
    "- 외국 날짜타입(2018-01-01), 국내(2018.1.1),(18.1.1)\n",
    "- 날짜 포맷을 (YYYY-MM-DD) 으로 변환 후 통합  "
   ]
  },
  {
   "cell_type": "code",
   "execution_count": 128,
   "metadata": {},
   "outputs": [
    {
     "data": {
      "text/plain": [
       "((390, 7), (761, 7))"
      ]
     },
     "execution_count": 128,
     "metadata": {},
     "output_type": "execute_result"
    }
   ],
   "source": [
    "samsung.shape, bitcoin.shape"
   ]
  },
  {
   "cell_type": "code",
   "execution_count": 129,
   "metadata": {},
   "outputs": [],
   "source": [
    "# 날짜를 인덱스로 변환 하여 맞추기\n",
    "samsung = samsung.set_index('날짜')"
   ]
  },
  {
   "cell_type": "code",
   "execution_count": 130,
   "metadata": {},
   "outputs": [],
   "source": [
    "bitcoin = bitcoin.set_index('Date')"
   ]
  },
  {
   "cell_type": "code",
   "execution_count": 131,
   "metadata": {},
   "outputs": [
    {
     "data": {
      "text/plain": [
       "Index([         nan, '2019.07.03', '2019.07.02', '2019.07.01', '2019.06.28',\n",
       "       '2019.06.27',          nan,          nan,          nan, '2019.06.26',\n",
       "       ...\n",
       "       '2018.06.20',          nan,          nan,          nan, '2018.06.19',\n",
       "       '2018.06.18', '2018.06.15', '2018.06.14', '2018.06.12',          nan],\n",
       "      dtype='object', name='날짜', length=390)"
      ]
     },
     "execution_count": 131,
     "metadata": {},
     "output_type": "execute_result"
    }
   ],
   "source": [
    "samsung.index"
   ]
  },
  {
   "cell_type": "code",
   "execution_count": 132,
   "metadata": {},
   "outputs": [
    {
     "data": {
      "text/plain": [
       "Index(['Jul 01, 2019', 'Jun 30, 2019', 'Jun 29, 2019', 'Jun 28, 2019',\n",
       "       'Jun 27, 2019', 'Jun 26, 2019', 'Jun 25, 2019', 'Jun 24, 2019',\n",
       "       'Jun 23, 2019', 'Jun 22, 2019',\n",
       "       ...\n",
       "       'Jun 10, 2017', 'Jun 09, 2017', 'Jun 08, 2017', 'Jun 07, 2017',\n",
       "       'Jun 06, 2017', 'Jun 05, 2017', 'Jun 04, 2017', 'Jun 03, 2017',\n",
       "       'Jun 02, 2017', 'Jun 01, 2017'],\n",
       "      dtype='object', name='Date', length=761)"
      ]
     },
     "execution_count": 132,
     "metadata": {},
     "output_type": "execute_result"
    }
   ],
   "source": [
    "bitcoin.index"
   ]
  },
  {
   "cell_type": "code",
   "execution_count": 133,
   "metadata": {},
   "outputs": [],
   "source": [
    "# 인덱스를 날짜 타입으로 바꾸기\n",
    "bitcoin.index = pd.to_datetime(bitcoin.index)\n",
    "samsung.index = pd.to_datetime(samsung.index)"
   ]
  },
  {
   "cell_type": "code",
   "execution_count": 134,
   "metadata": {},
   "outputs": [
    {
     "data": {
      "text/plain": [
       "DatetimeIndex(['2019-07-01', '2019-06-30', '2019-06-29', '2019-06-28',\n",
       "               '2019-06-27', '2019-06-26', '2019-06-25', '2019-06-24',\n",
       "               '2019-06-23', '2019-06-22',\n",
       "               ...\n",
       "               '2017-06-10', '2017-06-09', '2017-06-08', '2017-06-07',\n",
       "               '2017-06-06', '2017-06-05', '2017-06-04', '2017-06-03',\n",
       "               '2017-06-02', '2017-06-01'],\n",
       "              dtype='datetime64[ns]', name='Date', length=761, freq=None)"
      ]
     },
     "execution_count": 134,
     "metadata": {},
     "output_type": "execute_result"
    }
   ],
   "source": [
    "bitcoin.index"
   ]
  },
  {
   "cell_type": "code",
   "execution_count": 135,
   "metadata": {},
   "outputs": [
    {
     "data": {
      "text/plain": [
       "DatetimeIndex([       'NaT', '2019-07-03', '2019-07-02', '2019-07-01',\n",
       "               '2019-06-28', '2019-06-27',        'NaT',        'NaT',\n",
       "                      'NaT', '2019-06-26',\n",
       "               ...\n",
       "               '2018-06-20',        'NaT',        'NaT',        'NaT',\n",
       "               '2018-06-19', '2018-06-18', '2018-06-15', '2018-06-14',\n",
       "               '2018-06-12',        'NaT'],\n",
       "              dtype='datetime64[ns]', name='날짜', length=390, freq=None)"
      ]
     },
     "execution_count": 135,
     "metadata": {},
     "output_type": "execute_result"
    }
   ],
   "source": [
    "samsung.index"
   ]
  },
  {
   "cell_type": "code",
   "execution_count": 136,
   "metadata": {},
   "outputs": [
    {
     "data": {
      "text/plain": [
       "(258, 12)"
      ]
     },
     "execution_count": 136,
     "metadata": {},
     "output_type": "execute_result"
    }
   ],
   "source": [
    "# 통합 :  삼성과 비트코인을 열로 붙이기 \n",
    "df = pd.concat((samsung, bitcoin), axis=1).dropna()\n",
    "df.shape"
   ]
  },
  {
   "cell_type": "code",
   "execution_count": 137,
   "metadata": {},
   "outputs": [
    {
     "data": {
      "text/plain": [
       "종가            float64\n",
       "전일비           float64\n",
       "시가            float64\n",
       "고가            float64\n",
       "저가            float64\n",
       "거래량           float64\n",
       "Open*         float64\n",
       "High          float64\n",
       "Low           float64\n",
       "Close**       float64\n",
       "Volume        float64\n",
       "Market Cap    float64\n",
       "dtype: object"
      ]
     },
     "execution_count": 137,
     "metadata": {},
     "output_type": "execute_result"
    }
   ],
   "source": [
    "df.dtypes"
   ]
  },
  {
   "cell_type": "code",
   "execution_count": 138,
   "metadata": {},
   "outputs": [
    {
     "data": {
      "text/html": [
       "<div>\n",
       "<style scoped>\n",
       "    .dataframe tbody tr th:only-of-type {\n",
       "        vertical-align: middle;\n",
       "    }\n",
       "\n",
       "    .dataframe tbody tr th {\n",
       "        vertical-align: top;\n",
       "    }\n",
       "\n",
       "    .dataframe thead th {\n",
       "        text-align: right;\n",
       "    }\n",
       "</style>\n",
       "<table border=\"1\" class=\"dataframe\">\n",
       "  <thead>\n",
       "    <tr style=\"text-align: right;\">\n",
       "      <th></th>\n",
       "      <th>종가</th>\n",
       "      <th>전일비</th>\n",
       "      <th>시가</th>\n",
       "      <th>고가</th>\n",
       "      <th>저가</th>\n",
       "      <th>거래량</th>\n",
       "      <th>Open*</th>\n",
       "      <th>High</th>\n",
       "      <th>Low</th>\n",
       "      <th>Close**</th>\n",
       "      <th>Volume</th>\n",
       "      <th>Market Cap</th>\n",
       "    </tr>\n",
       "  </thead>\n",
       "  <tbody>\n",
       "    <tr>\n",
       "      <th>count</th>\n",
       "      <td>258.000000</td>\n",
       "      <td>258.000000</td>\n",
       "      <td>258.000000</td>\n",
       "      <td>258.000000</td>\n",
       "      <td>258.000000</td>\n",
       "      <td>2.580000e+02</td>\n",
       "      <td>258.000000</td>\n",
       "      <td>258.000000</td>\n",
       "      <td>258.000000</td>\n",
       "      <td>258.000000</td>\n",
       "      <td>2.580000e+02</td>\n",
       "      <td>2.580000e+02</td>\n",
       "    </tr>\n",
       "    <tr>\n",
       "      <th>mean</th>\n",
       "      <td>44431.395349</td>\n",
       "      <td>517.441860</td>\n",
       "      <td>44418.217054</td>\n",
       "      <td>44854.651163</td>\n",
       "      <td>43969.379845</td>\n",
       "      <td>1.117718e+07</td>\n",
       "      <td>5846.906860</td>\n",
       "      <td>5980.950620</td>\n",
       "      <td>5721.996357</td>\n",
       "      <td>5856.674651</td>\n",
       "      <td>9.321583e+09</td>\n",
       "      <td>1.021469e+11</td>\n",
       "    </tr>\n",
       "    <tr>\n",
       "      <th>std</th>\n",
       "      <td>2382.491827</td>\n",
       "      <td>441.528613</td>\n",
       "      <td>2430.824571</td>\n",
       "      <td>2377.046052</td>\n",
       "      <td>2380.480039</td>\n",
       "      <td>3.879109e+06</td>\n",
       "      <td>1818.040067</td>\n",
       "      <td>1908.624114</td>\n",
       "      <td>1747.318151</td>\n",
       "      <td>1844.164278</td>\n",
       "      <td>7.562480e+09</td>\n",
       "      <td>3.248507e+10</td>\n",
       "    </tr>\n",
       "    <tr>\n",
       "      <th>min</th>\n",
       "      <td>37450.000000</td>\n",
       "      <td>0.000000</td>\n",
       "      <td>37450.000000</td>\n",
       "      <td>37600.000000</td>\n",
       "      <td>36850.000000</td>\n",
       "      <td>4.762460e+06</td>\n",
       "      <td>3253.120000</td>\n",
       "      <td>3329.560000</td>\n",
       "      <td>3206.540000</td>\n",
       "      <td>3242.480000</td>\n",
       "      <td>3.230550e+09</td>\n",
       "      <td>5.649438e+10</td>\n",
       "    </tr>\n",
       "    <tr>\n",
       "      <th>25%</th>\n",
       "      <td>43112.500000</td>\n",
       "      <td>200.000000</td>\n",
       "      <td>43087.500000</td>\n",
       "      <td>43800.000000</td>\n",
       "      <td>42500.000000</td>\n",
       "      <td>8.264758e+06</td>\n",
       "      <td>4000.277500</td>\n",
       "      <td>4069.190000</td>\n",
       "      <td>3928.195000</td>\n",
       "      <td>3988.765000</td>\n",
       "      <td>4.378805e+09</td>\n",
       "      <td>6.997451e+10</td>\n",
       "    </tr>\n",
       "    <tr>\n",
       "      <th>50%</th>\n",
       "      <td>44850.000000</td>\n",
       "      <td>400.000000</td>\n",
       "      <td>44800.000000</td>\n",
       "      <td>45275.000000</td>\n",
       "      <td>44375.000000</td>\n",
       "      <td>1.067809e+07</td>\n",
       "      <td>6297.650000</td>\n",
       "      <td>6373.265000</td>\n",
       "      <td>6200.290000</td>\n",
       "      <td>6265.410000</td>\n",
       "      <td>5.591477e+09</td>\n",
       "      <td>1.084090e+11</td>\n",
       "    </tr>\n",
       "    <tr>\n",
       "      <th>75%</th>\n",
       "      <td>46237.500000</td>\n",
       "      <td>750.000000</td>\n",
       "      <td>46337.500000</td>\n",
       "      <td>46750.000000</td>\n",
       "      <td>45900.000000</td>\n",
       "      <td>1.289709e+07</td>\n",
       "      <td>6739.540000</td>\n",
       "      <td>6815.327500</td>\n",
       "      <td>6574.872500</td>\n",
       "      <td>6733.550000</td>\n",
       "      <td>1.080033e+10</td>\n",
       "      <td>1.155321e+11</td>\n",
       "    </tr>\n",
       "    <tr>\n",
       "      <th>max</th>\n",
       "      <td>49400.000000</td>\n",
       "      <td>2200.000000</td>\n",
       "      <td>49700.000000</td>\n",
       "      <td>49800.000000</td>\n",
       "      <td>49250.000000</td>\n",
       "      <td>2.625465e+07</td>\n",
       "      <td>13017.120000</td>\n",
       "      <td>13796.490000</td>\n",
       "      <td>11755.600000</td>\n",
       "      <td>13016.230000</td>\n",
       "      <td>4.510573e+10</td>\n",
       "      <td>2.314621e+11</td>\n",
       "    </tr>\n",
       "  </tbody>\n",
       "</table>\n",
       "</div>"
      ],
      "text/plain": [
       "                 종가          전일비            시가            고가            저가  \\\n",
       "count    258.000000   258.000000    258.000000    258.000000    258.000000   \n",
       "mean   44431.395349   517.441860  44418.217054  44854.651163  43969.379845   \n",
       "std     2382.491827   441.528613   2430.824571   2377.046052   2380.480039   \n",
       "min    37450.000000     0.000000  37450.000000  37600.000000  36850.000000   \n",
       "25%    43112.500000   200.000000  43087.500000  43800.000000  42500.000000   \n",
       "50%    44850.000000   400.000000  44800.000000  45275.000000  44375.000000   \n",
       "75%    46237.500000   750.000000  46337.500000  46750.000000  45900.000000   \n",
       "max    49400.000000  2200.000000  49700.000000  49800.000000  49250.000000   \n",
       "\n",
       "                거래량         Open*          High           Low       Close**  \\\n",
       "count  2.580000e+02    258.000000    258.000000    258.000000    258.000000   \n",
       "mean   1.117718e+07   5846.906860   5980.950620   5721.996357   5856.674651   \n",
       "std    3.879109e+06   1818.040067   1908.624114   1747.318151   1844.164278   \n",
       "min    4.762460e+06   3253.120000   3329.560000   3206.540000   3242.480000   \n",
       "25%    8.264758e+06   4000.277500   4069.190000   3928.195000   3988.765000   \n",
       "50%    1.067809e+07   6297.650000   6373.265000   6200.290000   6265.410000   \n",
       "75%    1.289709e+07   6739.540000   6815.327500   6574.872500   6733.550000   \n",
       "max    2.625465e+07  13017.120000  13796.490000  11755.600000  13016.230000   \n",
       "\n",
       "             Volume    Market Cap  \n",
       "count  2.580000e+02  2.580000e+02  \n",
       "mean   9.321583e+09  1.021469e+11  \n",
       "std    7.562480e+09  3.248507e+10  \n",
       "min    3.230550e+09  5.649438e+10  \n",
       "25%    4.378805e+09  6.997451e+10  \n",
       "50%    5.591477e+09  1.084090e+11  \n",
       "75%    1.080033e+10  1.155321e+11  \n",
       "max    4.510573e+10  2.314621e+11  "
      ]
     },
     "execution_count": 138,
     "metadata": {},
     "output_type": "execute_result"
    }
   ],
   "source": [
    "df.describe()  # 데이타의 통계 정보를 보여줌 => 제대로 보여주면 data에 이상 없음."
   ]
  },
  {
   "cell_type": "code",
   "execution_count": 139,
   "metadata": {},
   "outputs": [
    {
     "data": {
      "text/plain": [
       "0"
      ]
     },
     "execution_count": 139,
     "metadata": {},
     "output_type": "execute_result"
    }
   ],
   "source": [
    "df.isna().sum().sum()  # 데이타에 null이 몇개 있는지를 확인"
   ]
  },
  {
   "cell_type": "code",
   "execution_count": 140,
   "metadata": {},
   "outputs": [
    {
     "data": {
      "text/html": [
       "<div>\n",
       "<style scoped>\n",
       "    .dataframe tbody tr th:only-of-type {\n",
       "        vertical-align: middle;\n",
       "    }\n",
       "\n",
       "    .dataframe tbody tr th {\n",
       "        vertical-align: top;\n",
       "    }\n",
       "\n",
       "    .dataframe thead th {\n",
       "        text-align: right;\n",
       "    }\n",
       "</style>\n",
       "<table border=\"1\" class=\"dataframe\">\n",
       "  <thead>\n",
       "    <tr style=\"text-align: right;\">\n",
       "      <th></th>\n",
       "      <th>종가</th>\n",
       "      <th>전일비</th>\n",
       "      <th>시가</th>\n",
       "      <th>고가</th>\n",
       "      <th>저가</th>\n",
       "      <th>거래량</th>\n",
       "      <th>Open*</th>\n",
       "      <th>High</th>\n",
       "      <th>Low</th>\n",
       "      <th>Close**</th>\n",
       "      <th>Volume</th>\n",
       "      <th>Market Cap</th>\n",
       "    </tr>\n",
       "  </thead>\n",
       "  <tbody>\n",
       "    <tr>\n",
       "      <th>종가</th>\n",
       "      <td>5.676267e+06</td>\n",
       "      <td>-1.566646e+04</td>\n",
       "      <td>5.636459e+06</td>\n",
       "      <td>5.600145e+06</td>\n",
       "      <td>5.607473e+06</td>\n",
       "      <td>-1.863217e+09</td>\n",
       "      <td>1.401916e+06</td>\n",
       "      <td>1.436798e+06</td>\n",
       "      <td>1.389545e+06</td>\n",
       "      <td>1.433289e+06</td>\n",
       "      <td>-2.091046e+11</td>\n",
       "      <td>2.420745e+13</td>\n",
       "    </tr>\n",
       "    <tr>\n",
       "      <th>전일비</th>\n",
       "      <td>-1.566646e+04</td>\n",
       "      <td>1.949475e+05</td>\n",
       "      <td>-1.230341e+04</td>\n",
       "      <td>2.553140e+04</td>\n",
       "      <td>-5.045607e+04</td>\n",
       "      <td>8.494671e+08</td>\n",
       "      <td>-4.429880e+04</td>\n",
       "      <td>-5.598956e+04</td>\n",
       "      <td>-4.969676e+04</td>\n",
       "      <td>-6.219103e+04</td>\n",
       "      <td>-2.841456e+11</td>\n",
       "      <td>-1.131278e+12</td>\n",
       "    </tr>\n",
       "    <tr>\n",
       "      <th>시가</th>\n",
       "      <td>5.636459e+06</td>\n",
       "      <td>-1.230341e+04</td>\n",
       "      <td>5.908908e+06</td>\n",
       "      <td>5.710557e+06</td>\n",
       "      <td>5.724422e+06</td>\n",
       "      <td>-1.645382e+09</td>\n",
       "      <td>1.389585e+06</td>\n",
       "      <td>1.424391e+06</td>\n",
       "      <td>1.374487e+06</td>\n",
       "      <td>1.418747e+06</td>\n",
       "      <td>-2.120768e+11</td>\n",
       "      <td>2.390680e+13</td>\n",
       "    </tr>\n",
       "    <tr>\n",
       "      <th>고가</th>\n",
       "      <td>5.600145e+06</td>\n",
       "      <td>2.553140e+04</td>\n",
       "      <td>5.710557e+06</td>\n",
       "      <td>5.650348e+06</td>\n",
       "      <td>5.601845e+06</td>\n",
       "      <td>-1.420838e+09</td>\n",
       "      <td>1.360627e+06</td>\n",
       "      <td>1.390414e+06</td>\n",
       "      <td>1.350235e+06</td>\n",
       "      <td>1.387687e+06</td>\n",
       "      <td>-3.208362e+11</td>\n",
       "      <td>2.336408e+13</td>\n",
       "    </tr>\n",
       "    <tr>\n",
       "      <th>저가</th>\n",
       "      <td>5.607473e+06</td>\n",
       "      <td>-5.045607e+04</td>\n",
       "      <td>5.724422e+06</td>\n",
       "      <td>5.601845e+06</td>\n",
       "      <td>5.666685e+06</td>\n",
       "      <td>-2.011985e+09</td>\n",
       "      <td>1.407162e+06</td>\n",
       "      <td>1.448885e+06</td>\n",
       "      <td>1.395153e+06</td>\n",
       "      <td>1.445884e+06</td>\n",
       "      <td>-2.154985e+11</td>\n",
       "      <td>2.439827e+13</td>\n",
       "    </tr>\n",
       "    <tr>\n",
       "      <th>거래량</th>\n",
       "      <td>-1.863217e+09</td>\n",
       "      <td>8.494671e+08</td>\n",
       "      <td>-1.645382e+09</td>\n",
       "      <td>-1.420838e+09</td>\n",
       "      <td>-2.011985e+09</td>\n",
       "      <td>1.504749e+13</td>\n",
       "      <td>-9.796846e+08</td>\n",
       "      <td>-1.073008e+09</td>\n",
       "      <td>-9.793449e+08</td>\n",
       "      <td>-1.073405e+09</td>\n",
       "      <td>2.332097e+14</td>\n",
       "      <td>-1.843978e+16</td>\n",
       "    </tr>\n",
       "    <tr>\n",
       "      <th>Open*</th>\n",
       "      <td>1.401916e+06</td>\n",
       "      <td>-4.429880e+04</td>\n",
       "      <td>1.389585e+06</td>\n",
       "      <td>1.360627e+06</td>\n",
       "      <td>1.407162e+06</td>\n",
       "      <td>-9.796846e+08</td>\n",
       "      <td>3.305270e+06</td>\n",
       "      <td>3.452333e+06</td>\n",
       "      <td>3.155542e+06</td>\n",
       "      <td>3.317781e+06</td>\n",
       "      <td>6.424554e+12</td>\n",
       "      <td>5.833835e+13</td>\n",
       "    </tr>\n",
       "    <tr>\n",
       "      <th>High</th>\n",
       "      <td>1.436798e+06</td>\n",
       "      <td>-5.598956e+04</td>\n",
       "      <td>1.424391e+06</td>\n",
       "      <td>1.390414e+06</td>\n",
       "      <td>1.448885e+06</td>\n",
       "      <td>-1.073008e+09</td>\n",
       "      <td>3.452333e+06</td>\n",
       "      <td>3.642846e+06</td>\n",
       "      <td>3.306736e+06</td>\n",
       "      <td>3.503017e+06</td>\n",
       "      <td>7.218967e+12</td>\n",
       "      <td>6.166556e+13</td>\n",
       "    </tr>\n",
       "    <tr>\n",
       "      <th>Low</th>\n",
       "      <td>1.389545e+06</td>\n",
       "      <td>-4.969676e+04</td>\n",
       "      <td>1.374487e+06</td>\n",
       "      <td>1.350235e+06</td>\n",
       "      <td>1.395153e+06</td>\n",
       "      <td>-9.793449e+08</td>\n",
       "      <td>3.155542e+06</td>\n",
       "      <td>3.306736e+06</td>\n",
       "      <td>3.053121e+06</td>\n",
       "      <td>3.210240e+06</td>\n",
       "      <td>5.936023e+12</td>\n",
       "      <td>5.642439e+13</td>\n",
       "    </tr>\n",
       "    <tr>\n",
       "      <th>Close**</th>\n",
       "      <td>1.433289e+06</td>\n",
       "      <td>-6.219103e+04</td>\n",
       "      <td>1.418747e+06</td>\n",
       "      <td>1.387687e+06</td>\n",
       "      <td>1.445884e+06</td>\n",
       "      <td>-1.073405e+09</td>\n",
       "      <td>3.317781e+06</td>\n",
       "      <td>3.503017e+06</td>\n",
       "      <td>3.210240e+06</td>\n",
       "      <td>3.400942e+06</td>\n",
       "      <td>6.702651e+12</td>\n",
       "      <td>5.984738e+13</td>\n",
       "    </tr>\n",
       "    <tr>\n",
       "      <th>Volume</th>\n",
       "      <td>-2.091046e+11</td>\n",
       "      <td>-2.841456e+11</td>\n",
       "      <td>-2.120768e+11</td>\n",
       "      <td>-3.208362e+11</td>\n",
       "      <td>-2.154985e+11</td>\n",
       "      <td>2.332097e+14</td>\n",
       "      <td>6.424554e+12</td>\n",
       "      <td>7.218967e+12</td>\n",
       "      <td>5.936023e+12</td>\n",
       "      <td>6.702651e+12</td>\n",
       "      <td>5.719111e+19</td>\n",
       "      <td>1.263548e+20</td>\n",
       "    </tr>\n",
       "    <tr>\n",
       "      <th>Market Cap</th>\n",
       "      <td>2.420745e+13</td>\n",
       "      <td>-1.131278e+12</td>\n",
       "      <td>2.390680e+13</td>\n",
       "      <td>2.336408e+13</td>\n",
       "      <td>2.439827e+13</td>\n",
       "      <td>-1.843978e+16</td>\n",
       "      <td>5.833835e+13</td>\n",
       "      <td>6.166556e+13</td>\n",
       "      <td>5.642439e+13</td>\n",
       "      <td>5.984738e+13</td>\n",
       "      <td>1.263548e+20</td>\n",
       "      <td>1.055280e+21</td>\n",
       "    </tr>\n",
       "  </tbody>\n",
       "</table>\n",
       "</div>"
      ],
      "text/plain": [
       "                      종가           전일비            시가            고가  \\\n",
       "종가          5.676267e+06 -1.566646e+04  5.636459e+06  5.600145e+06   \n",
       "전일비        -1.566646e+04  1.949475e+05 -1.230341e+04  2.553140e+04   \n",
       "시가          5.636459e+06 -1.230341e+04  5.908908e+06  5.710557e+06   \n",
       "고가          5.600145e+06  2.553140e+04  5.710557e+06  5.650348e+06   \n",
       "저가          5.607473e+06 -5.045607e+04  5.724422e+06  5.601845e+06   \n",
       "거래량        -1.863217e+09  8.494671e+08 -1.645382e+09 -1.420838e+09   \n",
       "Open*       1.401916e+06 -4.429880e+04  1.389585e+06  1.360627e+06   \n",
       "High        1.436798e+06 -5.598956e+04  1.424391e+06  1.390414e+06   \n",
       "Low         1.389545e+06 -4.969676e+04  1.374487e+06  1.350235e+06   \n",
       "Close**     1.433289e+06 -6.219103e+04  1.418747e+06  1.387687e+06   \n",
       "Volume     -2.091046e+11 -2.841456e+11 -2.120768e+11 -3.208362e+11   \n",
       "Market Cap  2.420745e+13 -1.131278e+12  2.390680e+13  2.336408e+13   \n",
       "\n",
       "                      저가           거래량         Open*          High  \\\n",
       "종가          5.607473e+06 -1.863217e+09  1.401916e+06  1.436798e+06   \n",
       "전일비        -5.045607e+04  8.494671e+08 -4.429880e+04 -5.598956e+04   \n",
       "시가          5.724422e+06 -1.645382e+09  1.389585e+06  1.424391e+06   \n",
       "고가          5.601845e+06 -1.420838e+09  1.360627e+06  1.390414e+06   \n",
       "저가          5.666685e+06 -2.011985e+09  1.407162e+06  1.448885e+06   \n",
       "거래량        -2.011985e+09  1.504749e+13 -9.796846e+08 -1.073008e+09   \n",
       "Open*       1.407162e+06 -9.796846e+08  3.305270e+06  3.452333e+06   \n",
       "High        1.448885e+06 -1.073008e+09  3.452333e+06  3.642846e+06   \n",
       "Low         1.395153e+06 -9.793449e+08  3.155542e+06  3.306736e+06   \n",
       "Close**     1.445884e+06 -1.073405e+09  3.317781e+06  3.503017e+06   \n",
       "Volume     -2.154985e+11  2.332097e+14  6.424554e+12  7.218967e+12   \n",
       "Market Cap  2.439827e+13 -1.843978e+16  5.833835e+13  6.166556e+13   \n",
       "\n",
       "                     Low       Close**        Volume    Market Cap  \n",
       "종가          1.389545e+06  1.433289e+06 -2.091046e+11  2.420745e+13  \n",
       "전일비        -4.969676e+04 -6.219103e+04 -2.841456e+11 -1.131278e+12  \n",
       "시가          1.374487e+06  1.418747e+06 -2.120768e+11  2.390680e+13  \n",
       "고가          1.350235e+06  1.387687e+06 -3.208362e+11  2.336408e+13  \n",
       "저가          1.395153e+06  1.445884e+06 -2.154985e+11  2.439827e+13  \n",
       "거래량        -9.793449e+08 -1.073405e+09  2.332097e+14 -1.843978e+16  \n",
       "Open*       3.155542e+06  3.317781e+06  6.424554e+12  5.833835e+13  \n",
       "High        3.306736e+06  3.503017e+06  7.218967e+12  6.166556e+13  \n",
       "Low         3.053121e+06  3.210240e+06  5.936023e+12  5.642439e+13  \n",
       "Close**     3.210240e+06  3.400942e+06  6.702651e+12  5.984738e+13  \n",
       "Volume      5.936023e+12  6.702651e+12  5.719111e+19  1.263548e+20  \n",
       "Market Cap  5.642439e+13  5.984738e+13  1.263548e+20  1.055280e+21  "
      ]
     },
     "execution_count": 140,
     "metadata": {},
     "output_type": "execute_result"
    }
   ],
   "source": [
    "df.cov()  # 상관관계를 보여줌"
   ]
  },
  {
   "cell_type": "markdown",
   "metadata": {},
   "source": [
    "전날 비트 코인 상승하면 다음날 주가와의 상관관계(correlation)"
   ]
  },
  {
   "cell_type": "code",
   "execution_count": 141,
   "metadata": {},
   "outputs": [],
   "source": [
    "비트코인변화 = df['Open*'] - df['Close**']\n",
    "주가변화 = df['시가'] - df['종가']\n",
    "과거비트코인변화 = 비트코인변화.iloc[:-1]\n",
    "다음날주가변화 = 주가변화.iloc[1:]"
   ]
  },
  {
   "cell_type": "code",
   "execution_count": 142,
   "metadata": {},
   "outputs": [
    {
     "data": {
      "image/png": "[encoded data removed]",
      "text/plain": [
       "<Figure size 432x288 with 1 Axes>"
      ]
     },
     "metadata": {
      "needs_background": "light"
     },
     "output_type": "display_data"
    }
   ],
   "source": [
    "p = plt.scatter(과거비트코인변화, 다음날주가변화)  # 결과 : 크게 관계가 없음."
   ]
  },
  {
   "cell_type": "code",
   "execution_count": 143,
   "metadata": {},
   "outputs": [
    {
     "data": {
      "text/plain": [
       "array([-1084592.])"
      ]
     },
     "execution_count": 143,
     "metadata": {},
     "output_type": "execute_result"
    }
   ],
   "source": [
    "np.correlate(과거비트코인변화, 다음날주가변화)"
   ]
  },
  {
   "cell_type": "code",
   "execution_count": 144,
   "metadata": {},
   "outputs": [
    {
     "data": {
      "text/plain": [
       "array([[ 1.        , -0.02950345],\n",
       "       [-0.02950345,  1.        ]])"
      ]
     },
     "execution_count": 144,
     "metadata": {},
     "output_type": "execute_result"
    }
   ],
   "source": [
    "np.corrcoef(과거비트코인변화, 다음날주가변화)  # 결과가 0 에 가까우면 상관없음."
   ]
  },
  {
   "cell_type": "markdown",
   "metadata": {},
   "source": [
    "# 입력 X / 출력 Y 분리\n",
    "- m개의 x, y 쌍 ( m은 샘플 갯수 )\n",
    "- x(m, 60, 10-15)(국내증시컬럼 + 비트코인컬럼) -> reshape -> (m, 60 * 15)\n",
    "- y(m, 30, 2) == (m, 30 * 2)"
   ]
  },
  {
   "cell_type": "code",
   "execution_count": 145,
   "metadata": {},
   "outputs": [
    {
     "data": {
      "text/plain": [
       "(258, 169)"
      ]
     },
     "execution_count": 145,
     "metadata": {},
     "output_type": "execute_result"
    }
   ],
   "source": [
    "input_seq = 60  #\n",
    "output_seq = 30\n",
    "m = len(df) - (input_seq + output_seq) + 1\n",
    "len(df), m"
   ]
  },
  {
   "cell_type": "code",
   "execution_count": 146,
   "metadata": {},
   "outputs": [],
   "source": [
    "# df = df/df.sum() # 그냥 정규화\n",
    "df = (df - df.min()) / (df.max()-df.min())  # min_max 정규화\n",
    "x_list = []\n",
    "y_list = []\n",
    "for i in range(m):\n",
    "    x = df.iloc[i:i+input_seq]  # 60일씩\n",
    "    y = df.iloc[i+input_seq:i+input_seq+output_seq][['종가', 'Close**']]\n",
    "    #x_list.append(x.values)         \n",
    "    #y_list.append(y.values)\n",
    "    x_list.append(x)         \n",
    "    y_list.append(y)"
   ]
  },
  {
   "cell_type": "code",
   "execution_count": 147,
   "metadata": {},
   "outputs": [
    {
     "data": {
      "text/plain": [
       "((169, 60, 12), (169, 30, 2))"
      ]
     },
     "execution_count": 147,
     "metadata": {},
     "output_type": "execute_result"
    }
   ],
   "source": [
    "# 7월 3일 코딩방법 (배열을 쌓음)\n",
    "x_3d = np.stack(x_list, axis=0)\n",
    "y_3d = np.stack(y_list, axis=0)\n",
    "x_3d.shape, y_3d.shape "
   ]
  },
  {
   "cell_type": "code",
   "execution_count": 148,
   "metadata": {},
   "outputs": [],
   "source": [
    "# 7월 2일 코딩 방법\n",
    "# X = np.array(x_list)\n",
    "# y = np.array(y_list)\n",
    "# X.shape, y.shape  \n",
    "# 2차원으로 변환\n",
    "# X = np.reshape(X,[m, -1])\n",
    "# y = np.reshape(y,[m, -1])"
   ]
  },
  {
   "cell_type": "code",
   "execution_count": 149,
   "metadata": {},
   "outputs": [],
   "source": [
    "korea_close_index = 0\n",
    "bitcoin_close_index = 9"
   ]
  },
  {
   "cell_type": "code",
   "execution_count": 150,
   "metadata": {},
   "outputs": [
    {
     "data": {
      "text/plain": [
       "<matplotlib.axes._subplots.AxesSubplot at 0x1c68a7e19b0>"
      ]
     },
     "execution_count": 150,
     "metadata": {},
     "output_type": "execute_result"
    },
    {
     "data": {
      "image/png": "[encoded data removed]",
      "text/plain": [
       "<Figure size 432x288 with 1 Axes>"
      ]
     },
     "metadata": {
      "needs_background": "light"
     },
     "output_type": "display_data"
    }
   ],
   "source": [
    "df['종가'].plot()\n",
    "df['Close**'].plot()"
   ]
  },
  {
   "cell_type": "markdown",
   "metadata": {},
   "source": [
    "# Train / Test 분리\n",
    "- test 10%"
   ]
  },
  {
   "cell_type": "code",
   "execution_count": 151,
   "metadata": {},
   "outputs": [
    {
     "data": {
      "text/plain": [
       "16"
      ]
     },
     "execution_count": 151,
     "metadata": {},
     "output_type": "execute_result"
    }
   ],
   "source": [
    "test_ratio = 0.1\n",
    "test_m = int(len(x_3d) *  test_ratio)\n",
    "test_m"
   ]
  },
  {
   "cell_type": "code",
   "execution_count": 152,
   "metadata": {},
   "outputs": [],
   "source": [
    "x_2d = np.reshape(x_3d,[m, -1])\n",
    "y_2d = np.reshape(y_3d,[m, -1])\n",
    "x_test = x_2d[:test_m]\n",
    "x_train = x_2d[test_m:]\n",
    "y_test = y_2d[:test_m]\n",
    "y_train = y_2d[test_m:]"
   ]
  },
  {
   "cell_type": "code",
   "execution_count": 153,
   "metadata": {},
   "outputs": [
    {
     "data": {
      "text/plain": [
       "((16, 720), (153, 720), (16, 60), (153, 60))"
      ]
     },
     "execution_count": 153,
     "metadata": {},
     "output_type": "execute_result"
    }
   ],
   "source": [
    "x_test.shape, x_train.shape, y_test.shape, y_train.shape"
   ]
  },
  {
   "cell_type": "code",
   "execution_count": 154,
   "metadata": {},
   "outputs": [],
   "source": [
    "# 모델 선택, 학습, 가중치를 작게 제약시킨다 > 모든 정보를 활용해서 예측\n",
    "from sklearn.linear_model import Ridge\n",
    "model = Ridge(solver='lsqr').fit(x_train, y_train)  # 2차원 이하만 가능 : solver='lsqr' => 절대값을 제곱으로 변경"
   ]
  },
  {
   "cell_type": "code",
   "execution_count": 155,
   "metadata": {},
   "outputs": [
    {
     "data": {
      "text/plain": [
       "(0.992512035988599, -9.00566456781055)"
      ]
     },
     "execution_count": 155,
     "metadata": {},
     "output_type": "execute_result"
    }
   ],
   "source": [
    "model.score(x_train, y_train),model.score(x_test, y_test)"
   ]
  },
  {
   "cell_type": "code",
   "execution_count": 156,
   "metadata": {},
   "outputs": [
    {
     "data": {
      "text/plain": [
       "(1, 720)"
      ]
     },
     "execution_count": 156,
     "metadata": {},
     "output_type": "execute_result"
    }
   ],
   "source": [
    "# 가장 최근 데이터\n",
    "recent = df.iloc[-input_seq:]\n",
    "recent = np.reshape(np.array(recent), [1,-1])\n",
    "recent.shape"
   ]
  },
  {
   "cell_type": "code",
   "execution_count": 157,
   "metadata": {},
   "outputs": [
    {
     "data": {
      "text/plain": [
       "(1, 60)"
      ]
     },
     "execution_count": 157,
     "metadata": {},
     "output_type": "execute_result"
    }
   ],
   "source": [
    "p = model.predict(recent)  # 미래예측\n",
    "p.shape"
   ]
  },
  {
   "cell_type": "code",
   "execution_count": 158,
   "metadata": {},
   "outputs": [
    {
     "data": {
      "text/plain": [
       "(30, 2)"
      ]
     },
     "execution_count": 158,
     "metadata": {},
     "output_type": "execute_result"
    }
   ],
   "source": [
    "p = np.reshape(p,[output_seq, -1])\n",
    "p.shape"
   ]
  },
  {
   "cell_type": "code",
   "execution_count": 160,
   "metadata": {},
   "outputs": [
    {
     "data": {
      "text/plain": [
       "<matplotlib.legend.Legend at 0x1c68a45ccf8>"
      ]
     },
     "execution_count": 160,
     "metadata": {},
     "output_type": "execute_result"
    },
    {
     "data": {
      "image/png": "[encoded data removed]",
      "text/plain": [
       "<Figure size 432x288 with 1 Axes>"
      ]
     },
     "metadata": {
      "needs_background": "light"
     },
     "output_type": "display_data"
    }
   ],
   "source": [
    "xm = len(df)\n",
    "plt.plot(np.arange(xm), df['종가'].values)\n",
    "plt.plot(np.arange(xm), df['Close**'].values)\n",
    "plt.plot(np.arange(xm,xm+output_seq), p[:,0], label='samsung')\n",
    "plt.plot(np.arange(xm,xm+output_seq), p[:,1], label='bitcoin')\n",
    "plt.legend()"
   ]
  },
  {
   "cell_type": "code",
   "execution_count": null,
   "metadata": {},
   "outputs": [],
   "source": []
  }
 ],
 "metadata": {
  "kernelspec": {
   "display_name": "Python 3",
   "language": "python",
   "name": "python3"
  },
  "language_info": {
   "codemirror_mode": {
    "name": "ipython",
    "version": 3
   },
   "file_extension": ".py",
   "mimetype": "text/x-python",
   "name": "python",
   "nbconvert_exporter": "python",
   "pygments_lexer": "ipython3",
   "version": "3.7.3"
  }
 },
 "nbformat": 4,
 "nbformat_minor": 2
}
