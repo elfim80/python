{
 "cells": [
  {
   "cell_type": "markdown",
   "metadata": {},
   "source": [
    "### 타이타닉 생존/사망"
   ]
  },
  {
   "cell_type": "code",
   "execution_count": 49,
   "metadata": {},
   "outputs": [],
   "source": [
    "import numpy as np\n",
    "import pandas as pd\n",
    "import matplotlib.pyplot as plt\n",
    "from sklearn.tree import export_graphviz\n",
    "import graphviz\n",
    "import os\n",
    "os.environ[\"PATH\"] += os.pathsep + 'C:/program Files (x86)/Graphviz2.38/bin/'\n"
   ]
  },
  {
   "cell_type": "code",
   "execution_count": 50,
   "metadata": {},
   "outputs": [
    {
     "data": {
      "text/plain": [
       "(887, 8)"
      ]
     },
     "execution_count": 50,
     "metadata": {},
     "output_type": "execute_result"
    }
   ],
   "source": [
    "df = pd.read_csv('titanic.csv')    # Siblings(형제자매)/Spouses(배우자) Aboard \n",
    "df.shape"
   ]
  },
  {
   "cell_type": "code",
   "execution_count": 51,
   "metadata": {},
   "outputs": [
    {
     "data": {
      "text/html": [
       "<div>\n",
       "<style scoped>\n",
       "    .dataframe tbody tr th:only-of-type {\n",
       "        vertical-align: middle;\n",
       "    }\n",
       "\n",
       "    .dataframe tbody tr th {\n",
       "        vertical-align: top;\n",
       "    }\n",
       "\n",
       "    .dataframe thead th {\n",
       "        text-align: right;\n",
       "    }\n",
       "</style>\n",
       "<table border=\"1\" class=\"dataframe\">\n",
       "  <thead>\n",
       "    <tr style=\"text-align: right;\">\n",
       "      <th></th>\n",
       "      <th>Survived</th>\n",
       "      <th>Pclass</th>\n",
       "      <th>Name</th>\n",
       "      <th>Sex</th>\n",
       "      <th>Age</th>\n",
       "      <th>Siblings/Spouses Aboard</th>\n",
       "      <th>Parents/Children Aboard</th>\n",
       "      <th>Fare</th>\n",
       "    </tr>\n",
       "  </thead>\n",
       "  <tbody>\n",
       "    <tr>\n",
       "      <th>0</th>\n",
       "      <td>0</td>\n",
       "      <td>3</td>\n",
       "      <td>Mr. Owen Harris Braund</td>\n",
       "      <td>male</td>\n",
       "      <td>22.0</td>\n",
       "      <td>1</td>\n",
       "      <td>0</td>\n",
       "      <td>7.2500</td>\n",
       "    </tr>\n",
       "    <tr>\n",
       "      <th>1</th>\n",
       "      <td>1</td>\n",
       "      <td>1</td>\n",
       "      <td>Mrs. John Bradley (Florence Briggs Thayer) Cum...</td>\n",
       "      <td>female</td>\n",
       "      <td>38.0</td>\n",
       "      <td>1</td>\n",
       "      <td>0</td>\n",
       "      <td>71.2833</td>\n",
       "    </tr>\n",
       "    <tr>\n",
       "      <th>2</th>\n",
       "      <td>1</td>\n",
       "      <td>3</td>\n",
       "      <td>Miss. Laina Heikkinen</td>\n",
       "      <td>female</td>\n",
       "      <td>26.0</td>\n",
       "      <td>0</td>\n",
       "      <td>0</td>\n",
       "      <td>7.9250</td>\n",
       "    </tr>\n",
       "  </tbody>\n",
       "</table>\n",
       "</div>"
      ],
      "text/plain": [
       "   Survived  Pclass                                               Name  \\\n",
       "0         0       3                             Mr. Owen Harris Braund   \n",
       "1         1       1  Mrs. John Bradley (Florence Briggs Thayer) Cum...   \n",
       "2         1       3                              Miss. Laina Heikkinen   \n",
       "\n",
       "      Sex   Age  Siblings/Spouses Aboard  Parents/Children Aboard     Fare  \n",
       "0    male  22.0                        1                        0   7.2500  \n",
       "1  female  38.0                        1                        0  71.2833  \n",
       "2  female  26.0                        0                        0   7.9250  "
      ]
     },
     "execution_count": 51,
     "metadata": {},
     "output_type": "execute_result"
    }
   ],
   "source": [
    " df.head(3)"
   ]
  },
  {
   "cell_type": "code",
   "execution_count": 52,
   "metadata": {},
   "outputs": [
    {
     "data": {
      "text/plain": [
       "887"
      ]
     },
     "execution_count": 52,
     "metadata": {},
     "output_type": "execute_result"
    }
   ],
   "source": [
    "df.Name.nunique()  # Name이 겹치는 사람이 없음. -> 인덱스 사용하기 좋을 듯"
   ]
  },
  {
   "cell_type": "code",
   "execution_count": 53,
   "metadata": {},
   "outputs": [],
   "source": [
    "df = df.set_index('Name')"
   ]
  },
  {
   "cell_type": "code",
   "execution_count": 54,
   "metadata": {},
   "outputs": [
    {
     "data": {
      "text/html": [
       "<div>\n",
       "<style scoped>\n",
       "    .dataframe tbody tr th:only-of-type {\n",
       "        vertical-align: middle;\n",
       "    }\n",
       "\n",
       "    .dataframe tbody tr th {\n",
       "        vertical-align: top;\n",
       "    }\n",
       "\n",
       "    .dataframe thead th {\n",
       "        text-align: right;\n",
       "    }\n",
       "</style>\n",
       "<table border=\"1\" class=\"dataframe\">\n",
       "  <thead>\n",
       "    <tr style=\"text-align: right;\">\n",
       "      <th></th>\n",
       "      <th>Survived</th>\n",
       "      <th>Pclass</th>\n",
       "      <th>Sex</th>\n",
       "      <th>Age</th>\n",
       "      <th>Siblings/Spouses Aboard</th>\n",
       "      <th>Parents/Children Aboard</th>\n",
       "      <th>Fare</th>\n",
       "    </tr>\n",
       "    <tr>\n",
       "      <th>Name</th>\n",
       "      <th></th>\n",
       "      <th></th>\n",
       "      <th></th>\n",
       "      <th></th>\n",
       "      <th></th>\n",
       "      <th></th>\n",
       "      <th></th>\n",
       "    </tr>\n",
       "  </thead>\n",
       "  <tbody>\n",
       "    <tr>\n",
       "      <th>Mr. Owen Harris Braund</th>\n",
       "      <td>0</td>\n",
       "      <td>3</td>\n",
       "      <td>male</td>\n",
       "      <td>22.0</td>\n",
       "      <td>1</td>\n",
       "      <td>0</td>\n",
       "      <td>7.2500</td>\n",
       "    </tr>\n",
       "    <tr>\n",
       "      <th>Mrs. John Bradley (Florence Briggs Thayer) Cumings</th>\n",
       "      <td>1</td>\n",
       "      <td>1</td>\n",
       "      <td>female</td>\n",
       "      <td>38.0</td>\n",
       "      <td>1</td>\n",
       "      <td>0</td>\n",
       "      <td>71.2833</td>\n",
       "    </tr>\n",
       "    <tr>\n",
       "      <th>Miss. Laina Heikkinen</th>\n",
       "      <td>1</td>\n",
       "      <td>3</td>\n",
       "      <td>female</td>\n",
       "      <td>26.0</td>\n",
       "      <td>0</td>\n",
       "      <td>0</td>\n",
       "      <td>7.9250</td>\n",
       "    </tr>\n",
       "  </tbody>\n",
       "</table>\n",
       "</div>"
      ],
      "text/plain": [
       "                                                    Survived  Pclass     Sex  \\\n",
       "Name                                                                           \n",
       "Mr. Owen Harris Braund                                     0       3    male   \n",
       "Mrs. John Bradley (Florence Briggs Thayer) Cumings         1       1  female   \n",
       "Miss. Laina Heikkinen                                      1       3  female   \n",
       "\n",
       "                                                     Age  \\\n",
       "Name                                                       \n",
       "Mr. Owen Harris Braund                              22.0   \n",
       "Mrs. John Bradley (Florence Briggs Thayer) Cumings  38.0   \n",
       "Miss. Laina Heikkinen                               26.0   \n",
       "\n",
       "                                                    Siblings/Spouses Aboard  \\\n",
       "Name                                                                          \n",
       "Mr. Owen Harris Braund                                                    1   \n",
       "Mrs. John Bradley (Florence Briggs Thayer) Cumings                        1   \n",
       "Miss. Laina Heikkinen                                                     0   \n",
       "\n",
       "                                                    Parents/Children Aboard  \\\n",
       "Name                                                                          \n",
       "Mr. Owen Harris Braund                                                    0   \n",
       "Mrs. John Bradley (Florence Briggs Thayer) Cumings                        0   \n",
       "Miss. Laina Heikkinen                                                     0   \n",
       "\n",
       "                                                       Fare  \n",
       "Name                                                         \n",
       "Mr. Owen Harris Braund                               7.2500  \n",
       "Mrs. John Bradley (Florence Briggs Thayer) Cumings  71.2833  \n",
       "Miss. Laina Heikkinen                                7.9250  "
      ]
     },
     "execution_count": 54,
     "metadata": {},
     "output_type": "execute_result"
    }
   ],
   "source": [
    "df.head(3)"
   ]
  },
  {
   "cell_type": "code",
   "execution_count": 55,
   "metadata": {},
   "outputs": [],
   "source": [
    "df.columns=['Survived', 'Pclass', 'Sex', 'Age', 'Siblings','Parents', 'Fare']  # 컬럼명 단축"
   ]
  },
  {
   "cell_type": "code",
   "execution_count": 56,
   "metadata": {},
   "outputs": [
    {
     "data": {
      "text/html": [
       "<div>\n",
       "<style scoped>\n",
       "    .dataframe tbody tr th:only-of-type {\n",
       "        vertical-align: middle;\n",
       "    }\n",
       "\n",
       "    .dataframe tbody tr th {\n",
       "        vertical-align: top;\n",
       "    }\n",
       "\n",
       "    .dataframe thead th {\n",
       "        text-align: right;\n",
       "    }\n",
       "</style>\n",
       "<table border=\"1\" class=\"dataframe\">\n",
       "  <thead>\n",
       "    <tr style=\"text-align: right;\">\n",
       "      <th></th>\n",
       "      <th>Survived</th>\n",
       "      <th>Pclass</th>\n",
       "      <th>Sex</th>\n",
       "      <th>Age</th>\n",
       "      <th>Siblings</th>\n",
       "      <th>Parents</th>\n",
       "      <th>Fare</th>\n",
       "    </tr>\n",
       "    <tr>\n",
       "      <th>Name</th>\n",
       "      <th></th>\n",
       "      <th></th>\n",
       "      <th></th>\n",
       "      <th></th>\n",
       "      <th></th>\n",
       "      <th></th>\n",
       "      <th></th>\n",
       "    </tr>\n",
       "  </thead>\n",
       "  <tbody>\n",
       "    <tr>\n",
       "      <th>Mr. Owen Harris Braund</th>\n",
       "      <td>0</td>\n",
       "      <td>3</td>\n",
       "      <td>male</td>\n",
       "      <td>22.0</td>\n",
       "      <td>1</td>\n",
       "      <td>0</td>\n",
       "      <td>7.2500</td>\n",
       "    </tr>\n",
       "    <tr>\n",
       "      <th>Mrs. John Bradley (Florence Briggs Thayer) Cumings</th>\n",
       "      <td>1</td>\n",
       "      <td>1</td>\n",
       "      <td>female</td>\n",
       "      <td>38.0</td>\n",
       "      <td>1</td>\n",
       "      <td>0</td>\n",
       "      <td>71.2833</td>\n",
       "    </tr>\n",
       "    <tr>\n",
       "      <th>Miss. Laina Heikkinen</th>\n",
       "      <td>1</td>\n",
       "      <td>3</td>\n",
       "      <td>female</td>\n",
       "      <td>26.0</td>\n",
       "      <td>0</td>\n",
       "      <td>0</td>\n",
       "      <td>7.9250</td>\n",
       "    </tr>\n",
       "  </tbody>\n",
       "</table>\n",
       "</div>"
      ],
      "text/plain": [
       "                                                    Survived  Pclass     Sex  \\\n",
       "Name                                                                           \n",
       "Mr. Owen Harris Braund                                     0       3    male   \n",
       "Mrs. John Bradley (Florence Briggs Thayer) Cumings         1       1  female   \n",
       "Miss. Laina Heikkinen                                      1       3  female   \n",
       "\n",
       "                                                     Age  Siblings  Parents  \\\n",
       "Name                                                                          \n",
       "Mr. Owen Harris Braund                              22.0         1        0   \n",
       "Mrs. John Bradley (Florence Briggs Thayer) Cumings  38.0         1        0   \n",
       "Miss. Laina Heikkinen                               26.0         0        0   \n",
       "\n",
       "                                                       Fare  \n",
       "Name                                                         \n",
       "Mr. Owen Harris Braund                               7.2500  \n",
       "Mrs. John Bradley (Florence Briggs Thayer) Cumings  71.2833  \n",
       "Miss. Laina Heikkinen                                7.9250  "
      ]
     },
     "execution_count": 56,
     "metadata": {},
     "output_type": "execute_result"
    }
   ],
   "source": [
    "df.head(3)"
   ]
  },
  {
   "cell_type": "code",
   "execution_count": 57,
   "metadata": {},
   "outputs": [
    {
     "data": {
      "text/plain": [
       "0.3855693348365276"
      ]
     },
     "execution_count": 57,
     "metadata": {},
     "output_type": "execute_result"
    }
   ],
   "source": [
    "df.Survived.mean() # 생존률 (평균) 38% 생존함"
   ]
  },
  {
   "cell_type": "code",
   "execution_count": 58,
   "metadata": {},
   "outputs": [
    {
     "data": {
      "image/png": "[encoded data removed]",
      "text/plain": [
       "<Figure size 432x288 with 1 Axes>"
      ]
     },
     "metadata": {
      "needs_background": "light"
     },
     "output_type": "display_data"
    }
   ],
   "source": [
    "p = plt.hist(df[df['Survived']==1]['Age'].values, color = 'red' )\n",
    "p = plt.hist(df[df['Survived']==0]['Age'].values, color = 'blue', alpha=0.6)"
   ]
  },
  {
   "cell_type": "code",
   "execution_count": 59,
   "metadata": {},
   "outputs": [
    {
     "data": {
      "image/png": "[encoded data removed]",
      "text/plain": [
       "<Figure size 360x72 with 1 Axes>"
      ]
     },
     "metadata": {
      "needs_background": "light"
     },
     "output_type": "display_data"
    }
   ],
   "source": [
    "plt.figure(figsize=(5,1))\n",
    "p = plt.hist(df[df['Survived']==1]['Age'].values)  # 나이별 생존률"
   ]
  },
  {
   "cell_type": "code",
   "execution_count": 60,
   "metadata": {},
   "outputs": [
    {
     "data": {
      "image/png": "[encoded data removed]",
      "text/plain": [
       "<Figure size 360x72 with 1 Axes>"
      ]
     },
     "metadata": {
      "needs_background": "light"
     },
     "output_type": "display_data"
    }
   ],
   "source": [
    "plt.figure(figsize=(5,1))\n",
    "p = plt.hist(df[df['Survived']==1]['Pclass'].values)  # 클래스별 생존률"
   ]
  },
  {
   "cell_type": "code",
   "execution_count": 61,
   "metadata": {},
   "outputs": [
    {
     "data": {
      "image/png": "[encoded data removed]",
      "text/plain": [
       "<Figure size 360x72 with 1 Axes>"
      ]
     },
     "metadata": {},
     "output_type": "display_data"
    }
   ],
   "source": [
    "plt.figure(figsize=(5,1))\n",
    "p = plt.pie(df['Sex'].value_counts())  # 탑승한 성별비율"
   ]
  },
  {
   "cell_type": "code",
   "execution_count": 62,
   "metadata": {},
   "outputs": [
    {
     "data": {
      "image/png": "[encoded data removed]",
      "text/plain": [
       "<Figure size 360x72 with 1 Axes>"
      ]
     },
     "metadata": {},
     "output_type": "display_data"
    }
   ],
   "source": [
    "plt.figure(figsize=(5,1))\n",
    "p = plt.pie(df[df['Survived']==1]['Sex'].value_counts())  #  성별 생존률"
   ]
  },
  {
   "cell_type": "code",
   "execution_count": 63,
   "metadata": {},
   "outputs": [
    {
     "data": {
      "image/png": "[encoded data removed]",
      "text/plain": [
       "<Figure size 360x72 with 1 Axes>"
      ]
     },
     "metadata": {
      "needs_background": "light"
     },
     "output_type": "display_data"
    }
   ],
   "source": [
    "plt.figure(figsize=(5,1))\n",
    "p = plt.hist(df['Siblings'].values)  #  "
   ]
  },
  {
   "cell_type": "code",
   "execution_count": 64,
   "metadata": {},
   "outputs": [
    {
     "data": {
      "image/png": "[encoded data removed]",
      "text/plain": [
       "<Figure size 432x288 with 1 Axes>"
      ]
     },
     "metadata": {
      "needs_background": "light"
     },
     "output_type": "display_data"
    }
   ],
   "source": [
    "p = plt.hist(df[df['Sex']=='male']['Survived'].values, color = 'blue' )\n",
    "p = plt.hist(df[df['Sex']=='female']['Survived'].values+2, color = 'red', alpha=0.6)"
   ]
  },
  {
   "cell_type": "code",
   "execution_count": 65,
   "metadata": {},
   "outputs": [
    {
     "data": {
      "text/plain": [
       "Survived      int64\n",
       "Pclass        int64\n",
       "Sex          object\n",
       "Age         float64\n",
       "Siblings      int64\n",
       "Parents       int64\n",
       "Fare        float64\n",
       "dtype: object"
      ]
     },
     "execution_count": 65,
     "metadata": {},
     "output_type": "execute_result"
    }
   ],
   "source": [
    "df.dtypes"
   ]
  },
  {
   "cell_type": "code",
   "execution_count": 66,
   "metadata": {},
   "outputs": [],
   "source": [
    "df['Pclass'] = df['Pclass'].astype('object')"
   ]
  },
  {
   "cell_type": "code",
   "execution_count": 67,
   "metadata": {},
   "outputs": [],
   "source": [
    "data = pd.get_dummies(df)"
   ]
  },
  {
   "cell_type": "code",
   "execution_count": 47,
   "metadata": {},
   "outputs": [
    {
     "data": {
      "text/html": [
       "<div>\n",
       "<style scoped>\n",
       "    .dataframe tbody tr th:only-of-type {\n",
       "        vertical-align: middle;\n",
       "    }\n",
       "\n",
       "    .dataframe tbody tr th {\n",
       "        vertical-align: top;\n",
       "    }\n",
       "\n",
       "    .dataframe thead th {\n",
       "        text-align: right;\n",
       "    }\n",
       "</style>\n",
       "<table border=\"1\" class=\"dataframe\">\n",
       "  <thead>\n",
       "    <tr style=\"text-align: right;\">\n",
       "      <th></th>\n",
       "      <th>Survived</th>\n",
       "      <th>Age</th>\n",
       "      <th>Siblings</th>\n",
       "      <th>Parents</th>\n",
       "      <th>Fare</th>\n",
       "      <th>Pclass_1</th>\n",
       "      <th>Pclass_2</th>\n",
       "      <th>Pclass_3</th>\n",
       "      <th>Sex_female</th>\n",
       "      <th>Sex_male</th>\n",
       "    </tr>\n",
       "    <tr>\n",
       "      <th>Name</th>\n",
       "      <th></th>\n",
       "      <th></th>\n",
       "      <th></th>\n",
       "      <th></th>\n",
       "      <th></th>\n",
       "      <th></th>\n",
       "      <th></th>\n",
       "      <th></th>\n",
       "      <th></th>\n",
       "      <th></th>\n",
       "    </tr>\n",
       "  </thead>\n",
       "  <tbody>\n",
       "    <tr>\n",
       "      <th>Mr. Owen Harris Braund</th>\n",
       "      <td>0</td>\n",
       "      <td>22.0</td>\n",
       "      <td>1</td>\n",
       "      <td>0</td>\n",
       "      <td>7.2500</td>\n",
       "      <td>0</td>\n",
       "      <td>0</td>\n",
       "      <td>1</td>\n",
       "      <td>0</td>\n",
       "      <td>1</td>\n",
       "    </tr>\n",
       "    <tr>\n",
       "      <th>Mrs. John Bradley (Florence Briggs Thayer) Cumings</th>\n",
       "      <td>1</td>\n",
       "      <td>38.0</td>\n",
       "      <td>1</td>\n",
       "      <td>0</td>\n",
       "      <td>71.2833</td>\n",
       "      <td>1</td>\n",
       "      <td>0</td>\n",
       "      <td>0</td>\n",
       "      <td>1</td>\n",
       "      <td>0</td>\n",
       "    </tr>\n",
       "    <tr>\n",
       "      <th>Miss. Laina Heikkinen</th>\n",
       "      <td>1</td>\n",
       "      <td>26.0</td>\n",
       "      <td>0</td>\n",
       "      <td>0</td>\n",
       "      <td>7.9250</td>\n",
       "      <td>0</td>\n",
       "      <td>0</td>\n",
       "      <td>1</td>\n",
       "      <td>1</td>\n",
       "      <td>0</td>\n",
       "    </tr>\n",
       "  </tbody>\n",
       "</table>\n",
       "</div>"
      ],
      "text/plain": [
       "                                                    Survived   Age  Siblings  \\\n",
       "Name                                                                           \n",
       "Mr. Owen Harris Braund                                     0  22.0         1   \n",
       "Mrs. John Bradley (Florence Briggs Thayer) Cumings         1  38.0         1   \n",
       "Miss. Laina Heikkinen                                      1  26.0         0   \n",
       "\n",
       "                                                    Parents     Fare  \\\n",
       "Name                                                                   \n",
       "Mr. Owen Harris Braund                                    0   7.2500   \n",
       "Mrs. John Bradley (Florence Briggs Thayer) Cumings        0  71.2833   \n",
       "Miss. Laina Heikkinen                                     0   7.9250   \n",
       "\n",
       "                                                    Pclass_1  Pclass_2  \\\n",
       "Name                                                                     \n",
       "Mr. Owen Harris Braund                                     0         0   \n",
       "Mrs. John Bradley (Florence Briggs Thayer) Cumings         1         0   \n",
       "Miss. Laina Heikkinen                                      0         0   \n",
       "\n",
       "                                                    Pclass_3  Sex_female  \\\n",
       "Name                                                                       \n",
       "Mr. Owen Harris Braund                                     1           0   \n",
       "Mrs. John Bradley (Florence Briggs Thayer) Cumings         0           1   \n",
       "Miss. Laina Heikkinen                                      1           1   \n",
       "\n",
       "                                                    Sex_male  \n",
       "Name                                                          \n",
       "Mr. Owen Harris Braund                                     1  \n",
       "Mrs. John Bradley (Florence Briggs Thayer) Cumings         0  \n",
       "Miss. Laina Heikkinen                                      0  "
      ]
     },
     "execution_count": 47,
     "metadata": {},
     "output_type": "execute_result"
    }
   ],
   "source": [
    "data.head(3)"
   ]
  },
  {
   "cell_type": "code",
   "execution_count": 79,
   "metadata": {},
   "outputs": [],
   "source": [
    "X = data.drop(columns='Survived')\n",
    "y = data['Survived']"
   ]
  },
  {
   "cell_type": "code",
   "execution_count": 80,
   "metadata": {},
   "outputs": [],
   "source": [
    "from sklearn.tree import DecisionTreeClassifier\n",
    "model = DecisionTreeClassifier(max_depth=4).fit(X,y)"
   ]
  },
  {
   "cell_type": "code",
   "execution_count": 81,
   "metadata": {},
   "outputs": [
    {
     "data": {
      "text/plain": [
       "0.8489289740698985"
      ]
     },
     "execution_count": 81,
     "metadata": {},
     "output_type": "execute_result"
    }
   ],
   "source": [
    "model.score(X,y) # max_depth가 없을 때는 98%, max_depth=4일 때는 84%"
   ]
  },
  {
   "cell_type": "code",
   "execution_count": 82,
   "metadata": {},
   "outputs": [],
   "source": [
    "export_graphviz(model, out_file='titanic.dot', class_names=['Die', 'Survive'],\n",
    "               feature_names=X.columns, impurity=False, filled=True) "
   ]
  },
  {
   "cell_type": "code",
   "execution_count": 83,
   "metadata": {},
   "outputs": [
    {
     "data": {
      "image/svg+xml": [
       "<?xml version=\"1.0\" encoding=\"UTF-8\" standalone=\"no\"?>\r\n",
       "<!DOCTYPE svg PUBLIC \"-//W3C//DTD SVG 1.1//EN\"\r\n",
       " \"http://www.w3.org/Graphics/SVG/1.1/DTD/svg11.dtd\">\r\n",
       "<!-- Generated by graphviz version 2.38.0 (20140413.2041)\r\n",
       " -->\r\n",
       "<!-- Title: Tree Pages: 1 -->\r\n",
       "<svg width=\"1878pt\" height=\"477pt\"\r\n",
       " viewBox=\"0.00 0.00 1877.50 477.00\" xmlns=\"http://www.w3.org/2000/svg\" xmlns:xlink=\"http://www.w3.org/1999/xlink\">\r\n",
       "<g id=\"graph0\" class=\"graph\" transform=\"scale(1 1) rotate(0) translate(4 473)\">\r\n",
       "<title>Tree</title>\r\n",
       "<polygon fill=\"white\" stroke=\"none\" points=\"-4,4 -4,-473 1873.5,-473 1873.5,4 -4,4\"/>\r\n",
       "<!-- 0 -->\r\n",
       "<g id=\"node1\" class=\"node\"><title>0</title>\r\n",
       "<polygon fill=\"#e58139\" fill-opacity=\"0.372549\" stroke=\"black\" points=\"995.5,-469 873.5,-469 873.5,-401 995.5,-401 995.5,-469\"/>\r\n",
       "<text text-anchor=\"middle\" x=\"934.5\" y=\"-453.8\" font-family=\"Times New Roman,serif\" font-size=\"14.00\">Sex_female &lt;= 0.5</text>\r\n",
       "<text text-anchor=\"middle\" x=\"934.5\" y=\"-438.8\" font-family=\"Times New Roman,serif\" font-size=\"14.00\">samples = 887</text>\r\n",
       "<text text-anchor=\"middle\" x=\"934.5\" y=\"-423.8\" font-family=\"Times New Roman,serif\" font-size=\"14.00\">value = [545, 342]</text>\r\n",
       "<text text-anchor=\"middle\" x=\"934.5\" y=\"-408.8\" font-family=\"Times New Roman,serif\" font-size=\"14.00\">class = Die</text>\r\n",
       "</g>\r\n",
       "<!-- 1 -->\r\n",
       "<g id=\"node2\" class=\"node\"><title>1</title>\r\n",
       "<polygon fill=\"#e58139\" fill-opacity=\"0.764706\" stroke=\"black\" points=\"756.5,-365 638.5,-365 638.5,-297 756.5,-297 756.5,-365\"/>\r\n",
       "<text text-anchor=\"middle\" x=\"697.5\" y=\"-349.8\" font-family=\"Times New Roman,serif\" font-size=\"14.00\">Age &lt;= 13.0</text>\r\n",
       "<text text-anchor=\"middle\" x=\"697.5\" y=\"-334.8\" font-family=\"Times New Roman,serif\" font-size=\"14.00\">samples = 573</text>\r\n",
       "<text text-anchor=\"middle\" x=\"697.5\" y=\"-319.8\" font-family=\"Times New Roman,serif\" font-size=\"14.00\">value = [464, 109]</text>\r\n",
       "<text text-anchor=\"middle\" x=\"697.5\" y=\"-304.8\" font-family=\"Times New Roman,serif\" font-size=\"14.00\">class = Die</text>\r\n",
       "</g>\r\n",
       "<!-- 0&#45;&gt;1 -->\r\n",
       "<g id=\"edge1\" class=\"edge\"><title>0&#45;&gt;1</title>\r\n",
       "<path fill=\"none\" stroke=\"black\" d=\"M873.467,-407.732C840.621,-393.596 800.003,-376.115 766.071,-361.511\"/>\r\n",
       "<polygon fill=\"black\" stroke=\"black\" points=\"767.258,-358.212 756.689,-357.474 764.491,-364.642 767.258,-358.212\"/>\r\n",
       "<text text-anchor=\"middle\" x=\"765.938\" y=\"-377\" font-family=\"Times New Roman,serif\" font-size=\"14.00\">True</text>\r\n",
       "</g>\r\n",
       "<!-- 16 -->\r\n",
       "<g id=\"node17\" class=\"node\"><title>16</title>\r\n",
       "<polygon fill=\"#399de5\" fill-opacity=\"0.650980\" stroke=\"black\" points=\"1228,-365 1117,-365 1117,-297 1228,-297 1228,-365\"/>\r\n",
       "<text text-anchor=\"middle\" x=\"1172.5\" y=\"-349.8\" font-family=\"Times New Roman,serif\" font-size=\"14.00\">Pclass_3 &lt;= 0.5</text>\r\n",
       "<text text-anchor=\"middle\" x=\"1172.5\" y=\"-334.8\" font-family=\"Times New Roman,serif\" font-size=\"14.00\">samples = 314</text>\r\n",
       "<text text-anchor=\"middle\" x=\"1172.5\" y=\"-319.8\" font-family=\"Times New Roman,serif\" font-size=\"14.00\">value = [81, 233]</text>\r\n",
       "<text text-anchor=\"middle\" x=\"1172.5\" y=\"-304.8\" font-family=\"Times New Roman,serif\" font-size=\"14.00\">class = Survive</text>\r\n",
       "</g>\r\n",
       "<!-- 0&#45;&gt;16 -->\r\n",
       "<g id=\"edge16\" class=\"edge\"><title>0&#45;&gt;16</title>\r\n",
       "<path fill=\"none\" stroke=\"black\" d=\"M995.791,-407.732C1029.91,-393.111 1072.38,-374.91 1107.13,-360.017\"/>\r\n",
       "<polygon fill=\"black\" stroke=\"black\" points=\"1108.9,-363.066 1116.71,-355.909 1106.14,-356.632 1108.9,-363.066\"/>\r\n",
       "<text text-anchor=\"middle\" x=\"1107.43\" y=\"-375.421\" font-family=\"Times New Roman,serif\" font-size=\"14.00\">False</text>\r\n",
       "</g>\r\n",
       "<!-- 2 -->\r\n",
       "<g id=\"node3\" class=\"node\"><title>2</title>\r\n",
       "<polygon fill=\"#399de5\" fill-opacity=\"0.215686\" stroke=\"black\" points=\"385.5,-261 281.5,-261 281.5,-193 385.5,-193 385.5,-261\"/>\r\n",
       "<text text-anchor=\"middle\" x=\"333.5\" y=\"-245.8\" font-family=\"Times New Roman,serif\" font-size=\"14.00\">Siblings &lt;= 2.5</text>\r\n",
       "<text text-anchor=\"middle\" x=\"333.5\" y=\"-230.8\" font-family=\"Times New Roman,serif\" font-size=\"14.00\">samples = 41</text>\r\n",
       "<text text-anchor=\"middle\" x=\"333.5\" y=\"-215.8\" font-family=\"Times New Roman,serif\" font-size=\"14.00\">value = [18, 23]</text>\r\n",
       "<text text-anchor=\"middle\" x=\"333.5\" y=\"-200.8\" font-family=\"Times New Roman,serif\" font-size=\"14.00\">class = Survive</text>\r\n",
       "</g>\r\n",
       "<!-- 1&#45;&gt;2 -->\r\n",
       "<g id=\"edge2\" class=\"edge\"><title>1&#45;&gt;2</title>\r\n",
       "<path fill=\"none\" stroke=\"black\" d=\"M638.207,-313.385C571.388,-294.661 463.264,-264.362 395.394,-245.344\"/>\r\n",
       "<polygon fill=\"black\" stroke=\"black\" points=\"396.256,-241.951 385.683,-242.623 394.367,-248.691 396.256,-241.951\"/>\r\n",
       "</g>\r\n",
       "<!-- 9 -->\r\n",
       "<g id=\"node10\" class=\"node\"><title>9</title>\r\n",
       "<polygon fill=\"#e58139\" fill-opacity=\"0.807843\" stroke=\"black\" points=\"753,-261 642,-261 642,-193 753,-193 753,-261\"/>\r\n",
       "<text text-anchor=\"middle\" x=\"697.5\" y=\"-245.8\" font-family=\"Times New Roman,serif\" font-size=\"14.00\">Fare &lt;= 26.269</text>\r\n",
       "<text text-anchor=\"middle\" x=\"697.5\" y=\"-230.8\" font-family=\"Times New Roman,serif\" font-size=\"14.00\">samples = 532</text>\r\n",
       "<text text-anchor=\"middle\" x=\"697.5\" y=\"-215.8\" font-family=\"Times New Roman,serif\" font-size=\"14.00\">value = [446, 86]</text>\r\n",
       "<text text-anchor=\"middle\" x=\"697.5\" y=\"-200.8\" font-family=\"Times New Roman,serif\" font-size=\"14.00\">class = Die</text>\r\n",
       "</g>\r\n",
       "<!-- 1&#45;&gt;9 -->\r\n",
       "<g id=\"edge9\" class=\"edge\"><title>1&#45;&gt;9</title>\r\n",
       "<path fill=\"none\" stroke=\"black\" d=\"M697.5,-296.884C697.5,-288.778 697.5,-279.982 697.5,-271.472\"/>\r\n",
       "<polygon fill=\"black\" stroke=\"black\" points=\"701,-271.299 697.5,-261.299 694,-271.299 701,-271.299\"/>\r\n",
       "</g>\r\n",
       "<!-- 3 -->\r\n",
       "<g id=\"node4\" class=\"node\"><title>3</title>\r\n",
       "<polygon fill=\"#399de5\" fill-opacity=\"0.952941\" stroke=\"black\" points=\"211.5,-157 109.5,-157 109.5,-89 211.5,-89 211.5,-157\"/>\r\n",
       "<text text-anchor=\"middle\" x=\"160.5\" y=\"-141.8\" font-family=\"Times New Roman,serif\" font-size=\"14.00\">Parents &lt;= 0.5</text>\r\n",
       "<text text-anchor=\"middle\" x=\"160.5\" y=\"-126.8\" font-family=\"Times New Roman,serif\" font-size=\"14.00\">samples = 23</text>\r\n",
       "<text text-anchor=\"middle\" x=\"160.5\" y=\"-111.8\" font-family=\"Times New Roman,serif\" font-size=\"14.00\">value = [1, 22]</text>\r\n",
       "<text text-anchor=\"middle\" x=\"160.5\" y=\"-96.8\" font-family=\"Times New Roman,serif\" font-size=\"14.00\">class = Survive</text>\r\n",
       "</g>\r\n",
       "<!-- 2&#45;&gt;3 -->\r\n",
       "<g id=\"edge3\" class=\"edge\"><title>2&#45;&gt;3</title>\r\n",
       "<path fill=\"none\" stroke=\"black\" d=\"M281.125,-195.12C261.893,-183.781 239.981,-170.861 220.157,-159.173\"/>\r\n",
       "<polygon fill=\"black\" stroke=\"black\" points=\"221.9,-156.138 211.508,-154.074 218.345,-162.168 221.9,-156.138\"/>\r\n",
       "</g>\r\n",
       "<!-- 6 -->\r\n",
       "<g id=\"node7\" class=\"node\"><title>6</title>\r\n",
       "<polygon fill=\"#e58139\" fill-opacity=\"0.941176\" stroke=\"black\" points=\"382.5,-157 284.5,-157 284.5,-89 382.5,-89 382.5,-157\"/>\r\n",
       "<text text-anchor=\"middle\" x=\"333.5\" y=\"-141.8\" font-family=\"Times New Roman,serif\" font-size=\"14.00\">Age &lt;= 3.5</text>\r\n",
       "<text text-anchor=\"middle\" x=\"333.5\" y=\"-126.8\" font-family=\"Times New Roman,serif\" font-size=\"14.00\">samples = 18</text>\r\n",
       "<text text-anchor=\"middle\" x=\"333.5\" y=\"-111.8\" font-family=\"Times New Roman,serif\" font-size=\"14.00\">value = [17, 1]</text>\r\n",
       "<text text-anchor=\"middle\" x=\"333.5\" y=\"-96.8\" font-family=\"Times New Roman,serif\" font-size=\"14.00\">class = Die</text>\r\n",
       "</g>\r\n",
       "<!-- 2&#45;&gt;6 -->\r\n",
       "<g id=\"edge6\" class=\"edge\"><title>2&#45;&gt;6</title>\r\n",
       "<path fill=\"none\" stroke=\"black\" d=\"M333.5,-192.884C333.5,-184.778 333.5,-175.982 333.5,-167.472\"/>\r\n",
       "<polygon fill=\"black\" stroke=\"black\" points=\"337,-167.299 333.5,-157.299 330,-167.299 337,-167.299\"/>\r\n",
       "</g>\r\n",
       "<!-- 4 -->\r\n",
       "<g id=\"node5\" class=\"node\"><title>4</title>\r\n",
       "<polygon fill=\"none\" stroke=\"black\" points=\"91,-53 0,-53 0,-0 91,-0 91,-53\"/>\r\n",
       "<text text-anchor=\"middle\" x=\"45.5\" y=\"-37.8\" font-family=\"Times New Roman,serif\" font-size=\"14.00\">samples = 2</text>\r\n",
       "<text text-anchor=\"middle\" x=\"45.5\" y=\"-22.8\" font-family=\"Times New Roman,serif\" font-size=\"14.00\">value = [1, 1]</text>\r\n",
       "<text text-anchor=\"middle\" x=\"45.5\" y=\"-7.8\" font-family=\"Times New Roman,serif\" font-size=\"14.00\">class = Die</text>\r\n",
       "</g>\r\n",
       "<!-- 3&#45;&gt;4 -->\r\n",
       "<g id=\"edge4\" class=\"edge\"><title>3&#45;&gt;4</title>\r\n",
       "<path fill=\"none\" stroke=\"black\" d=\"M120.279,-88.9485C108.701,-79.4346 96.0927,-69.074 84.5848,-59.6175\"/>\r\n",
       "<polygon fill=\"black\" stroke=\"black\" points=\"86.768,-56.8814 76.8198,-53.2367 82.3238,-62.2897 86.768,-56.8814\"/>\r\n",
       "</g>\r\n",
       "<!-- 5 -->\r\n",
       "<g id=\"node6\" class=\"node\"><title>5</title>\r\n",
       "<polygon fill=\"#399de5\" stroke=\"black\" points=\"211.5,-53 109.5,-53 109.5,-0 211.5,-0 211.5,-53\"/>\r\n",
       "<text text-anchor=\"middle\" x=\"160.5\" y=\"-37.8\" font-family=\"Times New Roman,serif\" font-size=\"14.00\">samples = 21</text>\r\n",
       "<text text-anchor=\"middle\" x=\"160.5\" y=\"-22.8\" font-family=\"Times New Roman,serif\" font-size=\"14.00\">value = [0, 21]</text>\r\n",
       "<text text-anchor=\"middle\" x=\"160.5\" y=\"-7.8\" font-family=\"Times New Roman,serif\" font-size=\"14.00\">class = Survive</text>\r\n",
       "</g>\r\n",
       "<!-- 3&#45;&gt;5 -->\r\n",
       "<g id=\"edge5\" class=\"edge\"><title>3&#45;&gt;5</title>\r\n",
       "<path fill=\"none\" stroke=\"black\" d=\"M160.5,-88.9485C160.5,-80.7153 160.5,-71.848 160.5,-63.4814\"/>\r\n",
       "<polygon fill=\"black\" stroke=\"black\" points=\"164,-63.2367 160.5,-53.2367 157,-63.2367 164,-63.2367\"/>\r\n",
       "</g>\r\n",
       "<!-- 7 -->\r\n",
       "<g id=\"node8\" class=\"node\"><title>7</title>\r\n",
       "<polygon fill=\"#e58139\" fill-opacity=\"0.800000\" stroke=\"black\" points=\"321,-53 230,-53 230,-0 321,-0 321,-53\"/>\r\n",
       "<text text-anchor=\"middle\" x=\"275.5\" y=\"-37.8\" font-family=\"Times New Roman,serif\" font-size=\"14.00\">samples = 6</text>\r\n",
       "<text text-anchor=\"middle\" x=\"275.5\" y=\"-22.8\" font-family=\"Times New Roman,serif\" font-size=\"14.00\">value = [5, 1]</text>\r\n",
       "<text text-anchor=\"middle\" x=\"275.5\" y=\"-7.8\" font-family=\"Times New Roman,serif\" font-size=\"14.00\">class = Die</text>\r\n",
       "</g>\r\n",
       "<!-- 6&#45;&gt;7 -->\r\n",
       "<g id=\"edge7\" class=\"edge\"><title>6&#45;&gt;7</title>\r\n",
       "<path fill=\"none\" stroke=\"black\" d=\"M313.214,-88.9485C307.824,-80.1664 301.992,-70.6629 296.561,-61.815\"/>\r\n",
       "<polygon fill=\"black\" stroke=\"black\" points=\"299.51,-59.9287 291.296,-53.2367 293.544,-63.5903 299.51,-59.9287\"/>\r\n",
       "</g>\r\n",
       "<!-- 8 -->\r\n",
       "<g id=\"node9\" class=\"node\"><title>8</title>\r\n",
       "<polygon fill=\"#e58139\" stroke=\"black\" points=\"437.5,-53 339.5,-53 339.5,-0 437.5,-0 437.5,-53\"/>\r\n",
       "<text text-anchor=\"middle\" x=\"388.5\" y=\"-37.8\" font-family=\"Times New Roman,serif\" font-size=\"14.00\">samples = 12</text>\r\n",
       "<text text-anchor=\"middle\" x=\"388.5\" y=\"-22.8\" font-family=\"Times New Roman,serif\" font-size=\"14.00\">value = [12, 0]</text>\r\n",
       "<text text-anchor=\"middle\" x=\"388.5\" y=\"-7.8\" font-family=\"Times New Roman,serif\" font-size=\"14.00\">class = Die</text>\r\n",
       "</g>\r\n",
       "<!-- 6&#45;&gt;8 -->\r\n",
       "<g id=\"edge8\" class=\"edge\"><title>6&#45;&gt;8</title>\r\n",
       "<path fill=\"none\" stroke=\"black\" d=\"M352.736,-88.9485C357.794,-80.2579 363.264,-70.8608 368.367,-62.0917\"/>\r\n",
       "<polygon fill=\"black\" stroke=\"black\" points=\"371.516,-63.6401 373.521,-53.2367 365.466,-60.1189 371.516,-63.6401\"/>\r\n",
       "</g>\r\n",
       "<!-- 10 -->\r\n",
       "<g id=\"node11\" class=\"node\"><title>10</title>\r\n",
       "<polygon fill=\"#e58139\" fill-opacity=\"0.890196\" stroke=\"black\" points=\"690,-157 579,-157 579,-89 690,-89 690,-157\"/>\r\n",
       "<text text-anchor=\"middle\" x=\"634.5\" y=\"-141.8\" font-family=\"Times New Roman,serif\" font-size=\"14.00\">Age &lt;= 32.5</text>\r\n",
       "<text text-anchor=\"middle\" x=\"634.5\" y=\"-126.8\" font-family=\"Times New Roman,serif\" font-size=\"14.00\">samples = 393</text>\r\n",
       "<text text-anchor=\"middle\" x=\"634.5\" y=\"-111.8\" font-family=\"Times New Roman,serif\" font-size=\"14.00\">value = [354, 39]</text>\r\n",
       "<text text-anchor=\"middle\" x=\"634.5\" y=\"-96.8\" font-family=\"Times New Roman,serif\" font-size=\"14.00\">class = Die</text>\r\n",
       "</g>\r\n",
       "<!-- 9&#45;&gt;10 -->\r\n",
       "<g id=\"edge10\" class=\"edge\"><title>9&#45;&gt;10</title>\r\n",
       "<path fill=\"none\" stroke=\"black\" d=\"M677.046,-192.884C671.764,-184.332 666.008,-175.013 660.486,-166.072\"/>\r\n",
       "<polygon fill=\"black\" stroke=\"black\" points=\"663.3,-163.968 655.067,-157.299 657.344,-167.647 663.3,-163.968\"/>\r\n",
       "</g>\r\n",
       "<!-- 13 -->\r\n",
       "<g id=\"node14\" class=\"node\"><title>13</title>\r\n",
       "<polygon fill=\"#e58139\" fill-opacity=\"0.490196\" stroke=\"black\" points=\"812.5,-157 708.5,-157 708.5,-89 812.5,-89 812.5,-157\"/>\r\n",
       "<text text-anchor=\"middle\" x=\"760.5\" y=\"-141.8\" font-family=\"Times New Roman,serif\" font-size=\"14.00\">Fare &lt;= 26.469</text>\r\n",
       "<text text-anchor=\"middle\" x=\"760.5\" y=\"-126.8\" font-family=\"Times New Roman,serif\" font-size=\"14.00\">samples = 139</text>\r\n",
       "<text text-anchor=\"middle\" x=\"760.5\" y=\"-111.8\" font-family=\"Times New Roman,serif\" font-size=\"14.00\">value = [92, 47]</text>\r\n",
       "<text text-anchor=\"middle\" x=\"760.5\" y=\"-96.8\" font-family=\"Times New Roman,serif\" font-size=\"14.00\">class = Die</text>\r\n",
       "</g>\r\n",
       "<!-- 9&#45;&gt;13 -->\r\n",
       "<g id=\"edge13\" class=\"edge\"><title>9&#45;&gt;13</title>\r\n",
       "<path fill=\"none\" stroke=\"black\" d=\"M717.954,-192.884C723.236,-184.332 728.992,-175.013 734.514,-166.072\"/>\r\n",
       "<polygon fill=\"black\" stroke=\"black\" points=\"737.656,-167.647 739.933,-157.299 731.7,-163.968 737.656,-167.647\"/>\r\n",
       "</g>\r\n",
       "<!-- 11 -->\r\n",
       "<g id=\"node12\" class=\"node\"><title>11</title>\r\n",
       "<polygon fill=\"#e58139\" fill-opacity=\"0.858824\" stroke=\"black\" points=\"567,-53 456,-53 456,-0 567,-0 567,-53\"/>\r\n",
       "<text text-anchor=\"middle\" x=\"511.5\" y=\"-37.8\" font-family=\"Times New Roman,serif\" font-size=\"14.00\">samples = 267</text>\r\n",
       "<text text-anchor=\"middle\" x=\"511.5\" y=\"-22.8\" font-family=\"Times New Roman,serif\" font-size=\"14.00\">value = [234, 33]</text>\r\n",
       "<text text-anchor=\"middle\" x=\"511.5\" y=\"-7.8\" font-family=\"Times New Roman,serif\" font-size=\"14.00\">class = Die</text>\r\n",
       "</g>\r\n",
       "<!-- 10&#45;&gt;11 -->\r\n",
       "<g id=\"edge11\" class=\"edge\"><title>10&#45;&gt;11</title>\r\n",
       "<path fill=\"none\" stroke=\"black\" d=\"M591.481,-88.9485C578.978,-79.3431 565.353,-68.8747 552.949,-59.345\"/>\r\n",
       "<polygon fill=\"black\" stroke=\"black\" points=\"555.061,-56.5537 544.999,-53.2367 550.796,-62.1046 555.061,-56.5537\"/>\r\n",
       "</g>\r\n",
       "<!-- 12 -->\r\n",
       "<g id=\"node13\" class=\"node\"><title>12</title>\r\n",
       "<polygon fill=\"#e58139\" fill-opacity=\"0.949020\" stroke=\"black\" points=\"689.5,-53 585.5,-53 585.5,-0 689.5,-0 689.5,-53\"/>\r\n",
       "<text text-anchor=\"middle\" x=\"637.5\" y=\"-37.8\" font-family=\"Times New Roman,serif\" font-size=\"14.00\">samples = 126</text>\r\n",
       "<text text-anchor=\"middle\" x=\"637.5\" y=\"-22.8\" font-family=\"Times New Roman,serif\" font-size=\"14.00\">value = [120, 6]</text>\r\n",
       "<text text-anchor=\"middle\" x=\"637.5\" y=\"-7.8\" font-family=\"Times New Roman,serif\" font-size=\"14.00\">class = Die</text>\r\n",
       "</g>\r\n",
       "<!-- 10&#45;&gt;12 -->\r\n",
       "<g id=\"edge12\" class=\"edge\"><title>10&#45;&gt;12</title>\r\n",
       "<path fill=\"none\" stroke=\"black\" d=\"M635.549,-88.9485C635.811,-80.7153 636.092,-71.848 636.358,-63.4814\"/>\r\n",
       "<polygon fill=\"black\" stroke=\"black\" points=\"639.864,-63.3428 636.683,-53.2367 632.867,-63.1206 639.864,-63.3428\"/>\r\n",
       "</g>\r\n",
       "<!-- 14 -->\r\n",
       "<g id=\"node15\" class=\"node\"><title>14</title>\r\n",
       "<polygon fill=\"#399de5\" stroke=\"black\" points=\"809.5,-53 707.5,-53 707.5,-0 809.5,-0 809.5,-53\"/>\r\n",
       "<text text-anchor=\"middle\" x=\"758.5\" y=\"-37.8\" font-family=\"Times New Roman,serif\" font-size=\"14.00\">samples = 4</text>\r\n",
       "<text text-anchor=\"middle\" x=\"758.5\" y=\"-22.8\" font-family=\"Times New Roman,serif\" font-size=\"14.00\">value = [0, 4]</text>\r\n",
       "<text text-anchor=\"middle\" x=\"758.5\" y=\"-7.8\" font-family=\"Times New Roman,serif\" font-size=\"14.00\">class = Survive</text>\r\n",
       "</g>\r\n",
       "<!-- 13&#45;&gt;14 -->\r\n",
       "<g id=\"edge14\" class=\"edge\"><title>13&#45;&gt;14</title>\r\n",
       "<path fill=\"none\" stroke=\"black\" d=\"M759.8,-88.9485C759.626,-80.7153 759.439,-71.848 759.262,-63.4814\"/>\r\n",
       "<polygon fill=\"black\" stroke=\"black\" points=\"762.756,-63.1604 759.045,-53.2367 755.757,-63.3086 762.756,-63.1604\"/>\r\n",
       "</g>\r\n",
       "<!-- 15 -->\r\n",
       "<g id=\"node16\" class=\"node\"><title>15</title>\r\n",
       "<polygon fill=\"#e58139\" fill-opacity=\"0.533333\" stroke=\"black\" points=\"931.5,-53 827.5,-53 827.5,-0 931.5,-0 931.5,-53\"/>\r\n",
       "<text text-anchor=\"middle\" x=\"879.5\" y=\"-37.8\" font-family=\"Times New Roman,serif\" font-size=\"14.00\">samples = 135</text>\r\n",
       "<text text-anchor=\"middle\" x=\"879.5\" y=\"-22.8\" font-family=\"Times New Roman,serif\" font-size=\"14.00\">value = [92, 43]</text>\r\n",
       "<text text-anchor=\"middle\" x=\"879.5\" y=\"-7.8\" font-family=\"Times New Roman,serif\" font-size=\"14.00\">class = Die</text>\r\n",
       "</g>\r\n",
       "<!-- 13&#45;&gt;15 -->\r\n",
       "<g id=\"edge15\" class=\"edge\"><title>13&#45;&gt;15</title>\r\n",
       "<path fill=\"none\" stroke=\"black\" d=\"M802.12,-88.9485C814.101,-79.4346 827.148,-69.074 839.056,-59.6175\"/>\r\n",
       "<polygon fill=\"black\" stroke=\"black\" points=\"841.436,-62.1965 847.091,-53.2367 837.083,-56.7147 841.436,-62.1965\"/>\r\n",
       "</g>\r\n",
       "<!-- 17 -->\r\n",
       "<g id=\"node18\" class=\"node\"><title>17</title>\r\n",
       "<polygon fill=\"#399de5\" fill-opacity=\"0.945098\" stroke=\"black\" points=\"1224.5,-261 1120.5,-261 1120.5,-193 1224.5,-193 1224.5,-261\"/>\r\n",
       "<text text-anchor=\"middle\" x=\"1172.5\" y=\"-245.8\" font-family=\"Times New Roman,serif\" font-size=\"14.00\">Age &lt;= 2.5</text>\r\n",
       "<text text-anchor=\"middle\" x=\"1172.5\" y=\"-230.8\" font-family=\"Times New Roman,serif\" font-size=\"14.00\">samples = 170</text>\r\n",
       "<text text-anchor=\"middle\" x=\"1172.5\" y=\"-215.8\" font-family=\"Times New Roman,serif\" font-size=\"14.00\">value = [9, 161]</text>\r\n",
       "<text text-anchor=\"middle\" x=\"1172.5\" y=\"-200.8\" font-family=\"Times New Roman,serif\" font-size=\"14.00\">class = Survive</text>\r\n",
       "</g>\r\n",
       "<!-- 16&#45;&gt;17 -->\r\n",
       "<g id=\"edge17\" class=\"edge\"><title>16&#45;&gt;17</title>\r\n",
       "<path fill=\"none\" stroke=\"black\" d=\"M1172.5,-296.884C1172.5,-288.778 1172.5,-279.982 1172.5,-271.472\"/>\r\n",
       "<polygon fill=\"black\" stroke=\"black\" points=\"1176,-271.299 1172.5,-261.299 1169,-271.299 1176,-271.299\"/>\r\n",
       "</g>\r\n",
       "<!-- 24 -->\r\n",
       "<g id=\"node25\" class=\"node\"><title>24</title>\r\n",
       "<polygon fill=\"none\" stroke=\"black\" points=\"1578.5,-261 1474.5,-261 1474.5,-193 1578.5,-193 1578.5,-261\"/>\r\n",
       "<text text-anchor=\"middle\" x=\"1526.5\" y=\"-245.8\" font-family=\"Times New Roman,serif\" font-size=\"14.00\">Fare &lt;= 23.35</text>\r\n",
       "<text text-anchor=\"middle\" x=\"1526.5\" y=\"-230.8\" font-family=\"Times New Roman,serif\" font-size=\"14.00\">samples = 144</text>\r\n",
       "<text text-anchor=\"middle\" x=\"1526.5\" y=\"-215.8\" font-family=\"Times New Roman,serif\" font-size=\"14.00\">value = [72, 72]</text>\r\n",
       "<text text-anchor=\"middle\" x=\"1526.5\" y=\"-200.8\" font-family=\"Times New Roman,serif\" font-size=\"14.00\">class = Die</text>\r\n",
       "</g>\r\n",
       "<!-- 16&#45;&gt;24 -->\r\n",
       "<g id=\"edge24\" class=\"edge\"><title>16&#45;&gt;24</title>\r\n",
       "<path fill=\"none\" stroke=\"black\" d=\"M1228.2,-313.95C1292.37,-295.46 1397.53,-265.16 1464.32,-245.916\"/>\r\n",
       "<polygon fill=\"black\" stroke=\"black\" points=\"1465.65,-249.174 1474.29,-243.042 1463.72,-242.448 1465.65,-249.174\"/>\r\n",
       "</g>\r\n",
       "<!-- 18 -->\r\n",
       "<g id=\"node19\" class=\"node\"><title>18</title>\r\n",
       "<polygon fill=\"none\" stroke=\"black\" points=\"1163,-157 1060,-157 1060,-89 1163,-89 1163,-157\"/>\r\n",
       "<text text-anchor=\"middle\" x=\"1111.5\" y=\"-141.8\" font-family=\"Times New Roman,serif\" font-size=\"14.00\">Fare &lt;= 88.775</text>\r\n",
       "<text text-anchor=\"middle\" x=\"1111.5\" y=\"-126.8\" font-family=\"Times New Roman,serif\" font-size=\"14.00\">samples = 2</text>\r\n",
       "<text text-anchor=\"middle\" x=\"1111.5\" y=\"-111.8\" font-family=\"Times New Roman,serif\" font-size=\"14.00\">value = [1, 1]</text>\r\n",
       "<text text-anchor=\"middle\" x=\"1111.5\" y=\"-96.8\" font-family=\"Times New Roman,serif\" font-size=\"14.00\">class = Die</text>\r\n",
       "</g>\r\n",
       "<!-- 17&#45;&gt;18 -->\r\n",
       "<g id=\"edge18\" class=\"edge\"><title>17&#45;&gt;18</title>\r\n",
       "<path fill=\"none\" stroke=\"black\" d=\"M1152.7,-192.884C1147.58,-184.332 1142.01,-175.013 1136.66,-166.072\"/>\r\n",
       "<polygon fill=\"black\" stroke=\"black\" points=\"1139.55,-164.085 1131.41,-157.299 1133.54,-167.678 1139.55,-164.085\"/>\r\n",
       "</g>\r\n",
       "<!-- 21 -->\r\n",
       "<g id=\"node22\" class=\"node\"><title>21</title>\r\n",
       "<polygon fill=\"#399de5\" fill-opacity=\"0.949020\" stroke=\"black\" points=\"1285.5,-157 1181.5,-157 1181.5,-89 1285.5,-89 1285.5,-157\"/>\r\n",
       "<text text-anchor=\"middle\" x=\"1233.5\" y=\"-141.8\" font-family=\"Times New Roman,serif\" font-size=\"14.00\">Fare &lt;= 28.856</text>\r\n",
       "<text text-anchor=\"middle\" x=\"1233.5\" y=\"-126.8\" font-family=\"Times New Roman,serif\" font-size=\"14.00\">samples = 168</text>\r\n",
       "<text text-anchor=\"middle\" x=\"1233.5\" y=\"-111.8\" font-family=\"Times New Roman,serif\" font-size=\"14.00\">value = [8, 160]</text>\r\n",
       "<text text-anchor=\"middle\" x=\"1233.5\" y=\"-96.8\" font-family=\"Times New Roman,serif\" font-size=\"14.00\">class = Survive</text>\r\n",
       "</g>\r\n",
       "<!-- 17&#45;&gt;21 -->\r\n",
       "<g id=\"edge21\" class=\"edge\"><title>17&#45;&gt;21</title>\r\n",
       "<path fill=\"none\" stroke=\"black\" d=\"M1192.3,-192.884C1197.42,-184.332 1202.99,-175.013 1208.34,-166.072\"/>\r\n",
       "<polygon fill=\"black\" stroke=\"black\" points=\"1211.46,-167.678 1213.59,-157.299 1205.45,-164.085 1211.46,-167.678\"/>\r\n",
       "</g>\r\n",
       "<!-- 19 -->\r\n",
       "<g id=\"node20\" class=\"node\"><title>19</title>\r\n",
       "<polygon fill=\"#399de5\" stroke=\"black\" points=\"1051.5,-53 949.5,-53 949.5,-0 1051.5,-0 1051.5,-53\"/>\r\n",
       "<text text-anchor=\"middle\" x=\"1000.5\" y=\"-37.8\" font-family=\"Times New Roman,serif\" font-size=\"14.00\">samples = 1</text>\r\n",
       "<text text-anchor=\"middle\" x=\"1000.5\" y=\"-22.8\" font-family=\"Times New Roman,serif\" font-size=\"14.00\">value = [0, 1]</text>\r\n",
       "<text text-anchor=\"middle\" x=\"1000.5\" y=\"-7.8\" font-family=\"Times New Roman,serif\" font-size=\"14.00\">class = Survive</text>\r\n",
       "</g>\r\n",
       "<!-- 18&#45;&gt;19 -->\r\n",
       "<g id=\"edge19\" class=\"edge\"><title>18&#45;&gt;19</title>\r\n",
       "<path fill=\"none\" stroke=\"black\" d=\"M1072.68,-88.9485C1061.61,-79.526 1049.57,-69.2731 1038.55,-59.8906\"/>\r\n",
       "<polygon fill=\"black\" stroke=\"black\" points=\"1040.61,-57.0542 1030.73,-53.2367 1036.08,-62.3842 1040.61,-57.0542\"/>\r\n",
       "</g>\r\n",
       "<!-- 20 -->\r\n",
       "<g id=\"node21\" class=\"node\"><title>20</title>\r\n",
       "<polygon fill=\"#e58139\" stroke=\"black\" points=\"1161,-53 1070,-53 1070,-0 1161,-0 1161,-53\"/>\r\n",
       "<text text-anchor=\"middle\" x=\"1115.5\" y=\"-37.8\" font-family=\"Times New Roman,serif\" font-size=\"14.00\">samples = 1</text>\r\n",
       "<text text-anchor=\"middle\" x=\"1115.5\" y=\"-22.8\" font-family=\"Times New Roman,serif\" font-size=\"14.00\">value = [1, 0]</text>\r\n",
       "<text text-anchor=\"middle\" x=\"1115.5\" y=\"-7.8\" font-family=\"Times New Roman,serif\" font-size=\"14.00\">class = Die</text>\r\n",
       "</g>\r\n",
       "<!-- 18&#45;&gt;20 -->\r\n",
       "<g id=\"edge20\" class=\"edge\"><title>18&#45;&gt;20</title>\r\n",
       "<path fill=\"none\" stroke=\"black\" d=\"M1112.9,-88.9485C1113.25,-80.7153 1113.62,-71.848 1113.98,-63.4814\"/>\r\n",
       "<polygon fill=\"black\" stroke=\"black\" points=\"1117.48,-63.3758 1114.41,-53.2367 1110.49,-63.0797 1117.48,-63.3758\"/>\r\n",
       "</g>\r\n",
       "<!-- 22 -->\r\n",
       "<g id=\"node23\" class=\"node\"><title>22</title>\r\n",
       "<polygon fill=\"#399de5\" fill-opacity=\"0.886275\" stroke=\"black\" points=\"1281.5,-53 1179.5,-53 1179.5,-0 1281.5,-0 1281.5,-53\"/>\r\n",
       "<text text-anchor=\"middle\" x=\"1230.5\" y=\"-37.8\" font-family=\"Times New Roman,serif\" font-size=\"14.00\">samples = 69</text>\r\n",
       "<text text-anchor=\"middle\" x=\"1230.5\" y=\"-22.8\" font-family=\"Times New Roman,serif\" font-size=\"14.00\">value = [7, 62]</text>\r\n",
       "<text text-anchor=\"middle\" x=\"1230.5\" y=\"-7.8\" font-family=\"Times New Roman,serif\" font-size=\"14.00\">class = Survive</text>\r\n",
       "</g>\r\n",
       "<!-- 21&#45;&gt;22 -->\r\n",
       "<g id=\"edge22\" class=\"edge\"><title>21&#45;&gt;22</title>\r\n",
       "<path fill=\"none\" stroke=\"black\" d=\"M1232.45,-88.9485C1232.19,-80.7153 1231.91,-71.848 1231.64,-63.4814\"/>\r\n",
       "<polygon fill=\"black\" stroke=\"black\" points=\"1235.13,-63.1206 1231.32,-53.2367 1228.14,-63.3428 1235.13,-63.1206\"/>\r\n",
       "</g>\r\n",
       "<!-- 23 -->\r\n",
       "<g id=\"node24\" class=\"node\"><title>23</title>\r\n",
       "<polygon fill=\"#399de5\" fill-opacity=\"0.988235\" stroke=\"black\" points=\"1401.5,-53 1299.5,-53 1299.5,-0 1401.5,-0 1401.5,-53\"/>\r\n",
       "<text text-anchor=\"middle\" x=\"1350.5\" y=\"-37.8\" font-family=\"Times New Roman,serif\" font-size=\"14.00\">samples = 99</text>\r\n",
       "<text text-anchor=\"middle\" x=\"1350.5\" y=\"-22.8\" font-family=\"Times New Roman,serif\" font-size=\"14.00\">value = [1, 98]</text>\r\n",
       "<text text-anchor=\"middle\" x=\"1350.5\" y=\"-7.8\" font-family=\"Times New Roman,serif\" font-size=\"14.00\">class = Survive</text>\r\n",
       "</g>\r\n",
       "<!-- 21&#45;&gt;23 -->\r\n",
       "<g id=\"edge23\" class=\"edge\"><title>21&#45;&gt;23</title>\r\n",
       "<path fill=\"none\" stroke=\"black\" d=\"M1274.42,-88.9485C1286.2,-79.4346 1299.03,-69.074 1310.74,-59.6175\"/>\r\n",
       "<polygon fill=\"black\" stroke=\"black\" points=\"1313.06,-62.2429 1318.64,-53.2367 1308.66,-56.7973 1313.06,-62.2429\"/>\r\n",
       "</g>\r\n",
       "<!-- 25 -->\r\n",
       "<g id=\"node26\" class=\"node\"><title>25</title>\r\n",
       "<polygon fill=\"#399de5\" fill-opacity=\"0.305882\" stroke=\"black\" points=\"1578.5,-157 1474.5,-157 1474.5,-89 1578.5,-89 1578.5,-157\"/>\r\n",
       "<text text-anchor=\"middle\" x=\"1526.5\" y=\"-141.8\" font-family=\"Times New Roman,serif\" font-size=\"14.00\">Age &lt;= 36.5</text>\r\n",
       "<text text-anchor=\"middle\" x=\"1526.5\" y=\"-126.8\" font-family=\"Times New Roman,serif\" font-size=\"14.00\">samples = 117</text>\r\n",
       "<text text-anchor=\"middle\" x=\"1526.5\" y=\"-111.8\" font-family=\"Times New Roman,serif\" font-size=\"14.00\">value = [48, 69]</text>\r\n",
       "<text text-anchor=\"middle\" x=\"1526.5\" y=\"-96.8\" font-family=\"Times New Roman,serif\" font-size=\"14.00\">class = Survive</text>\r\n",
       "</g>\r\n",
       "<!-- 24&#45;&gt;25 -->\r\n",
       "<g id=\"edge25\" class=\"edge\"><title>24&#45;&gt;25</title>\r\n",
       "<path fill=\"none\" stroke=\"black\" d=\"M1526.5,-192.884C1526.5,-184.778 1526.5,-175.982 1526.5,-167.472\"/>\r\n",
       "<polygon fill=\"black\" stroke=\"black\" points=\"1530,-167.299 1526.5,-157.299 1523,-167.299 1530,-167.299\"/>\r\n",
       "</g>\r\n",
       "<!-- 28 -->\r\n",
       "<g id=\"node29\" class=\"node\"><title>28</title>\r\n",
       "<polygon fill=\"#e58139\" fill-opacity=\"0.874510\" stroke=\"black\" points=\"1752,-157 1653,-157 1653,-89 1752,-89 1752,-157\"/>\r\n",
       "<text text-anchor=\"middle\" x=\"1702.5\" y=\"-141.8\" font-family=\"Times New Roman,serif\" font-size=\"14.00\">Parents &lt;= 0.5</text>\r\n",
       "<text text-anchor=\"middle\" x=\"1702.5\" y=\"-126.8\" font-family=\"Times New Roman,serif\" font-size=\"14.00\">samples = 27</text>\r\n",
       "<text text-anchor=\"middle\" x=\"1702.5\" y=\"-111.8\" font-family=\"Times New Roman,serif\" font-size=\"14.00\">value = [24, 3]</text>\r\n",
       "<text text-anchor=\"middle\" x=\"1702.5\" y=\"-96.8\" font-family=\"Times New Roman,serif\" font-size=\"14.00\">class = Die</text>\r\n",
       "</g>\r\n",
       "<!-- 24&#45;&gt;28 -->\r\n",
       "<g id=\"edge28\" class=\"edge\"><title>24&#45;&gt;28</title>\r\n",
       "<path fill=\"none\" stroke=\"black\" d=\"M1578.83,-195.673C1599.31,-183.803 1622.89,-170.135 1643.94,-157.939\"/>\r\n",
       "<polygon fill=\"black\" stroke=\"black\" points=\"1645.89,-160.854 1652.79,-152.811 1642.38,-154.797 1645.89,-160.854\"/>\r\n",
       "</g>\r\n",
       "<!-- 26 -->\r\n",
       "<g id=\"node27\" class=\"node\"><title>26</title>\r\n",
       "<polygon fill=\"#399de5\" fill-opacity=\"0.427451\" stroke=\"black\" points=\"1523.5,-53 1419.5,-53 1419.5,-0 1523.5,-0 1523.5,-53\"/>\r\n",
       "<text text-anchor=\"middle\" x=\"1471.5\" y=\"-37.8\" font-family=\"Times New Roman,serif\" font-size=\"14.00\">samples = 107</text>\r\n",
       "<text text-anchor=\"middle\" x=\"1471.5\" y=\"-22.8\" font-family=\"Times New Roman,serif\" font-size=\"14.00\">value = [39, 68]</text>\r\n",
       "<text text-anchor=\"middle\" x=\"1471.5\" y=\"-7.8\" font-family=\"Times New Roman,serif\" font-size=\"14.00\">class = Survive</text>\r\n",
       "</g>\r\n",
       "<!-- 25&#45;&gt;26 -->\r\n",
       "<g id=\"edge26\" class=\"edge\"><title>25&#45;&gt;26</title>\r\n",
       "<path fill=\"none\" stroke=\"black\" d=\"M1507.26,-88.9485C1502.21,-80.2579 1496.74,-70.8608 1491.63,-62.0917\"/>\r\n",
       "<polygon fill=\"black\" stroke=\"black\" points=\"1494.53,-60.1189 1486.48,-53.2367 1488.48,-63.6401 1494.53,-60.1189\"/>\r\n",
       "</g>\r\n",
       "<!-- 27 -->\r\n",
       "<g id=\"node28\" class=\"node\"><title>27</title>\r\n",
       "<polygon fill=\"#e58139\" fill-opacity=\"0.890196\" stroke=\"black\" points=\"1633,-53 1542,-53 1542,-0 1633,-0 1633,-53\"/>\r\n",
       "<text text-anchor=\"middle\" x=\"1587.5\" y=\"-37.8\" font-family=\"Times New Roman,serif\" font-size=\"14.00\">samples = 10</text>\r\n",
       "<text text-anchor=\"middle\" x=\"1587.5\" y=\"-22.8\" font-family=\"Times New Roman,serif\" font-size=\"14.00\">value = [9, 1]</text>\r\n",
       "<text text-anchor=\"middle\" x=\"1587.5\" y=\"-7.8\" font-family=\"Times New Roman,serif\" font-size=\"14.00\">class = Die</text>\r\n",
       "</g>\r\n",
       "<!-- 25&#45;&gt;27 -->\r\n",
       "<g id=\"edge27\" class=\"edge\"><title>25&#45;&gt;27</title>\r\n",
       "<path fill=\"none\" stroke=\"black\" d=\"M1547.83,-88.9485C1553.5,-80.1664 1559.64,-70.6629 1565.35,-61.815\"/>\r\n",
       "<polygon fill=\"black\" stroke=\"black\" points=\"1568.4,-63.5365 1570.89,-53.2367 1562.52,-59.7402 1568.4,-63.5365\"/>\r\n",
       "</g>\r\n",
       "<!-- 29 -->\r\n",
       "<g id=\"node30\" class=\"node\"><title>29</title>\r\n",
       "<polygon fill=\"#399de5\" stroke=\"black\" points=\"1753.5,-53 1651.5,-53 1651.5,-0 1753.5,-0 1753.5,-53\"/>\r\n",
       "<text text-anchor=\"middle\" x=\"1702.5\" y=\"-37.8\" font-family=\"Times New Roman,serif\" font-size=\"14.00\">samples = 1</text>\r\n",
       "<text text-anchor=\"middle\" x=\"1702.5\" y=\"-22.8\" font-family=\"Times New Roman,serif\" font-size=\"14.00\">value = [0, 1]</text>\r\n",
       "<text text-anchor=\"middle\" x=\"1702.5\" y=\"-7.8\" font-family=\"Times New Roman,serif\" font-size=\"14.00\">class = Survive</text>\r\n",
       "</g>\r\n",
       "<!-- 28&#45;&gt;29 -->\r\n",
       "<g id=\"edge29\" class=\"edge\"><title>28&#45;&gt;29</title>\r\n",
       "<path fill=\"none\" stroke=\"black\" d=\"M1702.5,-88.9485C1702.5,-80.7153 1702.5,-71.848 1702.5,-63.4814\"/>\r\n",
       "<polygon fill=\"black\" stroke=\"black\" points=\"1706,-63.2367 1702.5,-53.2367 1699,-63.2367 1706,-63.2367\"/>\r\n",
       "</g>\r\n",
       "<!-- 30 -->\r\n",
       "<g id=\"node31\" class=\"node\"><title>30</title>\r\n",
       "<polygon fill=\"#e58139\" fill-opacity=\"0.917647\" stroke=\"black\" points=\"1869.5,-53 1771.5,-53 1771.5,-0 1869.5,-0 1869.5,-53\"/>\r\n",
       "<text text-anchor=\"middle\" x=\"1820.5\" y=\"-37.8\" font-family=\"Times New Roman,serif\" font-size=\"14.00\">samples = 26</text>\r\n",
       "<text text-anchor=\"middle\" x=\"1820.5\" y=\"-22.8\" font-family=\"Times New Roman,serif\" font-size=\"14.00\">value = [24, 2]</text>\r\n",
       "<text text-anchor=\"middle\" x=\"1820.5\" y=\"-7.8\" font-family=\"Times New Roman,serif\" font-size=\"14.00\">class = Die</text>\r\n",
       "</g>\r\n",
       "<!-- 28&#45;&gt;30 -->\r\n",
       "<g id=\"edge30\" class=\"edge\"><title>28&#45;&gt;30</title>\r\n",
       "<path fill=\"none\" stroke=\"black\" d=\"M1743.77,-88.9485C1755.65,-79.4346 1768.59,-69.074 1780.4,-59.6175\"/>\r\n",
       "<polygon fill=\"black\" stroke=\"black\" points=\"1782.75,-62.2196 1788.36,-53.2367 1778.37,-56.7558 1782.75,-62.2196\"/>\r\n",
       "</g>\r\n",
       "</g>\r\n",
       "</svg>\r\n"
      ],
      "text/plain": [
       "<graphviz.files.Source at 0x2b79cce3cf8>"
      ]
     },
     "metadata": {},
     "output_type": "display_data"
    }
   ],
   "source": [
    "with open('titanic.dot') as f:\n",
    "    dot_graph = f.read()\n",
    "g = graphviz.Source(dot_graph)    \n",
    "display(g)"
   ]
  },
  {
   "cell_type": "code",
   "execution_count": null,
   "metadata": {},
   "outputs": [],
   "source": []
  }
 ],
 "metadata": {
  "kernelspec": {
   "display_name": "Python 3",
   "language": "python",
   "name": "python3"
  },
  "language_info": {
   "codemirror_mode": {
    "name": "ipython",
    "version": 3
   },
   "file_extension": ".py",
   "mimetype": "text/x-python",
   "name": "python",
   "nbconvert_exporter": "python",
   "pygments_lexer": "ipython3",
   "version": "3.7.3"
  }
 },
 "nbformat": 4,
 "nbformat_minor": 2
}
