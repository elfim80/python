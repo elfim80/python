{
 "cells": [
  {
   "cell_type": "markdown",
   "metadata": {},
   "source": [
    "야후 파이낸스의 sp500 주식 데이터를 다운로드하여 CSV 파일을 읽음\n",
    "csv 혹은 pandas로 읽을 수 있음"
   ]
  },
  {
   "cell_type": "code",
   "execution_count": 1,
   "metadata": {},
   "outputs": [
    {
     "data": {
      "text/plain": [
       "(251, 7)"
      ]
     },
     "execution_count": 1,
     "metadata": {},
     "output_type": "execute_result"
    }
   ],
   "source": [
    "import pandas\n",
    "\n",
    "stock = pandas.read_csv('GSPC.csv') # pandas는 고수준으로 파일 처리가 편함\n",
    "stock.shape                         # 251개의 행에 7개의 열"
   ]
  },
  {
   "cell_type": "code",
   "execution_count": 53,
   "metadata": {},
   "outputs": [
    {
     "data": {
      "text/plain": [
       "(251, 7)"
      ]
     },
     "execution_count": 53,
     "metadata": {},
     "output_type": "execute_result"
    }
   ],
   "source": [
    "import numpy as np\n",
    "\n",
    "arr = np.array(stock)       # 배열로 변환\n",
    "arr.shape"
   ]
  },
  {
   "cell_type": "code",
   "execution_count": 5,
   "metadata": {},
   "outputs": [
    {
     "data": {
      "text/plain": [
       "array(['2018-06-18', 2765.790039, 2774.98999, 2757.1201170000004, 2773.75,\n",
       "       2773.75, 3287150000], dtype=object)"
      ]
     },
     "execution_count": 5,
     "metadata": {},
     "output_type": "execute_result"
    }
   ],
   "source": [
    "arr[0] # 첫번째 행을 꺼내라  arr[0] == arr[0,:]"
   ]
  },
  {
   "cell_type": "code",
   "execution_count": 6,
   "metadata": {},
   "outputs": [
    {
     "data": {
      "text/plain": [
       "('2018-06-18', 1579314342)"
      ]
     },
     "execution_count": 6,
     "metadata": {},
     "output_type": "execute_result"
    }
   ],
   "source": [
    "arr[0,0], arr[-1,-1] # 첫번째 행의 첫번째 열 # 마지막 행의 마지막 열 "
   ]
  },
  {
   "cell_type": "code",
   "execution_count": 7,
   "metadata": {},
   "outputs": [
    {
     "data": {
      "text/plain": [
       "array([2765.790039, 2752.01001, 2769.72998, 2769.280029, 2760.790039,\n",
       "       2742.939941, 2722.1201170000004, 2728.449951, 2698.689941,\n",
       "       2727.1298829999996, 2704.949951, 2733.27002, 2724.189941,\n",
       "       2737.679932, 2775.6201170000004, 2788.560059, 2779.820068,\n",
       "       2783.139893, 2796.929932, 2797.360107, 2789.340088, 2811.350098,\n",
       "       2809.3701170000004, 2804.550049, 2799.169922, 2820.679932,\n",
       "       2817.72998, 2835.48999, 2842.350098, 2819.0, 2809.72998,\n",
       "       2821.169922, 2800.47998, 2829.6201170000004, 2840.290039,\n",
       "       2855.919922, 2856.790039, 2857.189941, 2838.899902, 2835.459961,\n",
       "       2827.8798829999996, 2827.949951, 2831.439941, 2838.320068,\n",
       "       2853.929932, 2861.51001, 2860.98999, 2860.290039, 2862.350098,\n",
       "       2884.689941, 2901.449951, 2900.6201170000004, 2908.939941,\n",
       "       2898.3701170000004, 2896.959961, 2891.590088, 2888.639893,\n",
       "       2868.26001, 2881.389893, 2871.570068, 2888.290039, 2896.850098,\n",
       "       2906.3798829999996, 2903.830078, 2890.73999, 2906.600098,\n",
       "       2919.72998, 2936.76001, 2921.830078, 2921.75, 2916.97998,\n",
       "       2911.649902, 2910.030029, 2926.290039, 2923.800049, 2931.689941,\n",
       "       2919.350098, 2902.540039, 2877.530029, 2882.51001, 2873.899902,\n",
       "       2776.8701170000004, 2770.540039, 2763.830078, 2767.050049,\n",
       "       2811.669922, 2802.0, 2775.659912, 2773.939941, 2721.030029,\n",
       "       2737.8701170000004, 2674.8798829999996, 2667.860107, 2682.649902,\n",
       "       2640.679932, 2705.600098, 2717.580078, 2745.449951,\n",
       "       2726.3701170000004, 2738.399902, 2774.1298829999996,\n",
       "       2806.3798829999996, 2794.100098, 2773.929932, 2730.050049,\n",
       "       2737.899902, 2693.52002, 2718.540039, 2730.73999, 2654.600098,\n",
       "       2657.73999, 2633.360107, 2649.969971, 2663.75, 2691.449951,\n",
       "       2736.969971, 2737.76001, 2790.5, 2782.429932, 2663.51001,\n",
       "       2691.26001, 2630.860107, 2664.439941, 2658.22998, 2658.699951,\n",
       "       2629.679932, 2590.75, 2559.899902, 2547.050049, 2496.77002,\n",
       "       2465.3798829999996, 2400.560059, 2363.1201170000004, 2442.5,\n",
       "       2498.77002, 2498.939941, 2476.959961, 2491.919922, 2474.330078,\n",
       "       2535.610107, 2568.110107, 2580.0, 2573.51001, 2588.110107,\n",
       "       2580.310059, 2585.100098, 2614.75, 2609.280029, 2651.27002,\n",
       "       2657.8798829999996, 2643.47998, 2638.840088, 2657.439941,\n",
       "       2644.969971, 2644.889893, 2653.6201170000004, 2685.48999,\n",
       "       2702.320068, 2706.48999, 2728.340088, 2735.050049, 2717.530029,\n",
       "       2692.360107, 2712.399902, 2722.610107, 2750.300049, 2743.5,\n",
       "       2760.23999, 2769.280029, 2779.050049, 2780.23999, 2780.669922,\n",
       "       2804.350098, 2792.360107, 2787.5, 2788.110107, 2798.219971,\n",
       "       2814.3701170000004, 2794.409912, 2790.27002, 2766.530029,\n",
       "       2730.790039, 2747.610107, 2787.340088, 2799.780029,\n",
       "       2810.3798829999996, 2810.790039, 2822.610107, 2840.76001,\n",
       "       2831.340088, 2819.719971, 2844.52002, 2796.01001, 2812.659912,\n",
       "       2819.719971, 2809.399902, 2828.27002, 2848.6298829999996,\n",
       "       2868.23999, 2876.090088, 2873.98999, 2884.159912, 2888.459961,\n",
       "       2886.580078, 2881.3701170000004, 2891.919922, 2900.860107,\n",
       "       2908.320068, 2912.26001, 2916.040039, 2904.810059, 2898.780029,\n",
       "       2909.98999, 2934.0, 2928.98999, 2925.810059, 2940.580078,\n",
       "       2937.139893, 2952.330078, 2922.159912, 2929.209961, 2908.889893,\n",
       "       2913.030029, 2879.610107, 2859.840088, 2863.100098, 2840.189941,\n",
       "       2820.1201170000004, 2820.3798829999996, 2855.800049, 2858.600098,\n",
       "       2841.939941, 2854.02002, 2856.060059, 2836.699951, 2832.409912,\n",
       "       2830.030029, 2790.25, 2786.939941, 2766.149902, 2751.530029,\n",
       "       2762.639893, 2818.090088, 2828.51001, 2852.8701170000004,\n",
       "       2885.830078, 2903.27002, 2882.72998, 2886.23999, 2886.820068,\n",
       "       2889.75], dtype=object)"
      ]
     },
     "execution_count": 7,
     "metadata": {},
     "output_type": "execute_result"
    }
   ],
   "source": [
    "o  = arr[:,1]   # Open 만 가져오자 : Date\tOpen\tHigh\tLow\tClose\tAdj Close\tVolume\n",
    "o"
   ]
  },
  {
   "cell_type": "code",
   "execution_count": 8,
   "metadata": {},
   "outputs": [],
   "source": [
    "# Close 만 가져오자 : Date\tOpen\tHigh\tLow\tClose\tAdj Close\tVolume\n",
    "close = arr[:,-3]  # 편함 # => close = arr[:,4] 도 가능\n",
    "#close"
   ]
  },
  {
   "cell_type": "code",
   "execution_count": 9,
   "metadata": {},
   "outputs": [
    {
     "data": {
      "text/plain": [
       "(2952.330078,\n",
       " 2363.1201170000004,\n",
       " 2952.330078,\n",
       " 2363.1201170000004,\n",
       " 2780.9741113346613,\n",
       " 2799.169922,\n",
       " 113.36175052380939)"
      ]
     },
     "execution_count": 9,
     "metadata": {},
     "output_type": "execute_result"
    }
   ],
   "source": [
    "# b(below) 아래쪽에 셀 만들기\n",
    "# open의 최대값, 최소값, 평균을 구함\n",
    "# 내장 함수 : import 없이 바로 사용가능한 함수\n",
    "# 통계치, 평균, 중간값, 표준편차\n",
    "max(o), min(o), np.max(o), np.min(o), np.mean(o), np.median(o), np.std(o)"
   ]
  },
  {
   "cell_type": "code",
   "execution_count": 10,
   "metadata": {},
   "outputs": [
    {
     "data": {
      "text/plain": [
       "(251, 4)"
      ]
     },
     "execution_count": 10,
     "metadata": {},
     "output_type": "execute_result"
    }
   ],
   "source": [
    "# Open\tHigh\tLow\tClose 4개의 컬럼만 뽑자\n",
    "v4 = arr[:,1:5]\n",
    "v4.shape"
   ]
  },
  {
   "cell_type": "raw",
   "metadata": {},
   "source": [
    "축 : axis\n",
    "2차원 데이터는 2개의 축이 있음. 행축, 열축"
   ]
  },
  {
   "cell_type": "code",
   "execution_count": 54,
   "metadata": {},
   "outputs": [
    {
     "data": {
      "text/plain": [
       "array([2952.330078, 2954.1298829999996, 2939.350098, 2945.830078],\n",
       "      dtype=object)"
      ]
     },
     "execution_count": 54,
     "metadata": {},
     "output_type": "execute_result"
    }
   ],
   "source": [
    "np.max(v4, axis=0)"
   ]
  },
  {
   "cell_type": "code",
   "execution_count": 55,
   "metadata": {},
   "outputs": [
    {
     "data": {
      "text/plain": [
       "array([2774.98999, 2765.050049, 2774.860107, 2769.280029, 2764.169922,\n",
       "       2742.939941, 2732.909912, 2746.090088, 2724.340088, 2743.26001,\n",
       "       2727.26001, 2736.580078, 2737.830078, 2764.409912, 2784.649902,\n",
       "       2795.580078, 2785.909912, 2799.219971, 2804.530029, 2801.189941,\n",
       "       2814.189941, 2816.76001, 2812.050049, 2809.699951, 2808.610107,\n",
       "       2829.98999, 2848.030029, 2845.570068, 2843.169922, 2821.73999,\n",
       "       2824.459961, 2825.830078, 2829.909912, 2840.3798829999996,\n",
       "       2853.290039, 2863.429932, 2862.439941, 2862.47998, 2842.199951,\n",
       "       2843.399902, 2843.110107, 2827.949951, 2850.48999,\n",
       "       2855.6298829999996, 2859.76001, 2873.22998, 2867.540039,\n",
       "       2868.780029, 2876.159912, 2898.25, 2903.77002, 2916.5, 2912.459961,\n",
       "       2906.320068, 2900.179932, 2894.209961, 2892.050049, 2883.810059,\n",
       "       2886.929932, 2892.52002, 2894.649902, 2906.76001, 2908.300049,\n",
       "       2904.649902, 2911.169922, 2912.360107, 2934.800049, 2940.909912,\n",
       "       2923.790039, 2923.949951, 2931.149902, 2927.219971, 2920.530029,\n",
       "       2937.060059, 2931.419922, 2939.860107, 2919.780029, 2909.639893,\n",
       "       2889.449951, 2894.830078, 2874.02002, 2795.139893, 2775.77002,\n",
       "       2775.98999, 2813.459961, 2816.939941, 2806.040039, 2797.77002,\n",
       "       2778.939941, 2753.590088, 2742.590088, 2722.699951,\n",
       "       2692.3798829999996, 2706.850098, 2685.429932, 2736.689941,\n",
       "       2741.669922, 2756.550049, 2744.27002, 2756.820068, 2815.149902,\n",
       "       2814.75, 2794.100098, 2775.98999, 2754.600098, 2746.800049,\n",
       "       2735.3798829999996, 2746.75, 2733.159912, 2669.439941, 2670.72998,\n",
       "       2647.550049, 2674.350098, 2682.530029, 2744.0, 2753.75,\n",
       "       2760.8798829999996, 2800.179932, 2785.929932, 2696.149902,\n",
       "       2708.540039, 2647.51001, 2674.350098, 2685.439941, 2670.189941,\n",
       "       2635.070068, 2601.1298829999996, 2573.98999, 2585.290039,\n",
       "       2509.6298829999996, 2504.409912, 2410.340088, 2467.76001,\n",
       "       2489.100098, 2520.27002, 2509.23999, 2519.48999, 2493.139893,\n",
       "       2538.070068, 2566.159912, 2579.820068, 2595.320068, 2597.820068,\n",
       "       2596.27002, 2589.320068, 2613.080078, 2625.76001, 2645.060059,\n",
       "       2675.469971, 2657.8798829999996, 2653.189941, 2647.199951,\n",
       "       2672.3798829999996, 2644.969971, 2650.929932, 2690.439941,\n",
       "       2708.949951, 2716.659912, 2724.98999, 2738.97998, 2738.080078,\n",
       "       2719.320068, 2708.070068, 2718.050049, 2748.189941, 2761.850098,\n",
       "       2757.899902, 2775.659912, 2787.330078, 2789.8798829999996,\n",
       "       2781.580078, 2794.199951, 2813.48999, 2803.1201170000004,\n",
       "       2795.76001, 2793.72998, 2808.02002, 2816.8798829999996,\n",
       "       2796.439941, 2790.27002, 2767.25, 2744.1298829999996, 2784.0,\n",
       "       2798.320068, 2821.23999, 2815.0, 2830.72998, 2835.409912,\n",
       "       2852.419922, 2843.540039, 2860.310059, 2846.159912, 2809.790039,\n",
       "       2829.8701170000004, 2825.560059, 2819.709961, 2836.030029,\n",
       "       2869.399902, 2872.899902, 2885.25, 2881.280029, 2893.23999,\n",
       "       2895.949951, 2886.8798829999996, 2889.709961, 2893.419922,\n",
       "       2910.540039, 2909.600098, 2916.060059, 2918.0, 2908.399902,\n",
       "       2909.51001, 2936.310059, 2936.830078, 2933.100098,\n",
       "       2939.8798829999996, 2949.52002, 2948.219971, 2954.1298829999996,\n",
       "       2931.679932, 2947.850098, 2937.320068, 2913.030029, 2897.959961,\n",
       "       2875.969971, 2891.310059, 2840.189941, 2852.540039, 2858.679932,\n",
       "       2892.149902, 2885.47998, 2853.860107, 2868.8798829999996,\n",
       "       2865.469971, 2836.699951, 2841.360107, 2840.51001, 2792.030029,\n",
       "       2799.0, 2768.97998, 2763.070068, 2804.48999, 2827.280029,\n",
       "       2852.100098, 2884.969971, 2904.77002, 2910.610107, 2888.570068,\n",
       "       2895.23999, 2894.449951, 2897.27002], dtype=object)"
      ]
     },
     "execution_count": 55,
     "metadata": {},
     "output_type": "execute_result"
    }
   ],
   "source": [
    "np.max(v4, axis=1)"
   ]
  },
  {
   "cell_type": "code",
   "execution_count": 14,
   "metadata": {},
   "outputs": [
    {
     "data": {
      "text/plain": [
       "(2952.330078, 218)"
      ]
     },
     "execution_count": 14,
     "metadata": {},
     "output_type": "execute_result"
    }
   ],
   "source": [
    "# argmax, argmin 맥스값의 위치\n",
    "np.max(o), np.argmax(o)"
   ]
  },
  {
   "cell_type": "markdown",
   "metadata": {},
   "source": [
    "주가가 가장 많이 상승한 날짜 찾기 (정답 : x번째 행)\n",
    "(종가 -시가)이 가장 큰 날"
   ]
  },
  {
   "cell_type": "code",
   "execution_count": 46,
   "metadata": {},
   "outputs": [],
   "source": [
    "close_v = arr[:,-3]\n",
    "open_v = arr[:,1]\n",
    "day_v = arr[:,0]\n",
    "vol = arr[:,-1]\n",
    "gap = close_v - open_v"
   ]
  },
  {
   "cell_type": "code",
   "execution_count": 37,
   "metadata": {},
   "outputs": [
    {
     "data": {
      "text/plain": [
       "(104.57983399999966, 132, '2018-12-26')"
      ]
     },
     "execution_count": 37,
     "metadata": {},
     "output_type": "execute_result"
    }
   ],
   "source": [
    "#np.max(close_v - open_v)\n",
    "np.max(gap), np.argmax(gap), day_v[np.argmax(gap)]"
   ]
  },
  {
   "cell_type": "markdown",
   "metadata": {},
   "source": [
    "#### 데이터 분석\n",
    "- 가격 상승하는 날 거래량이 많아질까?\n",
    "- 전날 가격이 상승하면 다음날 시작가격은 더 높은 가격에서 시작할까?\n",
    "- 가격 변동이 크면 거래량도 많아질까?"
   ]
  },
  {
   "cell_type": "markdown",
   "metadata": {},
   "source": [
    "##### 다음 단계 : 예측\n",
    "- 어제/오늘 현황 분석이 끝났는데 내일은 Open/Close 이 어떻게 될까?\n",
    "- 방법 : 1. 통계적 방법(R), 2. 머신러닝"
   ]
  },
  {
   "cell_type": "code",
   "execution_count": 51,
   "metadata": {},
   "outputs": [
    {
     "data": {
      "text/plain": [
       "(3513170514.7058825, 3663782472.53913)"
      ]
     },
     "execution_count": 51,
     "metadata": {},
     "output_type": "execute_result"
    }
   ],
   "source": [
    "# 상승한 날의 거래량 / 하락한 날의 거래량\n",
    "np.mean(vol[gap > 0]), np.mean(vol[gap < 0])"
   ]
  },
  {
   "cell_type": "code",
   "execution_count": 52,
   "metadata": {},
   "outputs": [
    {
     "data": {
      "text/plain": [
       "False"
      ]
     },
     "execution_count": 52,
     "metadata": {},
     "output_type": "execute_result"
    }
   ],
   "source": [
    "# 가격 상승하는 날 거래량이 많아질까?\n",
    "np.mean(vol[gap > 0]) > np.mean(vol[gap < 0])"
   ]
  },
  {
   "cell_type": "code",
   "execution_count": 32,
   "metadata": {},
   "outputs": [
    {
     "data": {
      "text/plain": [
       "array([False,  True, False,  True])"
      ]
     },
     "execution_count": 32,
     "metadata": {},
     "output_type": "execute_result"
    }
   ],
   "source": [
    "# 조건부 검색\n",
    "a = np.array([1,2,3,4])\n",
    "even = a%2==0 # 짝수값만 뽑고 싶다.\n",
    "even #  불린 마스크"
   ]
  },
  {
   "cell_type": "code",
   "execution_count": 33,
   "metadata": {},
   "outputs": [
    {
     "data": {
      "text/plain": [
       "array([2, 4])"
      ]
     },
     "execution_count": 33,
     "metadata": {},
     "output_type": "execute_result"
    }
   ],
   "source": [
    "# 불린 마스크를 인덱스로 사용하면 True값 만 뽑힘\n",
    "a[even]"
   ]
  },
  {
   "cell_type": "code",
   "execution_count": 68,
   "metadata": {},
   "outputs": [
    {
     "data": {
      "text/plain": [
       "array([0., 0., 0., 0.])"
      ]
     },
     "execution_count": 68,
     "metadata": {},
     "output_type": "execute_result"
    }
   ],
   "source": [
    "np.zeros(shape=(4))"
   ]
  },
  {
   "cell_type": "code",
   "execution_count": 66,
   "metadata": {},
   "outputs": [
    {
     "data": {
      "text/plain": [
       "array([[0., 0., 0., 0.],\n",
       "       [0., 0., 0., 0.],\n",
       "       [0., 0., 0., 0.]])"
      ]
     },
     "execution_count": 66,
     "metadata": {},
     "output_type": "execute_result"
    }
   ],
   "source": [
    "np.zeros(shape=(3,4))"
   ]
  },
  {
   "cell_type": "code",
   "execution_count": 67,
   "metadata": {},
   "outputs": [
    {
     "data": {
      "text/plain": [
       "array([[[0., 0., 0., 0.],\n",
       "        [0., 0., 0., 0.],\n",
       "        [0., 0., 0., 0.]],\n",
       "\n",
       "       [[0., 0., 0., 0.],\n",
       "        [0., 0., 0., 0.],\n",
       "        [0., 0., 0., 0.]]])"
      ]
     },
     "execution_count": 67,
     "metadata": {},
     "output_type": "execute_result"
    }
   ],
   "source": [
    "np.zeros(shape=(2,3,4))"
   ]
  },
  {
   "cell_type": "code",
   "execution_count": 56,
   "metadata": {},
   "outputs": [
    {
     "data": {
      "text/plain": [
       "array([[[0, 0, 0, 0],\n",
       "        [0, 0, 0, 0],\n",
       "        [0, 0, 0, 0]],\n",
       "\n",
       "       [[0, 0, 0, 0],\n",
       "        [0, 0, 0, 0],\n",
       "        [0, 0, 0, 0]]])"
      ]
     },
     "execution_count": 56,
     "metadata": {},
     "output_type": "execute_result"
    }
   ],
   "source": [
    "np.zeros(shape=(2,3,4), dtype=np.int32)"
   ]
  },
  {
   "cell_type": "code",
   "execution_count": 70,
   "metadata": {},
   "outputs": [
    {
     "data": {
      "text/plain": [
       "array([[[0, 0, 0, 0, 0],\n",
       "        [0, 0, 0, 0, 0]],\n",
       "\n",
       "       [[0, 0, 0, 0, 0],\n",
       "        [0, 0, 0, 0, 0]],\n",
       "\n",
       "       [[0, 0, 0, 0, 0],\n",
       "        [0, 0, 0, 0, 0]]])"
      ]
     },
     "execution_count": 70,
     "metadata": {},
     "output_type": "execute_result"
    }
   ],
   "source": [
    "np.zeros(shape=(3,2,5), dtype=np.int32) "
   ]
  },
  {
   "cell_type": "code",
   "execution_count": 72,
   "metadata": {},
   "outputs": [
    {
     "data": {
      "text/plain": [
       "array([[[2.1, 2.1, 2.1, 2.1],\n",
       "        [2.1, 2.1, 2.1, 2.1]],\n",
       "\n",
       "       [[2.1, 2.1, 2.1, 2.1],\n",
       "        [2.1, 2.1, 2.1, 2.1]],\n",
       "\n",
       "       [[2.1, 2.1, 2.1, 2.1],\n",
       "        [2.1, 2.1, 2.1, 2.1]]])"
      ]
     },
     "execution_count": 72,
     "metadata": {},
     "output_type": "execute_result"
    }
   ],
   "source": [
    "np.full((3,2,4),2.1)"
   ]
  },
  {
   "cell_type": "code",
   "execution_count": 77,
   "metadata": {},
   "outputs": [
    {
     "data": {
      "text/plain": [
       "array([[1., 0., 0., 0.],\n",
       "       [0., 1., 0., 0.],\n",
       "       [0., 0., 1., 0.],\n",
       "       [0., 0., 0., 1.]])"
      ]
     },
     "execution_count": 77,
     "metadata": {},
     "output_type": "execute_result"
    }
   ],
   "source": [
    "np.eye(4)\n"
   ]
  },
  {
   "cell_type": "code",
   "execution_count": 76,
   "metadata": {},
   "outputs": [
    {
     "data": {
      "text/plain": [
       "array([0, 3, 6, 9])"
      ]
     },
     "execution_count": 76,
     "metadata": {},
     "output_type": "execute_result"
    }
   ],
   "source": [
    "np.arange(0,10,3)"
   ]
  },
  {
   "cell_type": "code",
   "execution_count": 78,
   "metadata": {},
   "outputs": [],
   "source": [
    "# zeros > ones > arange 많이 쓰는 순서"
   ]
  },
  {
   "cell_type": "code",
   "execution_count": 82,
   "metadata": {},
   "outputs": [
    {
     "data": {
      "text/plain": [
       "array([ 0. ,  7.5, 15. , 22.5, 30. ])"
      ]
     },
     "execution_count": 82,
     "metadata": {},
     "output_type": "execute_result"
    }
   ],
   "source": [
    "np.linspace(0,30,5) # 시작값, 끝값, x 등분"
   ]
  },
  {
   "cell_type": "code",
   "execution_count": 87,
   "metadata": {},
   "outputs": [
    {
     "data": {
      "text/plain": [
       "3"
      ]
     },
     "execution_count": 87,
     "metadata": {},
     "output_type": "execute_result"
    }
   ],
   "source": [
    "import random\n",
    "random.randint(1,10)"
   ]
  },
  {
   "cell_type": "code",
   "execution_count": 91,
   "metadata": {},
   "outputs": [
    {
     "data": {
      "text/plain": [
       "array([[0.97236163, 0.23546606, 0.84536635],\n",
       "       [0.43225291, 0.85882457, 0.96630612]])"
      ]
     },
     "execution_count": 91,
     "metadata": {},
     "output_type": "execute_result"
    }
   ],
   "source": [
    "np.random.rand(2,3) #대부분의 random 함수는 0~1사이 값이 나옴[0,1]"
   ]
  },
  {
   "cell_type": "code",
   "execution_count": 92,
   "metadata": {},
   "outputs": [
    {
     "data": {
      "text/plain": [
       "array([[ 0.82560376,  1.4743442 ,  1.30273824],\n",
       "       [-0.47770279, -0.62374305,  0.32703397]])"
      ]
     },
     "execution_count": 92,
     "metadata": {},
     "output_type": "execute_result"
    }
   ],
   "source": [
    "np.random.normal(size=(2,3))   # 정모양의(평균값)의 정규 분포, 평균값이 많이 나옴"
   ]
  },
  {
   "cell_type": "code",
   "execution_count": 93,
   "metadata": {},
   "outputs": [
    {
     "data": {
      "text/plain": [
       "array([[8, 3, 1],\n",
       "       [2, 8, 9]])"
      ]
     },
     "execution_count": 93,
     "metadata": {},
     "output_type": "execute_result"
    }
   ],
   "source": [
    "np.random.randint(low=1, high=10, size=(2,3))"
   ]
  },
  {
   "cell_type": "code",
   "execution_count": 94,
   "metadata": {},
   "outputs": [
    {
     "data": {
      "text/plain": [
       "array([[0.35174038, 0.09709122, 0.52646384],\n",
       "       [0.80340241, 0.97565086, 0.12324298]])"
      ]
     },
     "execution_count": 94,
     "metadata": {},
     "output_type": "execute_result"
    }
   ],
   "source": [
    "np.random.uniform(size=(2,3)) # 전체값에서 균등하게 나옴. 제어가능"
   ]
  },
  {
   "cell_type": "code",
   "execution_count": 100,
   "metadata": {},
   "outputs": [
    {
     "ename": "ValueError",
     "evalue": "operands could not be broadcast together with shapes (3,5) (3,2) ",
     "output_type": "error",
     "traceback": [
      "\u001b[1;31m---------------------------------------------------------------------------\u001b[0m",
      "\u001b[1;31mValueError\u001b[0m                                Traceback (most recent call last)",
      "\u001b[1;32m<ipython-input-100-d06ce1697b2e>\u001b[0m in \u001b[0;36m<module>\u001b[1;34m\u001b[0m\n\u001b[0;32m      1\u001b[0m \u001b[0ma\u001b[0m \u001b[1;33m=\u001b[0m \u001b[0mnp\u001b[0m\u001b[1;33m.\u001b[0m\u001b[0mones\u001b[0m\u001b[1;33m(\u001b[0m\u001b[0mshape\u001b[0m\u001b[1;33m=\u001b[0m\u001b[1;33m(\u001b[0m\u001b[1;36m3\u001b[0m\u001b[1;33m,\u001b[0m\u001b[1;36m5\u001b[0m\u001b[1;33m)\u001b[0m\u001b[1;33m)\u001b[0m\u001b[1;33m\u001b[0m\u001b[1;33m\u001b[0m\u001b[0m\n\u001b[0;32m      2\u001b[0m \u001b[0mb\u001b[0m \u001b[1;33m=\u001b[0m \u001b[0mnp\u001b[0m\u001b[1;33m.\u001b[0m\u001b[0mones\u001b[0m\u001b[1;33m(\u001b[0m\u001b[0mshape\u001b[0m\u001b[1;33m=\u001b[0m\u001b[1;33m(\u001b[0m\u001b[1;36m3\u001b[0m\u001b[1;33m,\u001b[0m\u001b[1;36m2\u001b[0m\u001b[1;33m)\u001b[0m\u001b[1;33m)\u001b[0m\u001b[1;33m\u001b[0m\u001b[1;33m\u001b[0m\u001b[0m\n\u001b[1;32m----> 3\u001b[1;33m \u001b[0ma\u001b[0m\u001b[1;33m+\u001b[0m\u001b[0mb\u001b[0m\u001b[1;33m\u001b[0m\u001b[1;33m\u001b[0m\u001b[0m\n\u001b[0m",
      "\u001b[1;31mValueError\u001b[0m: operands could not be broadcast together with shapes (3,5) (3,2) "
     ]
    }
   ],
   "source": [
    "a = np.ones(shape=(3,5))\n",
    "b = np.ones(shape=(3,2))\n",
    "a+b"
   ]
  },
  {
   "cell_type": "code",
   "execution_count": 101,
   "metadata": {},
   "outputs": [
    {
     "data": {
      "text/plain": [
       "array([[2., 2.],\n",
       "       [2., 2.],\n",
       "       [2., 2.]])"
      ]
     },
     "execution_count": 101,
     "metadata": {},
     "output_type": "execute_result"
    }
   ],
   "source": [
    "# 예외케이스 broadcasting(모양이 같아야 함)\n",
    "a = np.ones(shape=(3,2))\n",
    "b = np.ones(shape=(3,1))  \n",
    "a+b"
   ]
  },
  {
   "cell_type": "code",
   "execution_count": 102,
   "metadata": {},
   "outputs": [
    {
     "data": {
      "text/plain": [
       "array([[2., 2.],\n",
       "       [2., 2.],\n",
       "       [2., 2.]])"
      ]
     },
     "execution_count": 102,
     "metadata": {},
     "output_type": "execute_result"
    }
   ],
   "source": [
    "# 예외케이스 broadcasting(모양이 같아야 함)\n",
    "a = np.ones(shape=(3,2), dtype=np.int)\n",
    "b = np.ones(shape=(3,2), dtype=np.float)  \n",
    "a+b"
   ]
  },
  {
   "cell_type": "code",
   "execution_count": 105,
   "metadata": {},
   "outputs": [
    {
     "data": {
      "text/plain": [
       "array([0, 1, 2, 3, 4, 5])"
      ]
     },
     "execution_count": 105,
     "metadata": {},
     "output_type": "execute_result"
    }
   ],
   "source": [
    "# 행우선으로 저장됨\n",
    "a = np.arange(6)\n",
    "a"
   ]
  },
  {
   "cell_type": "code",
   "execution_count": 107,
   "metadata": {},
   "outputs": [
    {
     "data": {
      "text/plain": [
       "'\\nFortran, R언어은 열우선(열방향)으로 저장됨\\n[[0,3]\\n [1,4]\\n [2,5]]\\n'"
      ]
     },
     "execution_count": 107,
     "metadata": {},
     "output_type": "execute_result"
    }
   ],
   "source": [
    "b = a.reshape((2,3))\n",
    "b\n",
    "'''\n",
    "Fortran, R언어은 열우선(열방향)으로 저장됨\n",
    "[[0,3]\n",
    " [1,4]\n",
    " [2,5]]\n",
    "'''"
   ]
  },
  {
   "cell_type": "code",
   "execution_count": 110,
   "metadata": {},
   "outputs": [
    {
     "data": {
      "text/plain": [
       "(2, (2, 3), 6, dtype('int32'), 24)"
      ]
     },
     "execution_count": 110,
     "metadata": {},
     "output_type": "execute_result"
    }
   ],
   "source": [
    "# 차원 갯수, *모양*,  총요소 갯수, 데이터 타입, 메모리 사용량\n",
    "b.ndim,      b.shape, b.size,      b.dtype,     b.nbytes"
   ]
  },
  {
   "cell_type": "code",
   "execution_count": 111,
   "metadata": {},
   "outputs": [
    {
     "data": {
      "text/plain": [
       "array([0, 1, 2, 3, 4, 5])"
      ]
     },
     "execution_count": 111,
     "metadata": {},
     "output_type": "execute_result"
    }
   ],
   "source": [
    "b.flatten() # 1차원으로 변환 flatten:평면화"
   ]
  },
  {
   "cell_type": "code",
   "execution_count": 115,
   "metadata": {},
   "outputs": [
    {
     "data": {
      "text/plain": [
       "array([[0, 1, 2],\n",
       "       [3, 4, 5],\n",
       "       [6, 7, 8]])"
      ]
     },
     "execution_count": 115,
     "metadata": {},
     "output_type": "execute_result"
    }
   ],
   "source": [
    "a = np.arange(9).reshape((3,3))\n",
    "a"
   ]
  },
  {
   "cell_type": "markdown",
   "metadata": {},
   "source": [
    "# 데이타 자르기 : slicing\n",
    "- [1,4,7]\n",
    "- [6,7,8]\n",
    "- [1,2,4,5,6,7]\n",
    "- [4,5,7,8]\n"
   ]
  },
  {
   "cell_type": "code",
   "execution_count": 124,
   "metadata": {},
   "outputs": [
    {
     "data": {
      "text/plain": [
       "(array([1, 4, 7]),\n",
       " array([6, 7, 8]),\n",
       " array([1, 2, 4, 5, 7, 8]),\n",
       " array([4, 5, 7, 8]))"
      ]
     },
     "execution_count": 124,
     "metadata": {},
     "output_type": "execute_result"
    }
   ],
   "source": [
    "a[:,1], a[2,:], a[:,1:].flatten(), a[1:,1:].flatten()"
   ]
  },
  {
   "cell_type": "code",
   "execution_count": 126,
   "metadata": {},
   "outputs": [
    {
     "data": {
      "text/plain": [
       "array([[ 0,  1,  2,  3],\n",
       "       [ 4,  5,  6,  7],\n",
       "       [ 8,  9, 10, 11]])"
      ]
     },
     "execution_count": 126,
     "metadata": {},
     "output_type": "execute_result"
    }
   ],
   "source": [
    "b = np.arange(12).reshape((3,4))\n",
    "b"
   ]
  },
  {
   "cell_type": "markdown",
   "metadata": {},
   "source": [
    "# b에서 아래 요소/원소(element)를 잘라(slice) 주세요\n",
    "- [ 5,  6,  9, 10]\n",
    "- [ 9, 10, 11]"
   ]
  },
  {
   "cell_type": "code",
   "execution_count": 131,
   "metadata": {},
   "outputs": [
    {
     "data": {
      "text/plain": [
       "(array([ 5,  6,  9, 10]), array([ 5,  6,  9, 10]), array([ 9, 10, 11]))"
      ]
     },
     "execution_count": 131,
     "metadata": {},
     "output_type": "execute_result"
    }
   ],
   "source": [
    "b[1:,1:3].flatten(), b[1:,1:-1].flatten(), b[-1,1:]  "
   ]
  },
  {
   "cell_type": "code",
   "execution_count": 143,
   "metadata": {},
   "outputs": [
    {
     "data": {
      "text/plain": [
       "array([[[ 0,  1,  2,  3],\n",
       "        [ 4,  5,  6,  7],\n",
       "        [ 8,  9, 10, 11]],\n",
       "\n",
       "       [[12, 13, 14, 15],\n",
       "        [16, 17, 18, 19],\n",
       "        [20, 21, 22, 23]]])"
      ]
     },
     "execution_count": 143,
     "metadata": {},
     "output_type": "execute_result"
    }
   ],
   "source": [
    "# 3차원\n",
    "c = np.arange(2*3*4).reshape((2,3,4))\n",
    "c"
   ]
  },
  {
   "cell_type": "code",
   "execution_count": 140,
   "metadata": {},
   "outputs": [
    {
     "data": {
      "text/plain": [
       "array([[ 0,  1,  2,  3],\n",
       "       [ 4,  5,  6,  7],\n",
       "       [ 8,  9, 10, 11]])"
      ]
     },
     "execution_count": 140,
     "metadata": {},
     "output_type": "execute_result"
    }
   ],
   "source": [
    " c[0] "
   ]
  },
  {
   "cell_type": "code",
   "execution_count": 146,
   "metadata": {},
   "outputs": [
    {
     "data": {
      "text/plain": [
       "(array([0, 1, 2, 3]),\n",
       " array([12, 13, 14, 15]),\n",
       " array([1, 5, 9]),\n",
       " array([15, 19, 23]))"
      ]
     },
     "execution_count": 146,
     "metadata": {},
     "output_type": "execute_result"
    }
   ],
   "source": [
    " c[0,0,:], c[1,0], c[0, :, 1], c[1,:,-1]"
   ]
  },
  {
   "cell_type": "code",
   "execution_count": 150,
   "metadata": {},
   "outputs": [
    {
     "data": {
      "text/plain": [
       "(array([ 6, 10]), array([17, 18, 19]), array([13, 14, 17, 18]))"
      ]
     },
     "execution_count": 150,
     "metadata": {},
     "output_type": "execute_result"
    }
   ],
   "source": [
    "c[0,1:,-2], c[1,1,1:], c[1,:-1,1:-1].flatten()"
   ]
  },
  {
   "cell_type": "code",
   "execution_count": 154,
   "metadata": {},
   "outputs": [
    {
     "data": {
      "text/plain": [
       "(array([[ 0,  1,  2,  3,  4,  5],\n",
       "        [ 6,  7,  8,  9, 10, 11],\n",
       "        [12, 13, 14, 15, 16, 17],\n",
       "        [18, 19, 20, 21, 22, 23]]), array([[ 0,  1,  2],\n",
       "        [ 3,  4,  5],\n",
       "        [ 6,  7,  8],\n",
       "        [ 9, 10, 11],\n",
       "        [12, 13, 14],\n",
       "        [15, 16, 17],\n",
       "        [18, 19, 20],\n",
       "        [21, 22, 23]]))"
      ]
     },
     "execution_count": 154,
     "metadata": {},
     "output_type": "execute_result"
    }
   ],
   "source": [
    "c.shape\n",
    "c.reshape((4,6)),np.reshape(c,(8,3))"
   ]
  },
  {
   "cell_type": "code",
   "execution_count": 161,
   "metadata": {},
   "outputs": [
    {
     "data": {
      "text/plain": [
       "(24, array([[ 0,  1,  2,  3],\n",
       "        [ 4,  5,  6,  7],\n",
       "        [ 8,  9, 10, 11],\n",
       "        [12, 13, 14, 15],\n",
       "        [16, 17, 18, 19],\n",
       "        [20, 21, 22, 23]]), array([[ 0,  1,  2,  3,  4,  5,  6,  7],\n",
       "        [ 8,  9, 10, 11, 12, 13, 14, 15],\n",
       "        [16, 17, 18, 19, 20, 21, 22, 23]]))"
      ]
     },
     "execution_count": 161,
     "metadata": {},
     "output_type": "execute_result"
    }
   ],
   "source": [
    "c.size, c.reshape((6,-1)), c.reshape((-1,8)) # -1은 알아서 맞춰라. 1번만 사용"
   ]
  },
  {
   "cell_type": "code",
   "execution_count": 222,
   "metadata": {},
   "outputs": [
    {
     "data": {
      "text/plain": [
       "array([12, 13, 14, 15, 16, 17])"
      ]
     },
     "execution_count": 222,
     "metadata": {},
     "output_type": "execute_result"
    }
   ],
   "source": [
    "np.arange(12,18)"
   ]
  },
  {
   "cell_type": "code",
   "execution_count": 223,
   "metadata": {},
   "outputs": [
    {
     "data": {
      "text/plain": [
       "(array([[0, 1, 2],\n",
       "        [3, 4, 5]]), array([[ 6,  7,  8],\n",
       "        [ 9, 10, 11]]))"
      ]
     },
     "execution_count": 223,
     "metadata": {},
     "output_type": "execute_result"
    }
   ],
   "source": [
    "a = np.arange(6).reshape(2,3)\n",
    "b = np.arange(6,12).reshape(2,3)\n",
    "a_1= np.arange(12,18).reshape(2,3)\n",
    "b_1= np.arange(18,24).reshape(2,3)\n",
    "a,b"
   ]
  },
  {
   "cell_type": "code",
   "execution_count": 224,
   "metadata": {},
   "outputs": [
    {
     "data": {
      "text/plain": [
       "array([[ 0,  1,  2],\n",
       "       [ 3,  4,  5],\n",
       "       [ 6,  7,  8],\n",
       "       [ 9, 10, 11],\n",
       "       [ 0,  1,  2],\n",
       "       [ 3,  4,  5]])"
      ]
     },
     "execution_count": 224,
     "metadata": {},
     "output_type": "execute_result"
    }
   ],
   "source": [
    "# 두 배열을 붙임니다. concatenate == concat\n",
    "c = np.concatenate((a,b,a),axis=0)  # axis=0 이면 행으로 추가\n",
    "c"
   ]
  },
  {
   "cell_type": "code",
   "execution_count": 173,
   "metadata": {},
   "outputs": [
    {
     "data": {
      "text/plain": [
       "((2, 3), (6, 3))"
      ]
     },
     "execution_count": 173,
     "metadata": {},
     "output_type": "execute_result"
    }
   ],
   "source": [
    "a.shape, c.shape"
   ]
  },
  {
   "cell_type": "code",
   "execution_count": 177,
   "metadata": {},
   "outputs": [
    {
     "data": {
      "text/plain": [
       "array([[ 0,  1,  2,  6,  7,  8,  0,  1,  2],\n",
       "       [ 3,  4,  5,  9, 10, 11,  3,  4,  5]])"
      ]
     },
     "execution_count": 177,
     "metadata": {},
     "output_type": "execute_result"
    }
   ],
   "source": [
    "# 두 배열을 붙임니다. concatenate == concat\n",
    "d = np.concatenate((a,b,a),axis=1)  # axis=1 이면 열로 추가\n",
    "d"
   ]
  },
  {
   "cell_type": "code",
   "execution_count": 176,
   "metadata": {},
   "outputs": [
    {
     "data": {
      "text/plain": [
       "((2, 3), (2, 3), (6, 3), (2, 9))"
      ]
     },
     "execution_count": 176,
     "metadata": {},
     "output_type": "execute_result"
    }
   ],
   "source": [
    "a.shape, b.shape, c.shape, d.shape"
   ]
  },
  {
   "cell_type": "code",
   "execution_count": null,
   "metadata": {},
   "outputs": [],
   "source": [
    "#  예\n",
    "data1 = file1.csv\n",
    "data2 = file2.csv\n",
    "data = np.concatenate((data1, data2), axis=0)"
   ]
  },
  {
   "cell_type": "code",
   "execution_count": 225,
   "metadata": {},
   "outputs": [
    {
     "data": {
      "text/plain": [
       "array([[[ 0,  1,  2],\n",
       "        [ 3,  4,  5]],\n",
       "\n",
       "       [[ 6,  7,  8],\n",
       "        [ 9, 10, 11]],\n",
       "\n",
       "       [[12, 13, 14],\n",
       "        [15, 16, 17]],\n",
       "\n",
       "       [[18, 19, 20],\n",
       "        [21, 22, 23]]])"
      ]
     },
     "execution_count": 225,
     "metadata": {},
     "output_type": "execute_result"
    }
   ],
   "source": [
    "# Stack 쌓다 , axis를 지정한 곳에 배열들이 쌓임.\n",
    "c = np.stack((a,b,a_1,b_1), axis=0)\n",
    "c"
   ]
  },
  {
   "cell_type": "code",
   "execution_count": 188,
   "metadata": {},
   "outputs": [
    {
     "data": {
      "text/plain": [
       "((2, 3), (2, 3), (4, 2, 3))"
      ]
     },
     "execution_count": 188,
     "metadata": {},
     "output_type": "execute_result"
    }
   ],
   "source": [
    "a.shape, b.shape, c.shape"
   ]
  },
  {
   "cell_type": "code",
   "execution_count": 226,
   "metadata": {},
   "outputs": [
    {
     "data": {
      "text/plain": [
       "array([[[ 0,  1,  2],\n",
       "        [ 6,  7,  8],\n",
       "        [12, 13, 14],\n",
       "        [18, 19, 20]],\n",
       "\n",
       "       [[ 3,  4,  5],\n",
       "        [ 9, 10, 11],\n",
       "        [15, 16, 17],\n",
       "        [21, 22, 23]]])"
      ]
     },
     "execution_count": 226,
     "metadata": {},
     "output_type": "execute_result"
    }
   ],
   "source": [
    "d = np.stack((a,b,a_1,b_1), axis=1)\n",
    "d"
   ]
  },
  {
   "cell_type": "code",
   "execution_count": 190,
   "metadata": {},
   "outputs": [
    {
     "data": {
      "text/plain": [
       "((2, 3), (2, 3), (2, 4, 3))"
      ]
     },
     "execution_count": 190,
     "metadata": {},
     "output_type": "execute_result"
    }
   ],
   "source": [
    "a.shape, b.shape, c.shape, d.shape"
   ]
  },
  {
   "cell_type": "code",
   "execution_count": 227,
   "metadata": {},
   "outputs": [
    {
     "data": {
      "text/plain": [
       "array([[[ 0,  6, 12, 18],\n",
       "        [ 1,  7, 13, 19],\n",
       "        [ 2,  8, 14, 20]],\n",
       "\n",
       "       [[ 3,  9, 15, 21],\n",
       "        [ 4, 10, 16, 22],\n",
       "        [ 5, 11, 17, 23]]])"
      ]
     },
     "execution_count": 227,
     "metadata": {},
     "output_type": "execute_result"
    }
   ],
   "source": [
    "e = np.stack((a,b,a_1,b_1), axis=2) # 쌓으면 차원이 1 증가함.\n",
    "e"
   ]
  },
  {
   "cell_type": "code",
   "execution_count": 192,
   "metadata": {},
   "outputs": [
    {
     "data": {
      "text/plain": [
       "((2, 3), (2, 3), (4, 2, 3), (2, 4, 3), (2, 3, 4))"
      ]
     },
     "execution_count": 192,
     "metadata": {},
     "output_type": "execute_result"
    }
   ],
   "source": [
    "a.shape, b.shape, c.shape, d.shape, e.shape"
   ]
  },
  {
   "cell_type": "code",
   "execution_count": 194,
   "metadata": {},
   "outputs": [
    {
     "data": {
      "text/plain": [
       "array([[80, 70],\n",
       "       [90, 50],\n",
       "       [99, 60]])"
      ]
     },
     "execution_count": 194,
     "metadata": {},
     "output_type": "execute_result"
    }
   ],
   "source": [
    "# Stack 활용 예\n",
    "#[첫번째 학생, 두번째 학생, 세번째 학생]\n",
    "kor = [80,90,99]\n",
    "eng = [70,50,60]\n",
    "score = np.stack((kor, eng), axis=1)\n",
    "score"
   ]
  },
  {
   "cell_type": "code",
   "execution_count": 196,
   "metadata": {},
   "outputs": [
    {
     "data": {
      "text/plain": [
       "array([[80, 70, 20],\n",
       "       [90, 50, 30],\n",
       "       [99, 60, 40]])"
      ]
     },
     "execution_count": 196,
     "metadata": {},
     "output_type": "execute_result"
    }
   ],
   "source": [
    "math = [20,30,40]\n",
    "score1 = np.stack((kor,eng,math), axis=1)\n",
    "score1"
   ]
  },
  {
   "cell_type": "code",
   "execution_count": 205,
   "metadata": {},
   "outputs": [
    {
     "data": {
      "text/plain": [
       "array([[20],\n",
       "       [30],\n",
       "       [40]])"
      ]
     },
     "execution_count": 205,
     "metadata": {},
     "output_type": "execute_result"
    }
   ],
   "source": [
    "math_n = np.array([20,30,40]).reshape((3,1))\n",
    "math_n"
   ]
  },
  {
   "cell_type": "code",
   "execution_count": 206,
   "metadata": {},
   "outputs": [
    {
     "data": {
      "text/plain": [
       "array([[80, 70, 20],\n",
       "       [90, 50, 30],\n",
       "       [99, 60, 40]])"
      ]
     },
     "execution_count": 206,
     "metadata": {},
     "output_type": "execute_result"
    }
   ],
   "source": [
    "score2 = np.concatenate((score,math_n), axis=1)\n",
    "score2 = np.concatenate((score,math_n), axis=-1) # -1은 마지막열을 가리킴\n",
    "score2"
   ]
  },
  {
   "cell_type": "code",
   "execution_count": 202,
   "metadata": {},
   "outputs": [
    {
     "data": {
      "text/plain": [
       "array([[100,  90,  90]])"
      ]
     },
     "execution_count": 202,
     "metadata": {},
     "output_type": "execute_result"
    }
   ],
   "source": [
    "# 4번째 학생의 국영수 점수가 추가됐음\n",
    "student_4 = np.array([100,90,90]).reshape((1,3))\n",
    "student_4"
   ]
  },
  {
   "cell_type": "code",
   "execution_count": 229,
   "metadata": {},
   "outputs": [
    {
     "data": {
      "text/plain": [
       "array([[ 80,  70,  20],\n",
       "       [ 90,  50,  30],\n",
       "       [ 99,  60,  40],\n",
       "       [100,  90,  90]])"
      ]
     },
     "execution_count": 229,
     "metadata": {},
     "output_type": "execute_result"
    }
   ],
   "source": [
    "score3 = np.concatenate((score2,student_4), axis=0)\n",
    "score3"
   ]
  },
  {
   "cell_type": "code",
   "execution_count": 230,
   "metadata": {},
   "outputs": [
    {
     "data": {
      "text/plain": [
       "(4, 3)"
      ]
     },
     "execution_count": 230,
     "metadata": {},
     "output_type": "execute_result"
    }
   ],
   "source": [
    "score3.shape"
   ]
  },
  {
   "cell_type": "code",
   "execution_count": 216,
   "metadata": {},
   "outputs": [
    {
     "data": {
      "text/plain": [
       "array([92.25, 67.5 , 45.  ])"
      ]
     },
     "execution_count": 216,
     "metadata": {},
     "output_type": "execute_result"
    }
   ],
   "source": [
    "# 각 과목별 평균은?\n",
    "np.mean(score3, axis=0)"
   ]
  },
  {
   "cell_type": "code",
   "execution_count": 219,
   "metadata": {},
   "outputs": [
    {
     "data": {
      "text/plain": [
       "array([56.66666667, 56.66666667, 66.33333333, 93.33333333])"
      ]
     },
     "execution_count": 219,
     "metadata": {},
     "output_type": "execute_result"
    }
   ],
   "source": [
    "# 학생의 평균 점수는?\n",
    "np.mean(score3, axis=1)"
   ]
  },
  {
   "cell_type": "code",
   "execution_count": 218,
   "metadata": {},
   "outputs": [
    {
     "data": {
      "text/plain": [
       "93.33333333333333"
      ]
     },
     "execution_count": 218,
     "metadata": {},
     "output_type": "execute_result"
    }
   ],
   "source": [
    "# 시험을 가장 잘 본 학생의 평균 점수는?\n",
    "np.max(np.mean(score3, axis=1))"
   ]
  },
  {
   "cell_type": "code",
   "execution_count": 233,
   "metadata": {},
   "outputs": [],
   "source": [
    "# np.save() : Save an array to a binary file in NumPy ``.npy`` format.\n",
    "# Save an array to a text file., %.18e, %10.5f : 소수 5째자리까지 저장(default)\n",
    "np.savetxt('score_sample1.txt',score3) # 소수점 18개까지\n",
    "np.savetxt('score_sample.txt',score3, '%d') # 포맷은 정수로 저장"
   ]
  },
  {
   "cell_type": "code",
   "execution_count": 237,
   "metadata": {},
   "outputs": [
    {
     "data": {
      "text/plain": [
       "(array([[ 80.,  70.,  20.],\n",
       "        [ 90.,  50.,  30.],\n",
       "        [ 99.,  60.,  40.],\n",
       "        [100.,  90.,  90.]]), array([[ 80,  70,  20],\n",
       "        [ 90,  50,  30],\n",
       "        [ 99,  60,  40],\n",
       "        [100,  90,  90]]))"
      ]
     },
     "execution_count": 237,
     "metadata": {},
     "output_type": "execute_result"
    }
   ],
   "source": [
    "# read, open, load\n",
    "s = np.loadtxt('score_sample.txt')          # 기본 타입 : float\n",
    "s1 = np.loadtxt('score_sample.txt',dtype='int32')   # 타입 설정 : int32\n",
    "s, s1"
   ]
  },
  {
   "cell_type": "code",
   "execution_count": 239,
   "metadata": {},
   "outputs": [
    {
     "data": {
      "text/plain": [
       "array([[ 80.,  70.,  20.],\n",
       "       [ 90.,  50.,  30.],\n",
       "       [ 99.,  60.,  40.],\n",
       "       [100.,  90.,  90.]])"
      ]
     },
     "execution_count": 239,
     "metadata": {},
     "output_type": "execute_result"
    }
   ],
   "source": [
    "s[:]    # s[:] == s[:,:]"
   ]
  },
  {
   "cell_type": "code",
   "execution_count": 240,
   "metadata": {},
   "outputs": [
    {
     "data": {
      "text/plain": [
       "array([[ 20.,  70.,  80.],\n",
       "       [ 30.,  50.,  90.],\n",
       "       [ 40.,  60.,  99.],\n",
       "       [ 90.,  90., 100.]])"
      ]
     },
     "execution_count": 240,
     "metadata": {},
     "output_type": "execute_result"
    }
   ],
   "source": [
    "s[:, ::-1]  # 시작부터 끝까지 거꾸로"
   ]
  },
  {
   "cell_type": "code",
   "execution_count": 241,
   "metadata": {},
   "outputs": [
    {
     "data": {
      "text/plain": [
       "array([[ 80.,  20.],\n",
       "       [ 90.,  30.],\n",
       "       [ 99.,  40.],\n",
       "       [100.,  90.]])"
      ]
     },
     "execution_count": 241,
     "metadata": {},
     "output_type": "execute_result"
    }
   ],
   "source": [
    "s[:, ::2]  # 시작부터 끝까지 2 스템(간격)으로 출력"
   ]
  },
  {
   "cell_type": "code",
   "execution_count": 243,
   "metadata": {},
   "outputs": [
    {
     "data": {
      "text/plain": [
       "array([0, 1, 2, 3, 4, 5, 6, 7, 8, 9])"
      ]
     },
     "execution_count": 243,
     "metadata": {},
     "output_type": "execute_result"
    }
   ],
   "source": [
    "a = np.arange(10)\n",
    "a"
   ]
  },
  {
   "cell_type": "code",
   "execution_count": 249,
   "metadata": {},
   "outputs": [
    {
     "data": {
      "text/plain": [
       "(array([0, 2, 4, 6, 8]),\n",
       " array([1, 3, 5, 7, 9]),\n",
       " array([2, 4]),\n",
       " array([4, 2, 0]))"
      ]
     },
     "execution_count": 249,
     "metadata": {},
     "output_type": "execute_result"
    }
   ],
   "source": [
    "# 시작부터 끝까지 2칸씩 뛰면서 = 짝수\n",
    "# 1번째 요소부터 끝까지 2칸씩 뛰면서 = 홀수\n",
    "# 2번째 요소부터 6번째 요소까지 2칸씩 뛰면서\n",
    "# [시작:끝:간격] 생략하면 기본값 시작=0, 끝=끝, 간격=1(-1은 반대로)\n",
    "a[::2], a[1::2], a[2:6:2], a[4::-2]"
   ]
  },
  {
   "cell_type": "code",
   "execution_count": 251,
   "metadata": {},
   "outputs": [
    {
     "data": {
      "text/plain": [
       "[array([0, 1, 2]), array([3, 4]), array([5, 6, 7]), array([8, 9])]"
      ]
     },
     "execution_count": 251,
     "metadata": {},
     "output_type": "execute_result"
    }
   ],
   "source": [
    "# 분리하기, index의 복수 = indices 3, 5, 8의 위치로 분리(자름)\n",
    "np.split(a,[3,5,8])"
   ]
  },
  {
   "cell_type": "code",
   "execution_count": 253,
   "metadata": {},
   "outputs": [
    {
     "data": {
      "text/plain": [
       "[array([0, 1]), array([2, 3]), array([4, 5]), array([6, 7]), array([8, 9])]"
      ]
     },
     "execution_count": 253,
     "metadata": {},
     "output_type": "execute_result"
    }
   ],
   "source": [
    "# 분리하기 section 갯수로 자르기 => a의 배열을 5개로 나누기  \n",
    "# 머신러닝에서 데이터 셋을 k개 분리해서 k-flod validation set을 만듦\n",
    "# k = 3 이라면, 데이터를 3개로 분리해서 2개 셋은 학습, 1개 셋은 테스트로 사용\n",
    "'''\n",
    "3-flod validation set\n",
    "ABC\n",
    "학습 : AB / 테스트 : C\n",
    "학습 : BC / 테스트 : A\n",
    "학습 : AC / 테스트 : B\n",
    "'''\n",
    "np.split(a,5)"
   ]
  },
  {
   "cell_type": "code",
   "execution_count": 254,
   "metadata": {},
   "outputs": [
    {
     "data": {
      "text/plain": [
       "[array([0, 1, 2, 3, 4]), array([5, 6, 7, 8, 9])]"
      ]
     },
     "execution_count": 254,
     "metadata": {},
     "output_type": "execute_result"
    }
   ],
   "source": [
    "# 분리하기 section 갯수로 자르기 => a의 배열을 2개로 나누기\n",
    "np.split(a,2)"
   ]
  },
  {
   "cell_type": "markdown",
   "metadata": {},
   "source": [
    "### 브로드 캐스팅\n",
    "- 배열의 모양이 서로 다를 때 연산이 가능하게 해주는 기능"
   ]
  },
  {
   "cell_type": "code",
   "execution_count": 255,
   "metadata": {},
   "outputs": [
    {
     "data": {
      "text/plain": [
       "array([ 0,  2,  4,  6,  8, 10, 12, 14, 16, 18])"
      ]
     },
     "execution_count": 255,
     "metadata": {},
     "output_type": "execute_result"
    }
   ],
   "source": [
    "a * 2 # 브로드 캐스팅이 적용되어서 연산 가능"
   ]
  },
  {
   "cell_type": "code",
   "execution_count": 257,
   "metadata": {},
   "outputs": [
    {
     "data": {
      "text/plain": [
       "array([[ 0,  0,  0],\n",
       "       [10, 10, 10],\n",
       "       [20, 20, 20],\n",
       "       [30, 30, 30]])"
      ]
     },
     "execution_count": 257,
     "metadata": {},
     "output_type": "execute_result"
    }
   ],
   "source": [
    "a = np.array([0,10,20,30])\n",
    "a = np.stack((a,a,a),1)      # np.repeat, np.tile로 배열 복제 가능\n",
    "a"
   ]
  },
  {
   "cell_type": "code",
   "execution_count": 258,
   "metadata": {},
   "outputs": [
    {
     "data": {
      "text/plain": [
       "array([0, 1, 2])"
      ]
     },
     "execution_count": 258,
     "metadata": {},
     "output_type": "execute_result"
    }
   ],
   "source": [
    "b = np.array([0,1,2])\n",
    "b"
   ]
  },
  {
   "cell_type": "code",
   "execution_count": 259,
   "metadata": {},
   "outputs": [
    {
     "data": {
      "text/plain": [
       "array([[ 0,  1,  2],\n",
       "       [10, 11, 12],\n",
       "       [20, 21, 22],\n",
       "       [30, 31, 32]])"
      ]
     },
     "execution_count": 259,
     "metadata": {},
     "output_type": "execute_result"
    }
   ],
   "source": [
    "a + b"
   ]
  },
  {
   "cell_type": "code",
   "execution_count": 267,
   "metadata": {},
   "outputs": [
    {
     "data": {
      "text/plain": [
       "array([[ 0,  1,  2],\n",
       "       [10, 11, 12],\n",
       "       [20, 21, 22],\n",
       "       [30, 31, 32]])"
      ]
     },
     "execution_count": 267,
     "metadata": {},
     "output_type": "execute_result"
    }
   ],
   "source": [
    "c = np.array([0,10,20,30]).reshape(4,1)\n",
    "c+b"
   ]
  },
  {
   "cell_type": "code",
   "execution_count": 268,
   "metadata": {},
   "outputs": [
    {
     "data": {
      "text/plain": [
       "((4, 1), (3,))"
      ]
     },
     "execution_count": 268,
     "metadata": {},
     "output_type": "execute_result"
    }
   ],
   "source": [
    "# 강사의 예시\n",
    "d = np.arange(4)*10\n",
    "d = d.reshape([-1,1])  \n",
    "e = np.arange(3)\n",
    "d.shape, e.shape"
   ]
  },
  {
   "cell_type": "code",
   "execution_count": 270,
   "metadata": {},
   "outputs": [
    {
     "data": {
      "text/plain": [
       "(array([[ 0,  1,  2],\n",
       "        [10, 11, 12],\n",
       "        [20, 21, 22],\n",
       "        [30, 31, 32]]), array([[ 0,  0,  0],\n",
       "        [ 0, 10, 20],\n",
       "        [ 0, 20, 40],\n",
       "        [ 0, 30, 60]]))"
      ]
     },
     "execution_count": 270,
     "metadata": {},
     "output_type": "execute_result"
    }
   ],
   "source": [
    "# 브로드 캐스팅\n",
    "d + e, d * e"
   ]
  },
  {
   "cell_type": "markdown",
   "metadata": {},
   "source": [
    "비교 > < == >="
   ]
  },
  {
   "cell_type": "code",
   "execution_count": 271,
   "metadata": {},
   "outputs": [
    {
     "data": {
      "text/plain": [
       "False"
      ]
     },
     "execution_count": 271,
     "metadata": {},
     "output_type": "execute_result"
    }
   ],
   "source": [
    "7 == 3"
   ]
  },
  {
   "cell_type": "code",
   "execution_count": 276,
   "metadata": {},
   "outputs": [
    {
     "data": {
      "text/plain": [
       "array([0, 1, 2, 3, 4, 5, 6, 7])"
      ]
     },
     "execution_count": 276,
     "metadata": {},
     "output_type": "execute_result"
    }
   ],
   "source": [
    "a = np.arange(8)\n",
    "b = np.arange(1,3)\n",
    "a"
   ]
  },
  {
   "cell_type": "code",
   "execution_count": 277,
   "metadata": {},
   "outputs": [
    {
     "data": {
      "text/plain": [
       "array([False, False, False,  True,  True,  True,  True,  True])"
      ]
     },
     "execution_count": 277,
     "metadata": {},
     "output_type": "execute_result"
    }
   ],
   "source": [
    "mask = a > 2\n",
    "mask"
   ]
  },
  {
   "cell_type": "code",
   "execution_count": 278,
   "metadata": {},
   "outputs": [
    {
     "data": {
      "text/plain": [
       "array([3, 4, 5, 6, 7])"
      ]
     },
     "execution_count": 278,
     "metadata": {},
     "output_type": "execute_result"
    }
   ],
   "source": [
    "# True 인 값만 선택됩니다. boolean mask 를 이용한 indexing\n",
    "a[mask]"
   ]
  },
  {
   "cell_type": "code",
   "execution_count": 282,
   "metadata": {},
   "outputs": [
    {
     "data": {
      "text/plain": [
       "array([ True,  True,  True, False, False, False, False, False])"
      ]
     },
     "execution_count": 282,
     "metadata": {},
     "output_type": "execute_result"
    }
   ],
   "source": [
    "n_mask = np.logical_not(mask)\n",
    "n_mask"
   ]
  },
  {
   "cell_type": "code",
   "execution_count": 284,
   "metadata": {},
   "outputs": [
    {
     "data": {
      "text/plain": [
       "array([False, False, False,  True,  True,  True,  True,  True])"
      ]
     },
     "execution_count": 284,
     "metadata": {},
     "output_type": "execute_result"
    }
   ],
   "source": [
    "np.logical_and(mask, mask)"
   ]
  },
  {
   "cell_type": "code",
   "execution_count": 289,
   "metadata": {},
   "outputs": [
    {
     "data": {
      "text/plain": [
       "array([4, 6])"
      ]
     },
     "execution_count": 289,
     "metadata": {},
     "output_type": "execute_result"
    }
   ],
   "source": [
    "# 짝수이면서 2보다 큰 값을 뽑으세요. logical_and, [mask]를 이용\n",
    "mask0 = a % 2 == 0\n",
    "mask1 = a > 2\n",
    "mask2 = np.logical_and(mask0, mask1)\n",
    "a[mask2]"
   ]
  },
  {
   "cell_type": "code",
   "execution_count": 293,
   "metadata": {},
   "outputs": [
    {
     "data": {
      "text/plain": [
       "(array([0, 1, 2, 3, 4, 5, 6, 7]), array([7, 6, 5, 4, 3, 2, 1, 0]))"
      ]
     },
     "execution_count": 293,
     "metadata": {},
     "output_type": "execute_result"
    }
   ],
   "source": [
    "# 정렬\n",
    "np.sort(a),a[::-1]"
   ]
  },
  {
   "cell_type": "markdown",
   "metadata": {},
   "source": []
  }
 ],
 "metadata": {
  "kernelspec": {
   "display_name": "Python 3",
   "language": "python",
   "name": "python3"
  },
  "language_info": {
   "codemirror_mode": {
    "name": "ipython",
    "version": 3
   },
   "file_extension": ".py",
   "mimetype": "text/x-python",
   "name": "python",
   "nbconvert_exporter": "python",
   "pygments_lexer": "ipython3",
   "version": "3.7.3"
  }
 },
 "nbformat": 4,
 "nbformat_minor": 2
}
